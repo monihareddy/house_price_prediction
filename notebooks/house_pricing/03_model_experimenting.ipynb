{
 "cells": [
  {
   "attachments": {},
   "cell_type": "markdown",
   "metadata": {},
   "source": [
    "# Purpose"
   ]
  },
  {
   "attachments": {},
   "cell_type": "markdown",
   "metadata": {},
   "source": [
    "This notebook demonstrates the model experimentation and finalization. It covers EDA, outlier treatment, transformation, training, model evaluation and comparison across models."
   ]
  },
  {
   "attachments": {},
   "cell_type": "markdown",
   "metadata": {},
   "source": [
    "## Imports"
   ]
  },
  {
   "cell_type": "code",
   "execution_count": 1,
   "metadata": {},
   "outputs": [],
   "source": [
    "import os\n",
    "import os.path as op\n",
    "import shutil\n",
    "\n",
    "# standard third party imports\n",
    "import numpy as np\n",
    "import pandas as pd\n",
    "from matplotlib import pyplot as plt\n",
    "from sklearn.pipeline import Pipeline\n",
    "from sklearn.feature_selection import SelectFromModel\n",
    "from sklearn.model_selection import GridSearchCV\n",
    "from sklearn.preprocessing import FunctionTransformer\n",
    "from sklearn.compose import ColumnTransformer\n",
    "\n",
    "# impute missing values\n",
    "from sklearn.experimental import enable_iterative_imputer  # noqa\n",
    "from sklearn.impute import KNNImputer, IterativeImputer, SimpleImputer\n",
    "from sklearn.tree import DecisionTreeRegressor\n",
    "from category_encoders import TargetEncoder\n"
   ]
  },
  {
   "cell_type": "code",
   "execution_count": 2,
   "metadata": {},
   "outputs": [],
   "source": [
    "%load_ext autoreload\n",
    "%autoreload 2"
   ]
  },
  {
   "cell_type": "code",
   "execution_count": 3,
   "metadata": {},
   "outputs": [],
   "source": [
    "import warnings\n",
    "\n",
    "warnings.filterwarnings('ignore', message=\"pandas.Int64Index is deprecated and will be removed from pandas in a future version. Use pandas.Index with the appropriate dtype instead.\", \n",
    "                        category=FutureWarning)\n",
    "warnings.filterwarnings('ignore', message=\"pandas.Float64Index is deprecated and will be removed from pandas in a future version. Use pandas.Index with the appropriate dtype instead.\",\n",
    "                        category=FutureWarning)"
   ]
  },
  {
   "cell_type": "code",
   "execution_count": null,
   "metadata": {},
   "outputs": [],
   "source": [
    "# standard code-template imports\n",
    "from ta_lib.core.api import (\n",
    "    create_context, get_dataframe, get_feature_names_from_column_transformer, string_cleaning,\n",
    "    get_package_path, display_as_tabs, save_pipeline, load_pipeline, initialize_environment,\n",
    "    load_dataset, save_dataset, DEFAULT_ARTIFACTS_PATH\n",
    ")\n",
    "\n",
    "import ta_lib.eda.api as eda\n",
    "from xgboost import XGBRegressor\n",
    "from ta_lib.regression.api import SKLStatsmodelOLS\n",
    "from ta_lib.regression.api import RegressionComparison, RegressionReport\n",
    "import ta_lib.reports.api as reports\n",
    "from ta_lib.data_processing.api import Outlier\n",
    "\n",
    "initialize_environment(debug=False, hide_warnings=True)"
   ]
  },
  {
   "attachments": {},
   "cell_type": "markdown",
   "metadata": {},
   "source": [
    "# Initialization"
   ]
  },
  {
   "cell_type": "code",
   "execution_count": 5,
   "metadata": {},
   "outputs": [],
   "source": [
    "artifacts_folder = DEFAULT_ARTIFACTS_PATH"
   ]
  },
  {
   "cell_type": "code",
   "execution_count": 6,
   "metadata": {},
   "outputs": [],
   "source": [
    "config_path = op.join('conf', 'config.yml')\n",
    "context = create_context(config_path)"
   ]
  },
  {
   "attachments": {},
   "cell_type": "markdown",
   "metadata": {},
   "source": [
    "# 3 Feature Engineering\n",
    "\n",
    "The focus here is the `Pipeline` and not the model. Though the model would inform the pipeline that is needed to train the model, our focus is to set it up in such a way that it can be saved/loaded, tweaked for different model choices and so on."
   ]
  },
  {
   "attachments": {},
   "cell_type": "markdown",
   "metadata": {},
   "source": [
    "## 3.1 Read the Train and Test Data"
   ]
  },
  {
   "cell_type": "code",
   "execution_count": 7,
   "metadata": {},
   "outputs": [
    {
     "name": "stdout",
     "output_type": "stream",
     "text": [
      "(16512, 9) (16512, 1)\n",
      "(4128, 9) (4128, 1)\n"
     ]
    }
   ],
   "source": [
    "train_X = load_dataset(context, 'train/housing/features')\n",
    "train_y = load_dataset(context, 'train/housing/target')\n",
    "print(train_X.shape, train_y.shape)\n",
    "\n",
    "test_X = load_dataset(context, 'test/housing/features')\n",
    "test_y = load_dataset(context, 'test/housing/target')\n",
    "print(test_X.shape, test_y.shape)"
   ]
  },
  {
   "attachments": {},
   "cell_type": "markdown",
   "metadata": {},
   "source": [
    "## 3.2 Feature Engineering Pipelines\n"
   ]
  },
  {
   "attachments": {},
   "cell_type": "markdown",
   "metadata": {},
   "source": [
    "**Dev NOTES**\n",
    "\n",
    "For Feature Engineering and Model Building sklearn.pipeline.Pipeline are leveraged because of the following advantages\n",
    "<details>\n",
    "    \n",
    "1. It helps in automating workflows and are easier to read and comprehend.\n",
    "2. Right Sequence can be ensured and (for example always encodes before imputing)\n",
    "3. Reproducibility is very convenient with pipelines\n",
    "4. Pipelines help you prevent data leakage in your test data\n",
    "5. Code is near implementation ready"
   ]
  },
  {
   "attachments": {},
   "cell_type": "markdown",
   "metadata": {},
   "source": [
    "#### General Steps in the Feature Transformation are as follows\n",
    " - Outlier Treatment\n",
    " - Encoding of Categorical Columns\n",
    " - Missing Values Imputation"
   ]
  },
  {
   "cell_type": "code",
   "execution_count": 8,
   "metadata": {},
   "outputs": [],
   "source": [
    "# collecting different types of columns for transformations\n",
    "cat_columns = train_X.select_dtypes('object').columns\n",
    "num_columns = train_X.select_dtypes('number').columns"
   ]
  },
  {
   "attachments": {},
   "cell_type": "markdown",
   "metadata": {},
   "source": [
    "#### Outlier Handling\n",
    "- A Custom Transformer is used to handle outliers. It is not included as part of the pipeline as outliers handling are optional for test data\n",
    "- An option to either drop or cap the outliers can be passed during the transform call\n",
    "- If we want to treat outliers for some columns them we can pass cols argument to the Transformer\n",
    "- This will go into production code"
   ]
  },
  {
   "cell_type": "code",
   "execution_count": 9,
   "metadata": {},
   "outputs": [
    {
     "name": "stdout",
     "output_type": "stream",
     "text": [
      "(16512, 9)\n",
      "(16512, 9)\n"
     ]
    }
   ],
   "source": [
    "outlier_transformer = Outlier(method='mean')\n",
    "print(train_X.shape)\n",
    "train_X = outlier_transformer.fit_transform(train_X)\n",
    "print(train_X.shape)"
   ]
  },
  {
   "attachments": {},
   "cell_type": "markdown",
   "metadata": {},
   "source": [
    "#### Encoding\n"
   ]
  },
  {
   "attachments": {},
   "cell_type": "markdown",
   "metadata": {},
   "source": [
    "Some sample pipelines showcasing how to create column specific pipelines and integrating them overall is presented below\n",
    "\n",
    "- Commonly target encoding is done for categorical variables with too many levels.\n",
    "- We also group sparse levels. For fewer levels one hot encoding/label encoding is preferred.\n",
    "- If there is one dominant level, we can use binary encoding.\n",
    "- This will go into production code"
   ]
  },
  {
   "cell_type": "code",
   "execution_count": 12,
   "metadata": {},
   "outputs": [],
   "source": [
    "tgt_enc_simple_impt = Pipeline([\n",
    "    ('target_encoding', TargetEncoder(return_df=False)),\n",
    "    ('simple_impute', SimpleImputer(strategy='most_frequent')),\n",
    "])\n",
    "\n",
    "\n",
    "# NOTE: the list of transformations here are not sequential but weighted \n",
    "# (if multiple transforms are specified for a particular column)\n",
    "# for sequential transforms use a pipeline as shown above.\n",
    "features_transformer = ColumnTransformer([\n",
    "    \n",
    "    ## categorical columns\n",
    "    ('tgt_enc', TargetEncoder(return_df=False),cat_columns),\n",
    "          \n",
    "    ## numeric columns\n",
    "    ('med_enc', SimpleImputer(strategy='median'), num_columns),\n",
    "    \n",
    "])\n"
   ]
  },
  {
   "attachments": {},
   "cell_type": "markdown",
   "metadata": {},
   "source": [
    "**Dev notes(Encoding):**\n",
    "<details>\n",
    "\n",
    "    Some common practices followed in Categorical Feature Encoding are\n",
    "    * For categorical variables with too many levels, target encoding can be done.\n",
    "    * For fewer levels, one hot encoding can be done.\n",
    "    * If one very dominant level is observed, binary encoding can be used.\n",
    "    \n",
    "    \n",
    "</details>"
   ]
  },
  {
   "attachments": {},
   "cell_type": "markdown",
   "metadata": {},
   "source": [
    "## 3.2 Feature analysis\n",
    "\n",
    "Using the pipeline above analyze the features and decide on additional features to add/remove from the pipeline. This section will not be part of the production code, unless input data drifts etc. are explicitly demanded in the project.\n",
    "\n",
    "Here we are primarily focused on feature selection/elimination based on business rules, prior knowledge, data analysis.\n",
    "\n",
    "**We are not building any models at this point.**\n"
   ]
  },
  {
   "attachments": {},
   "cell_type": "markdown",
   "metadata": {},
   "source": [
    "- we create some sample data to analyze that we assume represent the population\n",
    "- train the features transformer and do the analysis as below"
   ]
  },
  {
   "cell_type": "code",
   "execution_count": 13,
   "metadata": {},
   "outputs": [],
   "source": [
    "sample_X = train_X.sample(frac=0.1, random_state=context.random_seed)\n",
    "sample_y = train_y.loc[sample_X.index]\n",
    "\n",
    "sample_train_X = get_dataframe(\n",
    "    features_transformer.fit_transform(sample_X, sample_y), \n",
    "    get_feature_names_from_column_transformer(features_transformer)\n",
    ")\n",
    "\n",
    "# nothing to do for target\n",
    "sample_train_y = sample_y"
   ]
  },
  {
   "attachments": {},
   "cell_type": "markdown",
   "metadata": {},
   "source": [
    "Running the features transformer on the complete data"
   ]
  },
  {
   "cell_type": "code",
   "execution_count": 14,
   "metadata": {},
   "outputs": [],
   "source": [
    "train_X = get_dataframe(\n",
    "    features_transformer.fit_transform(train_X, train_y), \n",
    "    get_feature_names_from_column_transformer(features_transformer)\n",
    ")"
   ]
  },
  {
   "cell_type": "code",
   "execution_count": 15,
   "metadata": {},
   "outputs": [
    {
     "data": {
      "text/plain": [
       "Index(['ocean_proximity', 'longitude', 'latitude', 'housing_median_age',\n",
       "       'total_rooms', 'total_bedrooms', 'population', 'households',\n",
       "       'median_income'],\n",
       "      dtype='object')"
      ]
     },
     "execution_count": 15,
     "metadata": {},
     "output_type": "execute_result"
    }
   ],
   "source": [
    "train_X.columns"
   ]
  },
  {
   "attachments": {},
   "cell_type": "markdown",
   "metadata": {},
   "source": [
    "### 3.2.1 Univariate\n",
    "\n",
    "\n",
    "- Look at each variable independently. This is useful if your models have assumptions on the distribution and/or bounds on the features/target"
   ]
  },
  {
   "cell_type": "code",
   "execution_count": 16,
   "metadata": {},
   "outputs": [
    {
     "data": {},
     "metadata": {},
     "output_type": "display_data"
    },
    {
     "data": {
      "application/vnd.holoviews_exec.v0+json": "",
      "text/html": [
       "<div id='1002'>\n",
       "  <div class=\"bk-root\" id=\"f024c97d-9322-4a64-8726-99097f5880d1\" data-root-id=\"1002\"></div>\n",
       "</div>\n",
       "<script type=\"application/javascript\">(function(root) {\n",
       "  function embed_document(root) {\n",
       "    var docs_json = {\"c8a9dc55-b527-4bc1-9c2f-d55eba664243\":{\"defs\":[{\"extends\":null,\"module\":null,\"name\":\"ReactiveHTML1\",\"overrides\":[],\"properties\":[]},{\"extends\":null,\"module\":null,\"name\":\"FlexBox1\",\"overrides\":[],\"properties\":[{\"default\":\"flex-start\",\"kind\":null,\"name\":\"align_content\"},{\"default\":\"flex-start\",\"kind\":null,\"name\":\"align_items\"},{\"default\":\"row\",\"kind\":null,\"name\":\"flex_direction\"},{\"default\":\"wrap\",\"kind\":null,\"name\":\"flex_wrap\"},{\"default\":\"flex-start\",\"kind\":null,\"name\":\"justify_content\"}]},{\"extends\":null,\"module\":null,\"name\":\"GridStack1\",\"overrides\":[],\"properties\":[{\"default\":\"warn\",\"kind\":null,\"name\":\"mode\"},{\"default\":null,\"kind\":null,\"name\":\"ncols\"},{\"default\":null,\"kind\":null,\"name\":\"nrows\"},{\"default\":true,\"kind\":null,\"name\":\"allow_resize\"},{\"default\":true,\"kind\":null,\"name\":\"allow_drag\"},{\"default\":[],\"kind\":null,\"name\":\"state\"}]},{\"extends\":null,\"module\":null,\"name\":\"click1\",\"overrides\":[],\"properties\":[{\"default\":\"\",\"kind\":null,\"name\":\"terminal_output\"},{\"default\":\"\",\"kind\":null,\"name\":\"debug_name\"},{\"default\":0,\"kind\":null,\"name\":\"clears\"}]},{\"extends\":null,\"module\":null,\"name\":\"NotificationAreaBase1\",\"overrides\":[],\"properties\":[{\"default\":\"bottom-right\",\"kind\":null,\"name\":\"position\"},{\"default\":0,\"kind\":null,\"name\":\"_clear\"}]},{\"extends\":null,\"module\":null,\"name\":\"NotificationArea1\",\"overrides\":[],\"properties\":[{\"default\":[],\"kind\":null,\"name\":\"notifications\"},{\"default\":\"bottom-right\",\"kind\":null,\"name\":\"position\"},{\"default\":0,\"kind\":null,\"name\":\"_clear\"},{\"default\":[{\"background\":\"#ffc107\",\"icon\":{\"className\":\"fas fa-exclamation-triangle\",\"color\":\"white\",\"tagName\":\"i\"},\"type\":\"warning\"},{\"background\":\"#007bff\",\"icon\":{\"className\":\"fas fa-info-circle\",\"color\":\"white\",\"tagName\":\"i\"},\"type\":\"info\"}],\"kind\":null,\"name\":\"types\"}]},{\"extends\":null,\"module\":null,\"name\":\"Notification\",\"overrides\":[],\"properties\":[{\"default\":null,\"kind\":null,\"name\":\"background\"},{\"default\":3000,\"kind\":null,\"name\":\"duration\"},{\"default\":null,\"kind\":null,\"name\":\"icon\"},{\"default\":\"\",\"kind\":null,\"name\":\"message\"},{\"default\":null,\"kind\":null,\"name\":\"notification_type\"},{\"default\":false,\"kind\":null,\"name\":\"_destroyed\"}]},{\"extends\":null,\"module\":null,\"name\":\"TemplateActions1\",\"overrides\":[],\"properties\":[{\"default\":0,\"kind\":null,\"name\":\"open_modal\"},{\"default\":0,\"kind\":null,\"name\":\"close_modal\"}]},{\"extends\":null,\"module\":null,\"name\":\"MaterialTemplateActions1\",\"overrides\":[],\"properties\":[{\"default\":0,\"kind\":null,\"name\":\"open_modal\"},{\"default\":0,\"kind\":null,\"name\":\"close_modal\"}]}],\"roots\":{\"references\":[{\"attributes\":{\"coordinates\":null,\"group\":null,\"text\":\"Density Plot for ocean_proximity\",\"text_color\":\"black\",\"text_font_size\":\"12pt\"},\"id\":\"1011\",\"type\":\"Title\"},{\"attributes\":{\"axis_label\":\"ocean_proximity_density, y\",\"coordinates\":null,\"formatter\":{\"id\":\"1071\"},\"group\":null,\"major_label_policy\":{\"id\":\"1072\"},\"ticker\":{\"id\":\"1070\"},\"y_range_name\":\"twiny\"},\"id\":\"1065\",\"type\":\"LinearAxis\"},{\"attributes\":{},\"id\":\"1071\",\"type\":\"BasicTickFormatter\"},{\"attributes\":{},\"id\":\"1070\",\"type\":\"BasicTicker\"},{\"attributes\":{\"bottom\":{\"value\":0},\"fill_color\":{\"value\":\"#00fff0\"},\"hatch_color\":{\"value\":\"#00fff0\"},\"left\":{\"field\":\"left\"},\"right\":{\"field\":\"right\"},\"top\":{\"field\":\"top\"}},\"id\":\"1049\",\"type\":\"Quad\"},{\"attributes\":{\"axis_label\":\"ocean_proximity\",\"coordinates\":null,\"formatter\":{\"id\":\"1041\"},\"group\":null,\"major_label_policy\":{\"id\":\"1042\"},\"ticker\":{\"id\":\"1020\"}},\"id\":\"1019\",\"type\":\"LinearAxis\"},{\"attributes\":{},\"id\":\"1072\",\"type\":\"AllLabels\"},{\"attributes\":{},\"id\":\"1172\",\"type\":\"Selection\"},{\"attributes\":{},\"id\":\"1020\",\"type\":\"BasicTicker\"},{\"attributes\":{\"axis\":{\"id\":\"1019\"},\"coordinates\":null,\"grid_line_color\":null,\"group\":null,\"ticker\":null},\"id\":\"1022\",\"type\":\"Grid\"},{\"attributes\":{\"editor\":{\"id\":\"1371\"},\"field\":\"mean\",\"formatter\":{\"id\":\"1370\"},\"title\":\"mean\"},\"id\":\"1372\",\"type\":\"TableColumn\"},{\"attributes\":{},\"id\":\"1396\",\"type\":\"NumberEditor\"},{\"attributes\":{},\"id\":\"1017\",\"type\":\"LinearScale\"},{\"attributes\":{\"fill_alpha\":0.5,\"fill_color\":\"#30a2da\",\"hatch_color\":\"#30a2da\",\"x\":{\"field\":\"x\"},\"y\":{\"field\":\"y\"}},\"id\":\"1063\",\"type\":\"Patch\"},{\"attributes\":{},\"id\":\"1376\",\"type\":\"NumberEditor\"},{\"attributes\":{},\"id\":\"1042\",\"type\":\"AllLabels\"},{\"attributes\":{\"axis_label\":\"Frequency\",\"coordinates\":null,\"formatter\":{\"id\":\"1044\"},\"group\":null,\"major_label_policy\":{\"id\":\"1045\"},\"ticker\":{\"id\":\"1024\"}},\"id\":\"1023\",\"type\":\"LinearAxis\"},{\"attributes\":{},\"id\":\"1024\",\"type\":\"BasicTicker\"},{\"attributes\":{},\"id\":\"1056\",\"type\":\"Selection\"},{\"attributes\":{\"axis\":{\"id\":\"1023\"},\"coordinates\":null,\"dimension\":1,\"grid_line_color\":null,\"group\":null,\"ticker\":null},\"id\":\"1026\",\"type\":\"Grid\"},{\"attributes\":{},\"id\":\"1076\",\"type\":\"UnionRenderers\"},{\"attributes\":{},\"id\":\"1027\",\"type\":\"SaveTool\"},{\"attributes\":{\"bottom_units\":\"screen\",\"coordinates\":null,\"fill_alpha\":0.5,\"fill_color\":\"lightgrey\",\"group\":null,\"left_units\":\"screen\",\"level\":\"overlay\",\"line_alpha\":1.0,\"line_color\":\"black\",\"line_dash\":[4,4],\"line_width\":2,\"right_units\":\"screen\",\"syncable\":false,\"top_units\":\"screen\"},\"id\":\"1032\",\"type\":\"BoxAnnotation\"},{\"attributes\":{},\"id\":\"1028\",\"type\":\"PanTool\"},{\"attributes\":{\"columns\":[{\"id\":\"1367\"},{\"id\":\"1372\"},{\"id\":\"1377\"},{\"id\":\"1382\"},{\"id\":\"1387\"},{\"id\":\"1392\"},{\"id\":\"1397\"},{\"id\":\"1402\"}],\"height\":60,\"reorderable\":false,\"source\":{\"id\":\"1171\"},\"view\":{\"id\":\"1215\"}},\"id\":\"1213\",\"type\":\"DataTable\"},{\"attributes\":{},\"id\":\"1029\",\"type\":\"WheelZoomTool\"},{\"attributes\":{},\"id\":\"1371\",\"type\":\"NumberEditor\"},{\"attributes\":{\"overlay\":{\"id\":\"1032\"}},\"id\":\"1030\",\"type\":\"BoxZoomTool\"},{\"attributes\":{},\"id\":\"1031\",\"type\":\"ResetTool\"},{\"attributes\":{\"format\":\"0,0.0[00000]\"},\"id\":\"1380\",\"type\":\"NumberFormatter\"},{\"attributes\":{\"editor\":{\"id\":\"1376\"},\"field\":\"std\",\"formatter\":{\"id\":\"1375\"},\"title\":\"std\"},\"id\":\"1377\",\"type\":\"TableColumn\"},{\"attributes\":{\"fill_alpha\":0.5,\"fill_color\":\"#30a2da\",\"hatch_alpha\":0.1,\"hatch_color\":\"#30a2da\",\"line_alpha\":1,\"x\":{\"field\":\"x\"},\"y\":{\"field\":\"y\"}},\"id\":\"1059\",\"type\":\"Patch\"},{\"attributes\":{\"format\":\"0,0.0[00000]\"},\"id\":\"1365\",\"type\":\"NumberFormatter\"},{\"attributes\":{},\"id\":\"1381\",\"type\":\"NumberEditor\"},{\"attributes\":{\"margin\":[5,5,5,5],\"name\":\"HSpacer02998\",\"sizing_mode\":\"stretch_width\"},\"id\":\"1424\",\"type\":\"Spacer\"},{\"attributes\":{\"format\":\"0,0.0[00000]\"},\"id\":\"1375\",\"type\":\"NumberFormatter\"},{\"attributes\":{\"end\":393821.1808680673,\"reset_end\":393821.1808680673,\"reset_start\":86736.83774730065,\"start\":86736.83774730065,\"tags\":[[[\"x\",\"x\",null]]]},\"id\":\"1007\",\"type\":\"Range1d\"},{\"attributes\":{\"children\":[{\"id\":\"1426\"}],\"css_classes\":[\"panel-widget-box\"],\"margin\":[5,5,5,5],\"name\":\"WidgetBox02993\"},\"id\":\"1425\",\"type\":\"Column\"},{\"attributes\":{\"source\":{\"id\":\"1055\"}},\"id\":\"1062\",\"type\":\"CDSView\"},{\"attributes\":{\"format\":\"0,0.0[00000]\"},\"id\":\"1390\",\"type\":\"NumberFormatter\"},{\"attributes\":{\"editor\":{\"id\":\"1381\"},\"field\":\"min\",\"formatter\":{\"id\":\"1380\"},\"title\":\"min\"},\"id\":\"1382\",\"type\":\"TableColumn\"},{\"attributes\":{},\"id\":\"1078\",\"type\":\"UnionRenderers\"},{\"attributes\":{\"format\":\"0,0.0[00000]\"},\"id\":\"1385\",\"type\":\"NumberFormatter\"},{\"attributes\":{\"editor\":{\"id\":\"1386\"},\"field\":\"A_25_percent\",\"formatter\":{\"id\":\"1385\"},\"title\":\"25%\"},\"id\":\"1387\",\"type\":\"TableColumn\"},{\"attributes\":{\"source\":{\"id\":\"1171\"}},\"id\":\"1215\",\"type\":\"CDSView\"},{\"attributes\":{\"margin\":[20,20,20,20],\"min_width\":250,\"options\":[\"ocean_proximity\",\"housing_median_age\"],\"title\":\"col\",\"value\":\"ocean_proximity\",\"width\":250},\"id\":\"1426\",\"type\":\"panel.models.widgets.CustomSelect\"},{\"attributes\":{\"coordinates\":null,\"data_source\":{\"id\":\"1055\"},\"glyph\":{\"id\":\"1058\"},\"group\":null,\"hover_glyph\":null,\"muted_glyph\":{\"id\":\"1060\"},\"nonselection_glyph\":{\"id\":\"1059\"},\"selection_glyph\":{\"id\":\"1063\"},\"view\":{\"id\":\"1062\"},\"y_range_name\":\"twiny\"},\"id\":\"1061\",\"type\":\"GlyphRenderer\"},{\"attributes\":{},\"id\":\"1391\",\"type\":\"NumberEditor\"},{\"attributes\":{},\"id\":\"1386\",\"type\":\"NumberEditor\"},{\"attributes\":{\"fill_alpha\":0.2,\"fill_color\":\"#30a2da\",\"hatch_alpha\":0.2,\"hatch_color\":\"#30a2da\",\"line_alpha\":0.2,\"x\":{\"field\":\"x\"},\"y\":{\"field\":\"y\"}},\"id\":\"1060\",\"type\":\"Patch\"},{\"attributes\":{\"margin\":[5,5,5,5],\"name\":\"HSpacer02999\",\"sizing_mode\":\"stretch_width\"},\"id\":\"1427\",\"type\":\"Spacer\"},{\"attributes\":{\"editor\":{\"id\":\"1396\"},\"field\":\"A_75_percent\",\"formatter\":{\"id\":\"1395\"},\"title\":\"75%\"},\"id\":\"1397\",\"type\":\"TableColumn\"},{\"attributes\":{\"toolbars\":[{\"id\":\"1033\"}],\"tools\":[{\"id\":\"1009\"},{\"id\":\"1027\"},{\"id\":\"1028\"},{\"id\":\"1029\"},{\"id\":\"1030\"},{\"id\":\"1031\"}]},\"id\":\"1235\",\"type\":\"ProxyToolbar\"},{\"attributes\":{\"editor\":{\"id\":\"1391\"},\"field\":\"A_50_percent\",\"formatter\":{\"id\":\"1390\"},\"title\":\"50%\"},\"id\":\"1392\",\"type\":\"TableColumn\"},{\"attributes\":{\"editor\":{\"id\":\"1366\"},\"field\":\"count\",\"formatter\":{\"id\":\"1365\"},\"title\":\"count\"},\"id\":\"1367\",\"type\":\"TableColumn\"},{\"attributes\":{},\"id\":\"1401\",\"type\":\"NumberEditor\"},{\"attributes\":{\"format\":\"0,0.0[00000]\"},\"id\":\"1395\",\"type\":\"NumberFormatter\"},{\"attributes\":{\"editor\":{\"id\":\"1401\"},\"field\":\"max\",\"formatter\":{\"id\":\"1400\"},\"title\":\"max\"},\"id\":\"1402\",\"type\":\"TableColumn\"},{\"attributes\":{\"children\":[{\"id\":\"1236\"},{\"id\":\"1234\"}]},\"id\":\"1237\",\"type\":\"Column\"},{\"attributes\":{\"format\":\"0,0.0[00000]\"},\"id\":\"1400\",\"type\":\"NumberFormatter\"},{\"attributes\":{},\"id\":\"1047\",\"type\":\"Selection\"},{\"attributes\":{\"end\":2.581302880081959e-05},\"id\":\"1064\",\"type\":\"Range1d\"},{\"attributes\":{\"source\":{\"id\":\"1046\"}},\"id\":\"1053\",\"type\":\"CDSView\"},{\"attributes\":{\"toolbar\":{\"id\":\"1235\"},\"toolbar_location\":\"above\"},\"id\":\"1236\",\"type\":\"ToolbarBox\"},{\"attributes\":{\"children\":[{\"id\":\"1238\"},{\"id\":\"1237\"}]},\"id\":\"1239\",\"type\":\"Column\"},{\"attributes\":{\"bottom\":{\"value\":0},\"fill_alpha\":{\"value\":1.0},\"fill_color\":{\"value\":\"#00fff0\"},\"hatch_alpha\":{\"value\":1.0},\"hatch_color\":{\"value\":\"#00fff0\"},\"hatch_scale\":{\"value\":12.0},\"hatch_weight\":{\"value\":1.0},\"left\":{\"field\":\"left\"},\"line_alpha\":{\"value\":1.0},\"line_cap\":{\"value\":\"butt\"},\"line_color\":{\"value\":\"black\"},\"line_dash\":{\"value\":[]},\"line_dash_offset\":{\"value\":0},\"line_join\":{\"value\":\"bevel\"},\"line_width\":{\"value\":1},\"right\":{\"field\":\"right\"},\"top\":{\"field\":\"top\"}},\"id\":\"1054\",\"type\":\"Quad\"},{\"attributes\":{\"children\":[[{\"id\":\"1010\"},0,0],[{\"id\":\"1213\"},1,0]]},\"id\":\"1234\",\"type\":\"GridBox\"},{\"attributes\":{\"data\":{\"left\":{\"__ndarray__\":\"Cm8hDwJ//kAwCbeIBqgAQdta3QmMEAJBhqwDixF5A0Ex/ikMl+EEQdxPUI0cSgZBhqF2DqKyB0Ey85yPJxsJQdxEwxCtgwpBiJbpkTLsC0Ey6A8TuFQNQd45NpQ9vQ5BxEWuiuESEEGabkFLJMcQQW+X1AtnexFBRMBnzKkvEkEa6fqM7OMSQfARjk0vmBNBxTohDnJMFEGaY7TOtAAVQQ==\",\"dtype\":\"float64\",\"order\":\"little\",\"shape\":[20]},\"right\":{\"__ndarray__\":\"MAm3iAaoAEHbWt0JjBACQYasA4sReQNBMf4pDJfhBEHcT1CNHEoGQYahdg6isgdBMvOcjycbCUHcRMMQrYMKQYiW6ZEy7AtBMugPE7hUDUHeOTaUPb0OQcRFrorhEhBBmm5BSyTHEEFvl9QLZ3sRQUTAZ8ypLxJBGun6jOzjEkHwEY5NL5gTQcU6IQ5yTBRBmmO0zrQAFUFwjEeP97QVQQ==\",\"dtype\":\"float64\",\"order\":\"little\",\"shape\":[20]},\"top\":[5245,0,0,0,0,0,0,0,0,7310,2125,1828,0,0,0,0,0,0,0,4]},\"selected\":{\"id\":\"1047\"},\"selection_policy\":{\"id\":\"1076\"}},\"id\":\"1046\",\"type\":\"ColumnDataSource\"},{\"attributes\":{},\"id\":\"1366\",\"type\":\"NumberEditor\"},{\"attributes\":{\"fill_alpha\":0.5,\"fill_color\":\"#30a2da\",\"hatch_color\":\"#30a2da\",\"x\":{\"field\":\"x\"},\"y\":{\"field\":\"y\"}},\"id\":\"1058\",\"type\":\"Patch\"},{\"attributes\":{\"bottom\":{\"value\":0},\"fill_alpha\":{\"value\":0.1},\"fill_color\":{\"value\":\"#00fff0\"},\"hatch_alpha\":{\"value\":0.1},\"hatch_color\":{\"value\":\"#00fff0\"},\"left\":{\"field\":\"left\"},\"line_alpha\":{\"value\":0.1},\"right\":{\"field\":\"right\"},\"top\":{\"field\":\"top\"}},\"id\":\"1050\",\"type\":\"Quad\"},{\"attributes\":{\"data\":{\"x\":{\"__ndarray__\":\"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\",\"dtype\":\"float64\",\"order\":\"little\",\"shape\":[200]},\"y\":{\"__ndarray__\":\"AAAAAAAAAAAAAAAAAAAAAAAAAAAAAAAAAAAAAAAAAAAAAAAAAAAAAAAAAAAAAAAAAAAAAAAAAAAAAAAAAAAAAAAAAAAAAAAAAAAAAAAAAAAAAAAAAAAAAAAAAAAAAAAAAAAAAAAAAAAAAAAAAAAAAAAAAAAAAAAAAAAAAAAAAAAAAAAAAAAAAAAAAAAAAAAAAAAAAAAAAAAAAAAAAAAAAAAAAAAAAAAAAAAAAAAAAAAAAAAAAAAAAAAAAAAAAAAAAAAAAAAAAAAAAAAAAAAAAAAAAAAAAAAAAAAAAAAAAAAAAAAAAAAAAAAAAAAAAAAAAAAAAAAAAAAAAAAAAAAAAAAAAAAAAAAAAAAAAAAAAAAAAAAAAAAAAAAAAAAAAAAAAAAAAAAAAAAAAAAAAAAAAAAAAAAAAAAAAAAAAAAAAAAAAAAAAAAAAAAAAAAAAAAAAAAAAAAAAAAAAAAAAAAAAAAAAAAAAAAAAAAAAAAAAAAAAAAAAAAAAAAAAAAAAAAAAAAAAAAAAAAAAAAAAAAAAAAAAAAAAAAAAAAAAAAAAAAAAAAAAAAAAAAAAAAAAAAAAAAAAAAAAAAAAAAAAAAAAAAAAAAAAAAAAAAAAAAAAAAAAAAAAAAAAAAAAAAAAAAAAAAAAAAAAAAAAAAAAAAAAAAAAAAAAAAAAAAAAAAAAAAAAAAAAAAAAAAAAAAAAAAAAAAAAAAAAAAAAAAAAAAAAAAAAAAAAAAAAAAAAAAAAAAAAAAAAAAAAAAAAAAAAAAAAAAAAAAAAAAAAAAAAAAAAAAAAAAAAAAAAAAAAAAAAAAAAAAAAAAAAAAAAAAAAAAAAAAAAAAAAAAAAAAAAAAAAAAAAAAAAAAAAAAAAAAAAAAAAAAAAAAAAAAAAAAAAAAAAAAAAAAAAAAAAAAAAAAAAAAAAAAAAAAAAAAAAAAAAAAAAAAAAAAAAAAAAAAAAAAAAAAAAAAAAAAAAAAAAAAAAAAAAAAAAAAAAAAAAAAAAAAAAAAAAAAAAAAAAAAAAAAAAAAAAAAAAAAAAAAAAAAAAAAAAAAAAAAAAAAAAAAAAAB1YcGkekfiPaj4lU+3hfg9ZdaYslYeDT7rNAidp5oePv8MMrJteCw+SYynoGFxNz566+Ue7hVBPhlDKjo0C0Y++//qJmgsST6W6otw73FJPp0Gg67Vw0Y+G+LXDgcHQj4A4gkMj0U5PsF30o12Wy8+b0w1jiM4IT730RwWJb0QPtpOFKgZzvw9Rqoz5fvv5T2S/JdqZZPNPWsVez2DpbE98HmDPYOjkj0Neqm21mxxPXxVYfId10w9r8a0ojE4JT2C/Qg1SNsBPbpM9cEqqRQ9mn0ZyrOZRD13aR7JFhBzPZ09LhYuQp8942DG0XGxxj2Ide2SQi7tPdhToGuXnhA+CwRxY4PGMD509j8jagZOPu681nAA12c+8mMrUtrPgD5x83ONcxeVPkdvEAKRlqc+ivZRxCmXtz5Qtyx91jHFPtH8tVWhONE+hMKaIBGO2T4TVgnG9IzhPkxe2f3xteY+bGlIxpI77D7eqn4/liDxPt3D0O5QYfQ+77W5V6mR9z75gKeeHQD6PoXvIeKGzPo+KWalmqZb+T4LpgANQr/1Pi5lHqIfwvA+Ztt+njQU5z77uzR/DE3cPs0PjAJ11c4+RNZc3hvOvT5j9+BlHYqpPoVPobGPY5M+2wM1m7MSej6NUfA+tQtfPmXYhK82XUA+6zf7kRCLHj5Bf5WYbTv5PfMmLJ2Bc9I9C7zKXtripz1jyNIU1157PazOpba3wks9T6g42UPsGD2LuQ2da+fjPEPtpDksO7g8+V0hkNmF3Tyd2/OJM2ESPch7DEficEQ9lSnRUYIfdD3iZ56az4ihPdEJnO0RDMs92EUcRsZ28j3Uw9ojLVAWPhUGv3cB3jc+TGcSHsGYVj5WEMcmp+9yPlY6b75dF4w+9T9FHVVxoj6UxWANNG+1PqyiiQezDMY+JIi9X6cT1D68Mk0eMS7gPtzPsbmfFec+xySHD6Um7T5vFqe1mkrwPvflKo8WHvA+cju70Dg67D6uyvD65ODlPryPiNPfBN4+xlvf+3o60j51ieLgNJjDPigqSbK0pLI+vD6Zy7lmnz4U3xi8J2iHPg==\",\"dtype\":\"float64\",\"order\":\"little\",\"shape\":[200]}},\"selected\":{\"id\":\"1056\"},\"selection_policy\":{\"id\":\"1078\"}},\"id\":\"1055\",\"type\":\"ColumnDataSource\"},{\"attributes\":{\"client_comm_id\":\"884a6417be414205b151cea419d04ca6\",\"comm_id\":\"d3c274a1177244cb9d28ebb5a996abc4\",\"plot_id\":\"1002\"},\"id\":\"1480\",\"type\":\"panel.models.comm_manager.CommManager\"},{\"attributes\":{},\"id\":\"1044\",\"type\":\"BasicTickFormatter\"},{\"attributes\":{},\"id\":\"1232\",\"type\":\"UnionRenderers\"},{\"attributes\":{\"style\":{\"white-space\":\"nowrap\"},\"text\":\"<span style=\\\"color:black;font-family:Arial;font-style:bold;font-weight:bold;font-size:12pt\\\">col: ocean_proximity</span>\",\"width\":450},\"id\":\"1238\",\"type\":\"Div\"},{\"attributes\":{\"data\":{\"A_25_percent\":{\"__ndarray__\":\"SOF6FAJ//kA=\",\"dtype\":\"float64\",\"order\":\"little\",\"shape\":[1]},\"A_50_percent\":{\"__ndarray__\":\"mpmZmQtODUE=\",\"dtype\":\"float64\",\"order\":\"little\",\"shape\":[1]},\"A_75_percent\":{\"__ndarray__\":\"mpmZmQtODUE=\",\"dtype\":\"float64\",\"order\":\"little\",\"shape\":[1]},\"count\":{\"__ndarray__\":\"AAAAAAAg0EA=\",\"dtype\":\"float64\",\"order\":\"little\",\"shape\":[1]},\"max\":{\"__ndarray__\":\"9ihcj/e0FUE=\",\"dtype\":\"float64\",\"order\":\"little\",\"shape\":[1]},\"mean\":{\"__ndarray__\":\"9ihcj4RCCUE=\",\"dtype\":\"float64\",\"order\":\"little\",\"shape\":[1]},\"min\":{\"__ndarray__\":\"SOF6FAJ//kA=\",\"dtype\":\"float64\",\"order\":\"little\",\"shape\":[1]},\"std\":{\"__ndarray__\":\"UrgehUt+60A=\",\"dtype\":\"float64\",\"order\":\"little\",\"shape\":[1]}},\"selected\":{\"id\":\"1172\"},\"selection_policy\":{\"id\":\"1232\"}},\"id\":\"1171\",\"type\":\"ColumnDataSource\"},{\"attributes\":{},\"id\":\"1015\",\"type\":\"LinearScale\"},{\"attributes\":{\"tools\":[{\"id\":\"1009\"},{\"id\":\"1027\"},{\"id\":\"1028\"},{\"id\":\"1029\"},{\"id\":\"1030\"},{\"id\":\"1031\"}]},\"id\":\"1033\",\"type\":\"Toolbar\"},{\"attributes\":{\"margin\":[5,5,5,5],\"name\":\"HSpacer03006\",\"sizing_mode\":\"stretch_width\"},\"id\":\"1428\",\"type\":\"Spacer\"},{\"attributes\":{\"callback\":null,\"renderers\":[{\"id\":\"1061\"}],\"tags\":[\"hv_created\"],\"tooltips\":[[\"ocean_proximity\",\"@{ocean_proximity}\"],[\"Density\",\"@{ocean_proximity_density}\"]]},\"id\":\"1009\",\"type\":\"HoverTool\"},{\"attributes\":{\"below\":[{\"id\":\"1019\"}],\"center\":[{\"id\":\"1022\"},{\"id\":\"1026\"}],\"extra_y_ranges\":{\"twiny\":{\"id\":\"1064\"}},\"height\":300,\"left\":[{\"id\":\"1023\"}],\"margin\":null,\"min_border_bottom\":10,\"min_border_left\":10,\"min_border_right\":10,\"min_border_top\":10,\"renderers\":[{\"id\":\"1052\"},{\"id\":\"1061\"}],\"right\":[{\"id\":\"1065\"}],\"sizing_mode\":\"fixed\",\"title\":{\"id\":\"1011\"},\"toolbar\":{\"id\":\"1033\"},\"toolbar_location\":null,\"x_range\":{\"id\":\"1007\"},\"x_scale\":{\"id\":\"1015\"},\"y_range\":{\"id\":\"1008\"},\"y_scale\":{\"id\":\"1017\"}},\"id\":\"1010\",\"subtype\":\"Figure\",\"type\":\"Plot\"},{\"attributes\":{\"children\":[{\"id\":\"1005\"},{\"id\":\"1423\"}],\"margin\":[0,0,0,0],\"name\":\"Column03005\"},\"id\":\"1004\",\"type\":\"Column\"},{\"attributes\":{\"children\":[{\"id\":\"1003\"},{\"id\":\"1004\"},{\"id\":\"1428\"}],\"margin\":[0,0,0,0],\"name\":\"Row02992\"},\"id\":\"1002\",\"type\":\"Row\"},{\"attributes\":{\"margin\":[5,5,5,5],\"name\":\"HSpacer03003\",\"sizing_mode\":\"stretch_width\"},\"id\":\"1422\",\"type\":\"Spacer\"},{\"attributes\":{\"coordinates\":null,\"data_source\":{\"id\":\"1046\"},\"glyph\":{\"id\":\"1049\"},\"group\":null,\"hover_glyph\":null,\"muted_glyph\":{\"id\":\"1051\"},\"nonselection_glyph\":{\"id\":\"1050\"},\"selection_glyph\":{\"id\":\"1054\"},\"view\":{\"id\":\"1053\"}},\"id\":\"1052\",\"type\":\"GlyphRenderer\"},{\"attributes\":{\"margin\":[5,5,5,5],\"name\":\"HSpacer03002\",\"sizing_mode\":\"stretch_width\"},\"id\":\"1006\",\"type\":\"Spacer\"},{\"attributes\":{\"margin\":[5,5,5,5],\"name\":\"HSpacer03001\",\"sizing_mode\":\"stretch_width\"},\"id\":\"1003\",\"type\":\"Spacer\"},{\"attributes\":{\"children\":[{\"id\":\"1424\"},{\"id\":\"1425\"},{\"id\":\"1427\"}],\"margin\":[0,0,0,0],\"name\":\"Row03000\"},\"id\":\"1423\",\"type\":\"Row\"},{\"attributes\":{\"children\":[{\"id\":\"1006\"},{\"id\":\"1239\"},{\"id\":\"1422\"}],\"margin\":[0,0,0,0],\"name\":\"Row03004\"},\"id\":\"1005\",\"type\":\"Row\"},{\"attributes\":{\"end\":7383.1,\"reset_end\":8041.0,\"reset_start\":0.0,\"tags\":[[[\"Frequency\",\"Frequency\",null]]]},\"id\":\"1008\",\"type\":\"Range1d\"},{\"attributes\":{\"bottom\":{\"value\":0},\"fill_alpha\":{\"value\":0.2},\"fill_color\":{\"value\":\"#00fff0\"},\"hatch_alpha\":{\"value\":0.2},\"hatch_color\":{\"value\":\"#00fff0\"},\"left\":{\"field\":\"left\"},\"line_alpha\":{\"value\":0.2},\"right\":{\"field\":\"right\"},\"top\":{\"field\":\"top\"}},\"id\":\"1051\",\"type\":\"Quad\"},{\"attributes\":{},\"id\":\"1041\",\"type\":\"BasicTickFormatter\"},{\"attributes\":{},\"id\":\"1045\",\"type\":\"AllLabels\"},{\"attributes\":{\"format\":\"0,0.0[00000]\"},\"id\":\"1370\",\"type\":\"NumberFormatter\"}],\"root_ids\":[\"1002\",\"1480\"]},\"title\":\"Bokeh Application\",\"version\":\"2.4.3\"}};\n",
       "    var render_items = [{\"docid\":\"c8a9dc55-b527-4bc1-9c2f-d55eba664243\",\"root_ids\":[\"1002\"],\"roots\":{\"1002\":\"f024c97d-9322-4a64-8726-99097f5880d1\"}}];\n",
       "    root.Bokeh.embed.embed_items_notebook(docs_json, render_items);\n",
       "  }\n",
       "  if (root.Bokeh !== undefined && root.Bokeh.Panel !== undefined) {\n",
       "    embed_document(root);\n",
       "  } else {\n",
       "    var attempts = 0;\n",
       "    var timer = setInterval(function(root) {\n",
       "      if (root.Bokeh !== undefined && root.Bokeh.Panel !== undefined) {\n",
       "        clearInterval(timer);\n",
       "        embed_document(root);\n",
       "      } else if (document.readyState == \"complete\") {\n",
       "        attempts++;\n",
       "        if (attempts > 200) {\n",
       "          clearInterval(timer);\n",
       "          console.log(\"Bokeh: ERROR: Unable to run BokehJS code because BokehJS library is missing\");\n",
       "        }\n",
       "      }\n",
       "    }, 25, root)\n",
       "  }\n",
       "})(window);</script>"
      ],
      "text/plain": [
       ":DynamicMap   [col]\n",
       "   :Layout\n",
       "      .Overlay.I :Overlay\n",
       "         .Histogram.I    :Histogram   [x]   (Frequency)\n",
       "         .Distribution.I :Distribution   [ocean_proximity]   (Density)\n",
       "      .Table.I   :Table   [count,mean,std,min,25%,50%,75%,max]"
      ]
     },
     "execution_count": 16,
     "metadata": {
      "application/vnd.holoviews_exec.v0+json": {
       "id": "1002"
      }
     },
     "output_type": "execute_result"
    }
   ],
   "source": [
    "out = eda.get_density_plots(train_X, cols=['ocean_proximity', 'housing_median_age'])\n",
    "out"
   ]
  },
  {
   "cell_type": "code",
   "execution_count": 17,
   "metadata": {},
   "outputs": [],
   "source": [
    "# save the plots are html\n",
    "reports.create_report({'univariate': out}, name='feature_analysis_univariate')"
   ]
  },
  {
   "attachments": {},
   "cell_type": "markdown",
   "metadata": {},
   "source": [
    "A report containing the above plot is available [here](https://drive.google.com/file/d/16ntqUc_zvpg0at5pTtO-ljBjw5UVGFnp/view?usp=sharing)\n"
   ]
  },
  {
   "attachments": {},
   "cell_type": "markdown",
   "metadata": {},
   "source": [
    "Alternatively, the above plots can be generated as a single html as below. The output from this is available [here](https://drive.google.com/file/d/1vUaCcs1PJ4IYo1em9-eZIEj9WuDsnFKT/view?usp=sharing)"
   ]
  },
  {
   "cell_type": "code",
   "execution_count": 18,
   "metadata": {},
   "outputs": [
    {
     "name": "stderr",
     "output_type": "stream",
     "text": [
      "p-value may not be accurate for N > 5000.\n"
     ]
    }
   ],
   "source": [
    "reports.feature_analysis(train_X,'./feature_analysis_report.html')"
   ]
  },
  {
   "attachments": {},
   "cell_type": "markdown",
   "metadata": {},
   "source": [
    "### 3.2.2 Bivariate - mutual interactions"
   ]
  },
  {
   "attachments": {},
   "cell_type": "markdown",
   "metadata": {},
   "source": [
    "- Find columns with high correlations and drop them"
   ]
  },
  {
   "cell_type": "code",
   "execution_count": 19,
   "metadata": {},
   "outputs": [
    {
     "data": {
      "text/html": [
       "<div>\n",
       "<style scoped>\n",
       "    .dataframe tbody tr th:only-of-type {\n",
       "        vertical-align: middle;\n",
       "    }\n",
       "\n",
       "    .dataframe tbody tr th {\n",
       "        vertical-align: top;\n",
       "    }\n",
       "\n",
       "    .dataframe thead th {\n",
       "        text-align: right;\n",
       "    }\n",
       "</style>\n",
       "<table border=\"1\" class=\"dataframe\">\n",
       "  <thead>\n",
       "    <tr style=\"text-align: right;\">\n",
       "      <th></th>\n",
       "      <th>Variable 1</th>\n",
       "      <th>Variable 2</th>\n",
       "      <th>Corr Coef</th>\n",
       "      <th>Abs Corr Coef</th>\n",
       "    </tr>\n",
       "  </thead>\n",
       "  <tbody>\n",
       "    <tr>\n",
       "      <th>0</th>\n",
       "      <td>households</td>\n",
       "      <td>total_bedrooms</td>\n",
       "      <td>0.972044</td>\n",
       "      <td>0.972044</td>\n",
       "    </tr>\n",
       "    <tr>\n",
       "      <th>1</th>\n",
       "      <td>latitude</td>\n",
       "      <td>longitude</td>\n",
       "      <td>-0.925628</td>\n",
       "      <td>0.925628</td>\n",
       "    </tr>\n",
       "    <tr>\n",
       "      <th>2</th>\n",
       "      <td>total_bedrooms</td>\n",
       "      <td>total_rooms</td>\n",
       "      <td>0.920203</td>\n",
       "      <td>0.920203</td>\n",
       "    </tr>\n",
       "    <tr>\n",
       "      <th>3</th>\n",
       "      <td>households</td>\n",
       "      <td>total_rooms</td>\n",
       "      <td>0.912943</td>\n",
       "      <td>0.912943</td>\n",
       "    </tr>\n",
       "    <tr>\n",
       "      <th>4</th>\n",
       "      <td>households</td>\n",
       "      <td>population</td>\n",
       "      <td>0.908202</td>\n",
       "      <td>0.908202</td>\n",
       "    </tr>\n",
       "    <tr>\n",
       "      <th>5</th>\n",
       "      <td>population</td>\n",
       "      <td>total_bedrooms</td>\n",
       "      <td>0.872036</td>\n",
       "      <td>0.872036</td>\n",
       "    </tr>\n",
       "    <tr>\n",
       "      <th>6</th>\n",
       "      <td>population</td>\n",
       "      <td>total_rooms</td>\n",
       "      <td>0.841843</td>\n",
       "      <td>0.841843</td>\n",
       "    </tr>\n",
       "  </tbody>\n",
       "</table>\n",
       "</div>"
      ],
      "text/plain": [
       "       Variable 1      Variable 2  Corr Coef  Abs Corr Coef\n",
       "0      households  total_bedrooms   0.972044       0.972044\n",
       "1        latitude       longitude  -0.925628       0.925628\n",
       "2  total_bedrooms     total_rooms   0.920203       0.920203\n",
       "3      households     total_rooms   0.912943       0.912943\n",
       "4      households      population   0.908202       0.908202\n",
       "5      population  total_bedrooms   0.872036       0.872036\n",
       "6      population     total_rooms   0.841843       0.841843"
      ]
     },
     "execution_count": 19,
     "metadata": {},
     "output_type": "execute_result"
    }
   ],
   "source": [
    "out = eda.get_correlation_table(train_X)\n",
    "out[out[\"Abs Corr Coef\"] > 0.6]"
   ]
  },
  {
   "cell_type": "code",
   "execution_count": 20,
   "metadata": {},
   "outputs": [
    {
     "data": {
      "text/html": [
       "<div>\n",
       "<style scoped>\n",
       "    .dataframe tbody tr th:only-of-type {\n",
       "        vertical-align: middle;\n",
       "    }\n",
       "\n",
       "    .dataframe tbody tr th {\n",
       "        vertical-align: top;\n",
       "    }\n",
       "\n",
       "    .dataframe thead th {\n",
       "        text-align: right;\n",
       "    }\n",
       "</style>\n",
       "<table border=\"1\" class=\"dataframe\">\n",
       "  <thead>\n",
       "    <tr style=\"text-align: right;\">\n",
       "      <th></th>\n",
       "      <th>Variable 1</th>\n",
       "      <th>Variable 2</th>\n",
       "      <th>Corr Coef</th>\n",
       "      <th>Abs Corr Coef</th>\n",
       "    </tr>\n",
       "  </thead>\n",
       "  <tbody>\n",
       "    <tr>\n",
       "      <th>0</th>\n",
       "      <td>households</td>\n",
       "      <td>population</td>\n",
       "      <td>0.908202</td>\n",
       "      <td>0.908202</td>\n",
       "    </tr>\n",
       "  </tbody>\n",
       "</table>\n",
       "</div>"
      ],
      "text/plain": [
       "   Variable 1  Variable 2  Corr Coef  Abs Corr Coef\n",
       "0  households  population   0.908202       0.908202"
      ]
     },
     "execution_count": 20,
     "metadata": {},
     "output_type": "execute_result"
    }
   ],
   "source": [
    "\n",
    "curated_columns = list(\n",
    "    set(train_X.columns.to_list()) \n",
    "    - set(['total_bedrooms', 'longitude', 'total_rooms'])\n",
    ")\n",
    "\n",
    "train_X = train_X[curated_columns]\n",
    "\n",
    "out = eda.get_correlation_table(train_X)\n",
    "out[out[\"Abs Corr Coef\"] > 0.6]"
   ]
  },
  {
   "cell_type": "code",
   "execution_count": 24,
   "metadata": {},
   "outputs": [],
   "source": [
    "# out = eda.get_bivariate_plots(train_X, x_cols=['ocean_proximity'], y_cols=['house_median_age'])\n",
    "# out"
   ]
  },
  {
   "cell_type": "code",
   "execution_count": 25,
   "metadata": {},
   "outputs": [
    {
     "name": "stdout",
     "output_type": "stream",
     "text": [
      "CPU times: user 1.56 s, sys: 48.9 ms, total: 1.61 s\n",
      "Wall time: 1.61 s\n"
     ]
    }
   ],
   "source": [
    "%%time\n",
    "# create reports as needed\n",
    "cols = train_X.columns.to_list()\n",
    "all_plots = {}\n",
    "for ii, col1 in enumerate(cols): \n",
    "    for jj in range(ii+1, len(cols)):\n",
    "        col2 = cols[jj]\n",
    "        out = eda.get_bivariate_plots(train_X, x_cols=[col1], y_cols=[col2])\n",
    "        all_plots.update({f'{col2} vs {col1}': out})\n",
    "\n",
    "reports.create_report(all_plots, name='feature_analysis_bivariate')"
   ]
  },
  {
   "attachments": {},
   "cell_type": "markdown",
   "metadata": {},
   "source": [
    "A report containing the bivariate plot is available [here](https://drive.google.com/file/d/1WSGT3586tY-rOmZ57xGILbmL5ll9cSVT/view?usp=sharing)\n",
    "\n",
    "Alternatively, the above plots can be generated as a single html as below. The output from this is available [here](https://drive.google.com/file/d/1A2fz_bjYv8I3iaFDT75JQSDKeJEXxCtp/view?usp=sharing)"
   ]
  },
  {
   "cell_type": "code",
   "execution_count": 26,
   "metadata": {},
   "outputs": [],
   "source": [
    "reports.feature_interactions(train_X,'./feature_interaction_report.html')"
   ]
  },
  {
   "attachments": {},
   "cell_type": "markdown",
   "metadata": {},
   "source": [
    "### 3.2.3 Key Drivers - Interaction with Target variable"
   ]
  },
  {
   "cell_type": "code",
   "execution_count": 27,
   "metadata": {},
   "outputs": [
    {
     "data": {},
     "metadata": {},
     "output_type": "display_data"
    },
    {
     "data": {},
     "metadata": {},
     "output_type": "display_data"
    },
    {
     "data": {
      "application/vnd.holoviews_exec.v0+json": "",
      "text/html": [
       "<div id='14107'>\n",
       "  <div class=\"bk-root\" id=\"872ad4c0-21fb-40f4-bb98-b915a1ada1e8\" data-root-id=\"14107\"></div>\n",
       "</div>\n",
       "<script type=\"application/javascript\">(function(root) {\n",
       "  function embed_document(root) {\n",
       "    var docs_json = {\"9a73eef8-54b9-40c5-af5d-7232670b792f\":{\"defs\":[{\"extends\":null,\"module\":null,\"name\":\"ReactiveHTML1\",\"overrides\":[],\"properties\":[]},{\"extends\":null,\"module\":null,\"name\":\"FlexBox1\",\"overrides\":[],\"properties\":[{\"default\":\"flex-start\",\"kind\":null,\"name\":\"align_content\"},{\"default\":\"flex-start\",\"kind\":null,\"name\":\"align_items\"},{\"default\":\"row\",\"kind\":null,\"name\":\"flex_direction\"},{\"default\":\"wrap\",\"kind\":null,\"name\":\"flex_wrap\"},{\"default\":\"flex-start\",\"kind\":null,\"name\":\"justify_content\"}]},{\"extends\":null,\"module\":null,\"name\":\"GridStack1\",\"overrides\":[],\"properties\":[{\"default\":\"warn\",\"kind\":null,\"name\":\"mode\"},{\"default\":null,\"kind\":null,\"name\":\"ncols\"},{\"default\":null,\"kind\":null,\"name\":\"nrows\"},{\"default\":true,\"kind\":null,\"name\":\"allow_resize\"},{\"default\":true,\"kind\":null,\"name\":\"allow_drag\"},{\"default\":[],\"kind\":null,\"name\":\"state\"}]},{\"extends\":null,\"module\":null,\"name\":\"click1\",\"overrides\":[],\"properties\":[{\"default\":\"\",\"kind\":null,\"name\":\"terminal_output\"},{\"default\":\"\",\"kind\":null,\"name\":\"debug_name\"},{\"default\":0,\"kind\":null,\"name\":\"clears\"}]},{\"extends\":null,\"module\":null,\"name\":\"NotificationAreaBase1\",\"overrides\":[],\"properties\":[{\"default\":\"bottom-right\",\"kind\":null,\"name\":\"position\"},{\"default\":0,\"kind\":null,\"name\":\"_clear\"}]},{\"extends\":null,\"module\":null,\"name\":\"NotificationArea1\",\"overrides\":[],\"properties\":[{\"default\":[],\"kind\":null,\"name\":\"notifications\"},{\"default\":\"bottom-right\",\"kind\":null,\"name\":\"position\"},{\"default\":0,\"kind\":null,\"name\":\"_clear\"},{\"default\":[{\"background\":\"#ffc107\",\"icon\":{\"className\":\"fas fa-exclamation-triangle\",\"color\":\"white\",\"tagName\":\"i\"},\"type\":\"warning\"},{\"background\":\"#007bff\",\"icon\":{\"className\":\"fas fa-info-circle\",\"color\":\"white\",\"tagName\":\"i\"},\"type\":\"info\"}],\"kind\":null,\"name\":\"types\"}]},{\"extends\":null,\"module\":null,\"name\":\"Notification\",\"overrides\":[],\"properties\":[{\"default\":null,\"kind\":null,\"name\":\"background\"},{\"default\":3000,\"kind\":null,\"name\":\"duration\"},{\"default\":null,\"kind\":null,\"name\":\"icon\"},{\"default\":\"\",\"kind\":null,\"name\":\"message\"},{\"default\":null,\"kind\":null,\"name\":\"notification_type\"},{\"default\":false,\"kind\":null,\"name\":\"_destroyed\"}]},{\"extends\":null,\"module\":null,\"name\":\"TemplateActions1\",\"overrides\":[],\"properties\":[{\"default\":0,\"kind\":null,\"name\":\"open_modal\"},{\"default\":0,\"kind\":null,\"name\":\"close_modal\"}]},{\"extends\":null,\"module\":null,\"name\":\"MaterialTemplateActions1\",\"overrides\":[],\"properties\":[{\"default\":0,\"kind\":null,\"name\":\"open_modal\"},{\"default\":0,\"kind\":null,\"name\":\"close_modal\"}]}],\"roots\":{\"references\":[{\"attributes\":{},\"id\":\"14131\",\"type\":\"ResetTool\"},{\"attributes\":{\"end\":0.7828210342097142,\"reset_end\":0.7828210342097142,\"reset_start\":-0.22671900899817987,\"start\":-0.22671900899817987,\"tags\":[[[\"Pearson_correlation_with_Target\",\"Pearson_correlation_with_Target\",null]]]},\"id\":\"14108\",\"type\":\"Range1d\"},{\"attributes\":{\"fill_alpha\":{\"value\":0.1},\"fill_color\":{\"value\":\"#30a2da\"},\"hatch_alpha\":{\"value\":0.1},\"hatch_color\":{\"value\":\"#30a2da\"},\"height\":{\"value\":0.8},\"line_alpha\":{\"value\":0.1},\"right\":{\"field\":\"Pearson_correlation_with_Target\"},\"y\":{\"field\":\"index\"}},\"id\":\"14144\",\"type\":\"HBar\"},{\"attributes\":{},\"id\":\"14118\",\"type\":\"CategoricalScale\"},{\"attributes\":{\"overlay\":{\"id\":\"14132\"}},\"id\":\"14130\",\"type\":\"BoxZoomTool\"},{\"attributes\":{\"bottom_units\":\"screen\",\"coordinates\":null,\"fill_alpha\":0.5,\"fill_color\":\"lightgrey\",\"group\":null,\"left_units\":\"screen\",\"level\":\"overlay\",\"line_alpha\":1.0,\"line_color\":\"black\",\"line_dash\":[4,4],\"line_width\":2,\"right_units\":\"screen\",\"syncable\":false,\"top_units\":\"screen\"},\"id\":\"14132\",\"type\":\"BoxAnnotation\"},{\"attributes\":{},\"id\":\"14116\",\"type\":\"LinearScale\"},{\"attributes\":{},\"id\":\"14154\",\"type\":\"AllLabels\"},{\"attributes\":{\"fill_alpha\":{\"value\":1.0},\"fill_color\":{\"value\":\"#30a2da\"},\"hatch_alpha\":{\"value\":1.0},\"hatch_color\":{\"value\":\"#30a2da\"},\"hatch_scale\":{\"value\":12.0},\"hatch_weight\":{\"value\":1.0},\"height\":{\"value\":0.8},\"left\":{\"value\":0},\"line_alpha\":{\"value\":1.0},\"line_cap\":{\"value\":\"butt\"},\"line_color\":{\"value\":\"black\"},\"line_dash\":{\"value\":[]},\"line_dash_offset\":{\"value\":0},\"line_join\":{\"value\":\"bevel\"},\"line_width\":{\"value\":1},\"right\":{\"field\":\"Pearson_correlation_with_Target\"},\"y\":{\"field\":\"index\"}},\"id\":\"14148\",\"type\":\"HBar\"},{\"attributes\":{\"factors\":[\"latitude\",\"population\",\"households\",\"housing_median_age\",\"ocean_proximity\",\"median_income\"],\"tags\":[[[\"index\",\"index\",null]]]},\"id\":\"14109\",\"type\":\"FactorRange\"},{\"attributes\":{},\"id\":\"14127\",\"type\":\"SaveTool\"},{\"attributes\":{},\"id\":\"14141\",\"type\":\"Selection\"},{\"attributes\":{\"callback\":null,\"renderers\":[{\"id\":\"14146\"}],\"tags\":[\"hv_created\"],\"tooltips\":[[\"index\",\"@{index}\"],[\"Pearson_correlation_with_Target\",\"@{Pearson_correlation_with_Target}\"]]},\"id\":\"14110\",\"type\":\"HoverTool\"},{\"attributes\":{\"coordinates\":null,\"group\":null,\"text\":\"Feature Correlation with Target Function\",\"text_color\":\"black\",\"text_font_size\":\"12pt\"},\"id\":\"14112\",\"type\":\"Title\"},{\"attributes\":{},\"id\":\"14150\",\"type\":\"BasicTickFormatter\"},{\"attributes\":{\"child\":{\"id\":\"14111\"},\"name\":\"feature_correlation\",\"title\":\"feature_correlation\"},\"id\":\"14165\",\"type\":\"Panel\"},{\"attributes\":{\"fill_color\":{\"value\":\"#30a2da\"},\"hatch_color\":{\"value\":\"#30a2da\"},\"height\":{\"value\":0.8},\"right\":{\"field\":\"Pearson_correlation_with_Target\"},\"y\":{\"field\":\"index\"}},\"id\":\"14143\",\"type\":\"HBar\"},{\"attributes\":{\"coordinates\":null,\"data_source\":{\"id\":\"14140\"},\"glyph\":{\"id\":\"14143\"},\"group\":null,\"hover_glyph\":null,\"muted_glyph\":{\"id\":\"14145\"},\"nonselection_glyph\":{\"id\":\"14144\"},\"selection_glyph\":{\"id\":\"14148\"},\"view\":{\"id\":\"14147\"}},\"id\":\"14146\",\"type\":\"GlyphRenderer\"},{\"attributes\":{\"axis_label\":\"\",\"coordinates\":null,\"formatter\":{\"id\":\"14153\"},\"group\":null,\"major_label_policy\":{\"id\":\"14154\"},\"ticker\":{\"id\":\"14125\"}},\"id\":\"14124\",\"type\":\"CategoricalAxis\"},{\"attributes\":{\"source\":{\"id\":\"14140\"}},\"id\":\"14147\",\"type\":\"CDSView\"},{\"attributes\":{\"tools\":[{\"id\":\"14110\"},{\"id\":\"14127\"},{\"id\":\"14128\"},{\"id\":\"14129\"},{\"id\":\"14130\"},{\"id\":\"14131\"}]},\"id\":\"14133\",\"type\":\"Toolbar\"},{\"attributes\":{},\"id\":\"14153\",\"type\":\"CategoricalTickFormatter\"},{\"attributes\":{},\"id\":\"14151\",\"type\":\"AllLabels\"},{\"attributes\":{},\"id\":\"14162\",\"type\":\"UnionRenderers\"},{\"attributes\":{\"data\":{\"Pearson_correlation_with_Target\":{\"__ndarray__\":\"JnydQGlAwr8rAdHqsuCgvyPbc8qYjrE/yw/20UQ3uj+4IRwsLTrfP7IamMmwW+Y/\",\"dtype\":\"float64\",\"order\":\"little\",\"shape\":[6]},\"index\":[\"latitude\",\"population\",\"households\",\"housing_median_age\",\"ocean_proximity\",\"median_income\"]},\"selected\":{\"id\":\"14141\"},\"selection_policy\":{\"id\":\"14162\"}},\"id\":\"14140\",\"type\":\"ColumnDataSource\"},{\"attributes\":{},\"id\":\"14128\",\"type\":\"PanTool\"},{\"attributes\":{},\"id\":\"14129\",\"type\":\"WheelZoomTool\"},{\"attributes\":{\"axis\":{\"id\":\"14124\"},\"coordinates\":null,\"dimension\":1,\"grid_line_color\":null,\"group\":null,\"ticker\":null},\"id\":\"14126\",\"type\":\"Grid\"},{\"attributes\":{\"client_comm_id\":\"eb81f79392e14401bf2fb371d92d84ad\",\"comm_id\":\"82caadbf815742e5b063a04d4a49646f\",\"plot_id\":\"14107\"},\"id\":\"14196\",\"type\":\"panel.models.comm_manager.CommManager\"},{\"attributes\":{\"axis_label\":\"Pearson_correlation_with_Target\",\"coordinates\":null,\"formatter\":{\"id\":\"14150\"},\"group\":null,\"major_label_policy\":{\"id\":\"14151\"},\"ticker\":{\"id\":\"14121\"}},\"id\":\"14120\",\"type\":\"LinearAxis\"},{\"attributes\":{\"axis\":{\"id\":\"14120\"},\"coordinates\":null,\"grid_line_color\":null,\"group\":null,\"ticker\":null},\"id\":\"14123\",\"type\":\"Grid\"},{\"attributes\":{\"margin\":[0,0,0,0],\"tabs\":[{\"id\":\"14165\"}]},\"id\":\"14107\",\"type\":\"panel.models.tabs.Tabs\"},{\"attributes\":{\"fill_alpha\":{\"value\":0.2},\"fill_color\":{\"value\":\"#30a2da\"},\"hatch_alpha\":{\"value\":0.2},\"hatch_color\":{\"value\":\"#30a2da\"},\"height\":{\"value\":0.8},\"line_alpha\":{\"value\":0.2},\"right\":{\"field\":\"Pearson_correlation_with_Target\"},\"y\":{\"field\":\"index\"}},\"id\":\"14145\",\"type\":\"HBar\"},{\"attributes\":{},\"id\":\"14125\",\"type\":\"CategoricalTicker\"},{\"attributes\":{},\"id\":\"14121\",\"type\":\"BasicTicker\"},{\"attributes\":{\"below\":[{\"id\":\"14120\"}],\"center\":[{\"id\":\"14123\"},{\"id\":\"14126\"}],\"height\":300,\"left\":[{\"id\":\"14124\"}],\"margin\":[5,5,5,5],\"min_border_bottom\":10,\"min_border_left\":10,\"min_border_right\":10,\"min_border_top\":10,\"renderers\":[{\"id\":\"14146\"}],\"sizing_mode\":\"fixed\",\"title\":{\"id\":\"14112\"},\"toolbar\":{\"id\":\"14133\"},\"width\":700,\"x_range\":{\"id\":\"14108\"},\"x_scale\":{\"id\":\"14116\"},\"y_range\":{\"id\":\"14109\"},\"y_scale\":{\"id\":\"14118\"}},\"id\":\"14111\",\"subtype\":\"Figure\",\"type\":\"Plot\"}],\"root_ids\":[\"14107\",\"14196\"]},\"title\":\"Bokeh Application\",\"version\":\"2.4.3\"}};\n",
       "    var render_items = [{\"docid\":\"9a73eef8-54b9-40c5-af5d-7232670b792f\",\"root_ids\":[\"14107\"],\"roots\":{\"14107\":\"872ad4c0-21fb-40f4-bb98-b915a1ada1e8\"}}];\n",
       "    root.Bokeh.embed.embed_items_notebook(docs_json, render_items);\n",
       "  }\n",
       "  if (root.Bokeh !== undefined && root.Bokeh.Panel !== undefined) {\n",
       "    embed_document(root);\n",
       "  } else {\n",
       "    var attempts = 0;\n",
       "    var timer = setInterval(function(root) {\n",
       "      if (root.Bokeh !== undefined && root.Bokeh.Panel !== undefined) {\n",
       "        clearInterval(timer);\n",
       "        embed_document(root);\n",
       "      } else if (document.readyState == \"complete\") {\n",
       "        attempts++;\n",
       "        if (attempts > 200) {\n",
       "          clearInterval(timer);\n",
       "          console.log(\"Bokeh: ERROR: Unable to run BokehJS code because BokehJS library is missing\");\n",
       "        }\n",
       "      }\n",
       "    }, 25, root)\n",
       "  }\n",
       "})(window);</script>"
      ],
      "text/plain": [
       "Tabs\n",
       "    [0] HoloViews(Bars, name='feature_correlation')"
      ]
     },
     "execution_count": 27,
     "metadata": {
      "application/vnd.holoviews_exec.v0+json": {
       "id": "14107"
      }
     },
     "output_type": "execute_result"
    }
   ],
   "source": [
    "out = eda.get_target_correlation(train_X, train_y, y_continuous=True)\n",
    "display_as_tabs([(k, v) for k,v in out.items()])"
   ]
  },
  {
   "cell_type": "code",
   "execution_count": 29,
   "metadata": {},
   "outputs": [
    {
     "data": {
      "text/plain": [
       "0        197100.0\n",
       "1        366700.0\n",
       "2        189800.0\n",
       "3        229400.0\n",
       "4        133600.0\n",
       "           ...   \n",
       "16507    175000.0\n",
       "16508     83000.0\n",
       "16509    247000.0\n",
       "16510    316700.0\n",
       "16511    253800.0\n",
       "Name: median_house_value, Length: 16512, dtype: float64"
      ]
     },
     "execution_count": 29,
     "metadata": {},
     "output_type": "execute_result"
    }
   ],
   "source": [
    "train_y['median_house_value']"
   ]
  },
  {
   "cell_type": "code",
   "execution_count": 30,
   "metadata": {},
   "outputs": [
    {
     "data": {},
     "metadata": {},
     "output_type": "display_data"
    },
    {
     "data": {},
     "metadata": {},
     "output_type": "display_data"
    },
    {
     "data": {
      "application/vnd.holoviews_exec.v0+json": "",
      "text/html": [
       "<div id='14247'>\n",
       "  <div class=\"bk-root\" id=\"0789a503-2c33-4f93-8614-02fefa28727f\" data-root-id=\"14247\"></div>\n",
       "</div>\n",
       "<script type=\"application/javascript\">(function(root) {\n",
       "  function embed_document(root) {\n",
       "    var docs_json = {\"2a84977f-e72f-4949-817c-31f4ca2d2719\":{\"defs\":[{\"extends\":null,\"module\":null,\"name\":\"ReactiveHTML1\",\"overrides\":[],\"properties\":[]},{\"extends\":null,\"module\":null,\"name\":\"FlexBox1\",\"overrides\":[],\"properties\":[{\"default\":\"flex-start\",\"kind\":null,\"name\":\"align_content\"},{\"default\":\"flex-start\",\"kind\":null,\"name\":\"align_items\"},{\"default\":\"row\",\"kind\":null,\"name\":\"flex_direction\"},{\"default\":\"wrap\",\"kind\":null,\"name\":\"flex_wrap\"},{\"default\":\"flex-start\",\"kind\":null,\"name\":\"justify_content\"}]},{\"extends\":null,\"module\":null,\"name\":\"GridStack1\",\"overrides\":[],\"properties\":[{\"default\":\"warn\",\"kind\":null,\"name\":\"mode\"},{\"default\":null,\"kind\":null,\"name\":\"ncols\"},{\"default\":null,\"kind\":null,\"name\":\"nrows\"},{\"default\":true,\"kind\":null,\"name\":\"allow_resize\"},{\"default\":true,\"kind\":null,\"name\":\"allow_drag\"},{\"default\":[],\"kind\":null,\"name\":\"state\"}]},{\"extends\":null,\"module\":null,\"name\":\"click1\",\"overrides\":[],\"properties\":[{\"default\":\"\",\"kind\":null,\"name\":\"terminal_output\"},{\"default\":\"\",\"kind\":null,\"name\":\"debug_name\"},{\"default\":0,\"kind\":null,\"name\":\"clears\"}]},{\"extends\":null,\"module\":null,\"name\":\"NotificationAreaBase1\",\"overrides\":[],\"properties\":[{\"default\":\"bottom-right\",\"kind\":null,\"name\":\"position\"},{\"default\":0,\"kind\":null,\"name\":\"_clear\"}]},{\"extends\":null,\"module\":null,\"name\":\"NotificationArea1\",\"overrides\":[],\"properties\":[{\"default\":[],\"kind\":null,\"name\":\"notifications\"},{\"default\":\"bottom-right\",\"kind\":null,\"name\":\"position\"},{\"default\":0,\"kind\":null,\"name\":\"_clear\"},{\"default\":[{\"background\":\"#ffc107\",\"icon\":{\"className\":\"fas fa-exclamation-triangle\",\"color\":\"white\",\"tagName\":\"i\"},\"type\":\"warning\"},{\"background\":\"#007bff\",\"icon\":{\"className\":\"fas fa-info-circle\",\"color\":\"white\",\"tagName\":\"i\"},\"type\":\"info\"}],\"kind\":null,\"name\":\"types\"}]},{\"extends\":null,\"module\":null,\"name\":\"Notification\",\"overrides\":[],\"properties\":[{\"default\":null,\"kind\":null,\"name\":\"background\"},{\"default\":3000,\"kind\":null,\"name\":\"duration\"},{\"default\":null,\"kind\":null,\"name\":\"icon\"},{\"default\":\"\",\"kind\":null,\"name\":\"message\"},{\"default\":null,\"kind\":null,\"name\":\"notification_type\"},{\"default\":false,\"kind\":null,\"name\":\"_destroyed\"}]},{\"extends\":null,\"module\":null,\"name\":\"TemplateActions1\",\"overrides\":[],\"properties\":[{\"default\":0,\"kind\":null,\"name\":\"open_modal\"},{\"default\":0,\"kind\":null,\"name\":\"close_modal\"}]},{\"extends\":null,\"module\":null,\"name\":\"MaterialTemplateActions1\",\"overrides\":[],\"properties\":[{\"default\":0,\"kind\":null,\"name\":\"open_modal\"},{\"default\":0,\"kind\":null,\"name\":\"close_modal\"}]}],\"roots\":{\"references\":[{\"attributes\":{},\"id\":\"14281\",\"type\":\"Selection\"},{\"attributes\":{\"fill_color\":{\"value\":\"#30a2da\"},\"hatch_color\":{\"value\":\"#30a2da\"},\"height\":{\"value\":0.8},\"right\":{\"field\":\"importance\"},\"y\":{\"field\":\"index\"}},\"id\":\"14283\",\"type\":\"HBar\"},{\"attributes\":{\"margin\":[0,0,0,0],\"tabs\":[{\"id\":\"14305\"},{\"id\":\"14307\"}]},\"id\":\"14247\",\"type\":\"panel.models.tabs.Tabs\"},{\"attributes\":{\"coordinates\":null,\"group\":null,\"text\":\"Feature Importances from LassoCV\",\"text_color\":\"black\",\"text_font_size\":\"12pt\"},\"id\":\"14252\",\"type\":\"Title\"},{\"attributes\":{},\"id\":\"14258\",\"type\":\"CategoricalScale\"},{\"attributes\":{\"axis_label\":\"Features\",\"coordinates\":null,\"formatter\":{\"id\":\"14293\"},\"group\":null,\"major_label_policy\":{\"id\":\"14294\"},\"ticker\":{\"id\":\"14265\"}},\"id\":\"14264\",\"type\":\"CategoricalAxis\"},{\"attributes\":{},\"id\":\"14265\",\"type\":\"CategoricalTicker\"},{\"attributes\":{\"axis_label\":\"Feature Importance [determined by coeff * mean(x)]\",\"coordinates\":null,\"formatter\":{\"id\":\"14290\"},\"group\":null,\"major_label_policy\":{\"id\":\"14291\"},\"ticker\":{\"id\":\"14261\"}},\"id\":\"14260\",\"type\":\"LinearAxis\"},{\"attributes\":{},\"id\":\"14268\",\"type\":\"PanTool\"},{\"attributes\":{\"child\":{\"id\":\"14306\"},\"name\":\"shap_values\",\"title\":\"shap_values\"},\"id\":\"14307\",\"type\":\"Panel\"},{\"attributes\":{\"axis\":{\"id\":\"14260\"},\"coordinates\":null,\"grid_line_color\":null,\"group\":null,\"ticker\":null},\"id\":\"14263\",\"type\":\"Grid\"},{\"attributes\":{},\"id\":\"14291\",\"type\":\"AllLabels\"},{\"attributes\":{\"axis\":{\"id\":\"14264\"},\"coordinates\":null,\"dimension\":1,\"grid_line_color\":null,\"group\":null,\"ticker\":null},\"id\":\"14266\",\"type\":\"Grid\"},{\"attributes\":{\"child\":{\"id\":\"14251\"},\"name\":\"from_model\",\"title\":\"from_model\"},\"id\":\"14305\",\"type\":\"Panel\"},{\"attributes\":{\"end\":14130601.116036523,\"reset_end\":14130601.116036523,\"reset_start\":-1436067.5029405807,\"start\":-1436067.5029405807,\"tags\":[[[\"importance\",\"importance\",null]]]},\"id\":\"14248\",\"type\":\"Range1d\"},{\"attributes\":{\"fill_alpha\":{\"value\":0.1},\"fill_color\":{\"value\":\"#30a2da\"},\"hatch_alpha\":{\"value\":0.1},\"hatch_color\":{\"value\":\"#30a2da\"},\"height\":{\"value\":0.8},\"line_alpha\":{\"value\":0.1},\"right\":{\"field\":\"importance\"},\"y\":{\"field\":\"index\"}},\"id\":\"14284\",\"type\":\"HBar\"},{\"attributes\":{},\"id\":\"14294\",\"type\":\"AllLabels\"},{\"attributes\":{},\"id\":\"14302\",\"type\":\"UnionRenderers\"},{\"attributes\":{},\"id\":\"14293\",\"type\":\"CategoricalTickFormatter\"},{\"attributes\":{},\"id\":\"14261\",\"type\":\"BasicTicker\"},{\"attributes\":{\"coordinates\":null,\"data_source\":{\"id\":\"14280\"},\"glyph\":{\"id\":\"14283\"},\"group\":null,\"hover_glyph\":null,\"muted_glyph\":{\"id\":\"14285\"},\"nonselection_glyph\":{\"id\":\"14284\"},\"selection_glyph\":{\"id\":\"14288\"},\"view\":{\"id\":\"14287\"}},\"id\":\"14286\",\"type\":\"GlyphRenderer\"},{\"attributes\":{\"source\":{\"id\":\"14280\"}},\"id\":\"14287\",\"type\":\"CDSView\"},{\"attributes\":{\"fill_alpha\":{\"value\":0.2},\"fill_color\":{\"value\":\"#30a2da\"},\"hatch_alpha\":{\"value\":0.2},\"hatch_color\":{\"value\":\"#30a2da\"},\"height\":{\"value\":0.8},\"line_alpha\":{\"value\":0.2},\"right\":{\"field\":\"importance\"},\"y\":{\"field\":\"index\"}},\"id\":\"14285\",\"type\":\"HBar\"},{\"attributes\":{\"bottom_units\":\"screen\",\"coordinates\":null,\"fill_alpha\":0.5,\"fill_color\":\"lightgrey\",\"group\":null,\"left_units\":\"screen\",\"level\":\"overlay\",\"line_alpha\":1.0,\"line_color\":\"black\",\"line_dash\":[4,4],\"line_width\":2,\"right_units\":\"screen\",\"syncable\":false,\"top_units\":\"screen\"},\"id\":\"14272\",\"type\":\"BoxAnnotation\"},{\"attributes\":{},\"id\":\"14290\",\"type\":\"BasicTickFormatter\"},{\"attributes\":{\"height\":390,\"margin\":[5,5,5,5],\"name\":\"shap_values\",\"text\":\"&lt;img src=&quot;data:image/png;base64,iVBORw0KGgoAAAANSUhEUgAAAyAAAAGGCAYAAACDquWyAAAAOXRFWHRTb2Z0d2FyZQBNYXRwbG90bGliIHZlcnNpb24zLjUuMywgaHR0cHM6Ly9tYXRwbG90bGliLm9yZy/NK7nSAAAACXBIWXMAAA9hAAAPYQGoP6dpAACHY0lEQVR4nOzdd1gUV9sG8HsXWHqRIqII9orGBLCL2Av2rjGKGo09JmpeoyaiMSZRY0k0ikZQNMbYW6yJgiV2Y++9AYr0Drvn+4OPDcOCgiLDwv27rr2SOXt2zjOzgPPMKaMQQggQEREREREVAqXcARARERERUcnBBISIiIiIiAoNExAiIiIiIio0TECIiIiIiKjQMAEhIiIiIqJCwwSEiIiIiIgKDRMQIiIiIiIqNExAiIiIiIio0DABISIiIiKiQsMEhIiIiIiICg0TECIiIiIiKjRMQIiIiIiIqNAwASEiIiIiokLDBISIiIiIiAoNExAiIiIiomz8/PxgYWGRp/cUCgXmz5+f7zbe9HP6zlDuAIiIiIiI9NmJEyfg6uoqdxh6gwkIEREREdFbaNiwodwh6BUOwSIiIiIiegvZh1IJITBr1iyUKVMGFhYW6NGjB/bs2QOFQoHg4GDJZzUaDWbMmAFHR0fY29tjyJAhSEhIKOQjKFxMQIiIiIiIcpGenq7z0mg0r/zMzz//DD8/P/j6+mLr1q2oWrUqRo4cmWPdJUuW4M6dO1izZg2++uorrF+/Ht988827OJQig0OwiIiIiIhykJCQACMjoxzfMzc3z7FcrVbj+++/x5AhQ/D9998DANq2bYvw8HCsWbNGp36ZMmXw22+/AQDat2+PM2fOYPPmzdrPFkdMQIiIiPRcWloaAgMDAQBDhgzJ9YKJiAAoeki3xdZcq5qamuLIkSM65StWrMD69etz/MyTJ08QGhqKLl26SMq7du2aYwLStm1byXatWrWwefPmXGMqDpiAEBEREVEJoshzTaVSCQ8PD53y3bt35/qZ0NBQAICDg4OkvHTp0jnWt7GxkWyrVCqkpKTkOUZ9xASEiIiIiEqQvCcgb8LJyQkA8OLFC0n58+fP32m7+oST0ImIiIiICoizszPKlCmDHTt2SMq3b98uT0BFEHtAiIiIiKgEebc9IAYGBvjyyy8xYcIEODo6okWLFjh06BAOHz4MIGNYV0nHM0BEREREJYgi26vgjRs3DjNmzEBAQAC6d++O69ev44cffgAAWFtbv5M29YlCCCHkDoKIiIjeHFfBIsoHRR/ptthYKM1Onz4dCxYswMuXL2FqaloobRZVHIJFRERERCXIux2CBQDXr1/HunXr0LhxY6hUKgQHB2P+/PkYNWpUiU8+ACYgRERERFSivPsExMzMDCdPnsTy5csRGxuLcuXKYfLkyfDz83vnbesDJiBERERERAXI1dUVf//9t9xhFFlMQIiIiIioBHn3PSD0akxAiIiIiKgEYQIiNyYgRERERFSCMAGRGxMQIiIiIipBmIDIjQkIEREREZUYIlsCwnSk8PFJ6EREREREVGiYgBARERERUaHhECwiIiIiKkE46EpuTECIiIiIqMTgHBD5MQEhIiIiohKEKYfcmIAQERERUQnCBERuTECIiIiIqMTIPgSLCh9XwSIiIiIiokLDHhAiIiIiKkHYAyI3JiBEREREVGIIuQMgDsEiIiIiKihJE7YiQTEBCYoJSOy8Qu5wKEeKbC8qbExAiIiIiApAQveV0Cw+ot0Wu68hoexXMkZEORFQSF5U+DgEi4iIiKggbL+qWxYaV/hx0Gsw6ZAbe0CISji1RuDmSw3SNRwVS0RERO8ee0CISrBOm9Px54P/ttuUBw705Z8FIiIqvjjsSn7sASEqoZ7ESJMPADj4GLgfnS5LPERERIWDk9DlxgSEqISqFZhzeZ1cyomIiIoDTkKXHxMQohIqLpeOjgR14cZBREREJQsHexMRERFRicFeD/mxB4SIiIiIiAoNe0CIiIiIqARhD4jcmIAQERER6TlNTCLgNB5I+v8Jfr6NoQwcIW9QRRSHYMmPQ7CoSPDz84OHh8c72beHhwf8/Pzeyb6JiIiKBJvR/yUfALD6H2i+21Hw7dQeDyh6ZLzGrij4/RcKLsMrNyYgVCKtX78eu3btkjsMIiKit6ZR57J84dRtBduQSR/g2pP/tpfuA4YtKdg2CgGX4ZUfExAqEqZPn47jx4+/k30fP34c06dPl5T9/vvvTECIiKh4iIgonHZScli/PeBQ4bRNxQoTEMqzpKSkd7ZvQ0NDGBsbv5N9Gxsbw9CQ052IiIiIioISlYBER0dj3rx58PHxQcOGDdG+fXt88803iMjhzoEQAtu2bcPgwYPRrFkzNGvWDH379sXy5csl9VJTUxEQEIA+ffqgcePG8Pb2xmeffYYbN25I6mk0GqxatQrDhw9Hu3bt0LBhQ/j4+OC7775DdHS0pO6zZ8/g4eEBf39/BAcHY+DAgWjcuDHatWuHxYsXIz09lyfIvULmHIuoqCh8/fXXaNWqFZo0aYKRI0fi+vXrubZ/4MABDBw4EE2aNMEPP/ygrbNz50589NFHaNKkCby8vPDJJ5/g5MmT2vfT09MxdOhQNGnSBHfv3pXsf/fu3fDw8MBPP/2kE19OMUdHR8PPzw+tWrWCl5cXJk6cqP3Otm7dil69eqFx48bo0aMHDh8+rHPsWeeAZB5baGgozp8/Dw8PD+0rLS0Nbdq0wdChQ3M8h+vWrYOHh4fkOImIiGQnhNwR6BUOwZJfibktHB8fj48//hgPHz5Ep06dULt2bdy9exdbt27FyZMnERQUBDs7O239r7/+Gnv37kXdunUxdOhQWFpa4sGDB/j7778xcuRIABkX2ePGjcOlS5fQsWNH9OnTB/Hx8di+fTuGDRuGlStXolatWgCAtLQ0rFu3Dq1bt4a3tzdMTExw9epV7NixAxcuXMC6detgZGQkifn48ePYvHkzevbsiW7duiEkJARr166FpaVlrhfJrzNu3DhYWVlh+PDhePnyJTZu3IgRI0YgICAAVatWldQNCQnBxo0b0bNnT/Ts2RPm5uYAgKVLlyIwMBA1a9bEqFGjkJKSgp07d2LcuHGYNWsWOnToAENDQ8yZMwcDBgzA1KlTsWbNGpiYmODBgweYO3cuateujdGjR+c55jJlymDkyJF48uQJNmzYgIkTJ6JVq1bYvn07unTpApVKhT/++ANTpkzBli1b4OzsnOO+SpUqhVmzZmHBggWwsbGRnEcjIyN06tQJa9euxYMHD1ChQgXJZ3fu3ImyZcuiQYMG+TjjRERE75iCF9H5w/MltxKTgAQFBeHBgweYOHEi+vfvry2vW7cuvvrqKyxfvhzTpk0DABw8eBB79+5Fx44d4efnB6Xyv44ijUaj/f8NGzbg3Llz+Omnn9C4cWNtea9evdC3b18sWrQIK1ZkrBChUqmwd+9emJiYaOv17NkTdevWxezZsxEcHIw2bdpIYr537x42btyIsmXLauv37dsXf/zxxxsnIE5OTpg7dy4U///HqmXLlhg0aBAWLlyIX375Raf9DRs2SC7EHz58iNWrV8PNzQ0rVqyASqWSxDZv3jx4e3vD1NQUZcqUwVdffYXJkydjwYIFmDRpEqZOnQqlUok5c+bkeVhU3bp1MXnyZO22QqHAunXrtAmUmZkZAMDT0xP9+/fHtm3bMG7cuBz3ZWpqio4dO2LZsmWwtbVFx44dJe93794da9euxfbt2zFhwgRt+ZUrV3Dv3j2MHDlSe+6IiIiKBPaA5At7PeRXYoZgBQcHw9raGr1795aUt2/fHuXLl5cM3dm7dy8AYPz48ZLkA4Bke9++fXBxcUGtWrUQHR2tfaWnp6NBgwa4ePEikpOTAWRcNGcmH2q1GnFxcYiOjoanpyeAjAvc7Ly9vbXJR+Y+PDw88PLlSyQmJr7ReRg0aJDkArpmzZpo0KABzp49i/j4eEndpk2b6vQChISEQAiBQYMGaZMPALCxsUHv3r0RGxuLs2fPastbtGiBPn36YOvWrRg1ahRu3bqFadOmoVy5cnmOuV+/fpLt9957DwDg4+OjTT4AoGrVqjA3N8fjx4/zvO/sXFxc4O7ujj///FMy1G3Hjh1QKpXo3LnzG++7oEVGRiIlJUW7HR8fj7i4OO12amoqXr58KflMaGhoobeRfTssLAwiyz+WbINtsI2CbSM8PLxYHIc+tpGT7KnBO/nOw6Tb2b2Lc/Uu2igsHIIlvxLTA/L06VNUq1ZN5667QqFApUqVEBISgvj4eFhYWODx48ewtbWFvb39K/d5//59pKSkoHXr1rnWiY6ORpkyZQBk9KysW7cON2/e1JnHERsbq/PZnC7Sra2tAQAxMTGSi++8qlixYo5lJ0+exLNnz1CtWjVtefny5XXqPn36FABQqVIlnfeqVKkiqZNpwoQJOHnyJC5evIjOnTvr9PS8TtYkDAAsLS0BZPTmZGdlZYWYmJh87T+7Hj16YNq0aThy5AhatmyJpKQkHDhwAI0aNYKjo+Nb7bsg2draSrYtLCwk2yqVSjKsEMj5nL3rNrJvZ/4+sA22wTYKro20tDRtWfa/U/p0HPreRk6yX96+i+NwdHr19cq7OFfvog0qOUpMAvIqIlvXZfbtV6lUqRImTpyY6/ulSpUCAPz999/48ssvUbt2bUyaNAmOjo5QqVTQaDQYN25cjm1m73150xjzKvvQoqzDxfLSbm7v3blzR3vn5N69e0hPT8/XqlQGBgb5Kn/bc9OyZUvY2Nhg+/btaNmyJf766y8kJCSgW7dub7VfIiKid4JDsEjPlJgEpFy5cnj06FGOF7/379+HjY2NNjt3dXVFSEgIIiIiXtkL4uLigoiICHh6er4yWQAyhnUZGxvD399fcmH/4MGDNz+oN3D//n3UqVNHp0ypVObp7njm5O579+7pDM/KXO0q6wTwhIQETJ06FVZWVujfvz+WLFmCpUuX4tNPP33LI3k7r5rHkTkZff369QgPD8eOHTtgZ2eHZs2aFWKEREREecS5ifnCYVfyKzFzQLy9vRETE4MtW7ZIyvfv34/Hjx+jRYsW2rIOHToAAH766SfJpHNAene9Y8eOiIqKQlBQUI5tZh3bmJmgZN2fEAKrVq16wyN6M0FBQZJjuHHjBk6fPg0PD488dSV7e3trJ4Fn7fKPiYnB5s2bYWVlBXd3d235nDlz8PTpU8ycORO+vr5o37491q1bJ/tStqampq8ct9u9e3doNBosWbIEFy5cgI+PD58lQkRERVMe/v1+Z8qVkq/tN6bI9qLCVmKuqAYNGoS///4b8+fPx82bN1GrVi3tMryOjo7apXUBoHXr1mjTpg327NmDJ0+ewMvLC5aWlnj06BFOnDiBjRs3AgD69++PU6dOYcmSJTh//jw8PT1hbm6OsLAwnDlzBiqVCv7+/gCAVq1a4dChQxg5ciR8fHyQnp6OkJAQ7ST1whIaGoqxY8fCy8sLERER2LhxI4yNjfHZZ5/l6fMuLi7w9fVFYGAghg0bhrZt2yI1NRU7duzAy5cvMXPmTJiamgIAtm/fjv3792PQoEFo2LAhAODLL7/ElStXMGPGDKxfv1628Z9ubm7YuXMn/P394erqCoVCgXbt2mnfd3V1hbu7u3ZBgq5du8oSJxER0esozc2hyemNKg4F29C9X4BKWZbQtzQBnhTujdSCwB4Q+ZWYBMTCwgKrVq3CihUrEBISgj179sDa2hqdOnXCyJEjdS6Ev/32W7z//vvYsWMHVq5cCQMDA5QtW1Yy4dzQ0BCLFi3C5s2bsWfPHm2y4eDggNq1a6NTp07auu3atUNiYiLWr1+PxYsXw9LSEl5eXhg7dixatWpVOCcBwM8//4wFCxZgxYoVSE5ORp06dfDpp5/qPAPkVcaMGQNnZ2ds2rQJy5Ytg1KpRM2aNTFlyhQ0atQIQMbQsvnz58PNzU3yvA9zc3PMmTMHw4YNg5+fH3766SdZlrUdNWoUoqOj8fvvv2tX/8qagAAZvSDnzp3DBx98AFdX10KPkYiIKM9mdAVm7vhv2wBQ3JpbsG1ULAOIrUBiCmBkABjp52UkExD5KcS7mM1MRY6fnx92794tWSKXXu2vv/7ClClTMHPmTPj4+MgdToFTzE/P9T0xST//USEqqdLS0hAYGAgAGDJkiM6DbalwJCgm5FhuLhYVSvsiXQ2x8TRQuxyU77kUSpv6KFrxP8m2jfhBpkhKLl5lEOVi48aNsLa2LtQeKiIiojelMDSAYkAjucMgei0mIHosMTHxtQ8kNDAw0C4FTK8XGRmJ06dP48KFCzh//jzGjBmT43LEREREpJ849Ed+TED02Nq1a7Fy5cpX1nFycsKuXbsKKSL9d+/ePUyfPh2Wlpbo2bMnPvroI7lDIiIiogLEOSDyYwKix3x8fFCvXr1X1jE2NgaQMQfEz8/v3Qel5zw8PDhPhoiIqFhjAiI3JiB6zNnZWfLQP6L8mNsU+OKYbvlsDh8mIqJijD0g8isxDyIkIqnJDXO+/zCtCe9LEBFR8SWgkLyo8DEBISrBxCRDfOkJuFgAX3hw+V0iIiJ693i1QVTCzWluiDnN5Y6CiIiISgr2gBAREREVhFJctl0fcAiW/JiAEBERERUA88jvAUvVfwWGCpjE8ynbRQ0TEPlxCBYRERFRATGPnQshBCAEFEre5y2amHTIjQkIERERUQFSKBSAghe5RRWfhC4/JiBEREREVGJw2JX82DdIRERERESFhj0gRERERFRisAdEfkxAiIiIiKgEYQIiNyYgRERERFRisAdEfkxAiIiIiol0ocCOq+lIVQv41DKCtSkvtIiy4ypY8mMCQkREpMdSktQ4tes57p+ujuXmNRB9MxkAYG0CHBlribpl+U89UVbsAZEfV8EiIiLSU0II/Pr5DfwVGIpzaS5wT0hDy9gEVEhORUySwNitSXKHSESkg7dFiIiI9NSNE9EIf5CEl2amMDcwBDQZg0vqJaciTaHAqQfyxkdUNLEHRG7sASEiItJTd85EAxCIMjXRea98ejpS1Rm9JET0HwGF5EWFjwkIERGRnkpPz0guUg0MoAGg/v+XBkCagRJQGWLWXykyRkhU9IhsLyp8TECIiIj0lMIg8/8EhAIZI0sUgFAA8QZKQKnA4hNp8gVIVASxB0R+TECIiIj0VHqyBgKARqF7EVU6NSPxiE7mPV6irJiAyI8JCBERkR4SQuDF+ZdIUyohckhADDUCEAKcAkJERQ0TECIiIj2jSdNgj9cexDyOh31EJEzS0iHJNITAU1MVoFAAxkbQMAshykKR7UWFjQkIERGRXJJSgIW7gP4LgB93AIl5mzB+9etzEP9GoPqt57CJS0WFyCiYpafDUKNBglKBS5amuGVhCigVgFqD/XfV7/hAiPQHJ6HLjwkIFaoRI0agc+fO72Tf/v7+8PDwwLNnz97J/omICly7b4DPA4ENx4BJa4BWM177kdSXyXj5wyVYJaTDLjIR1a6HofqtUFSKiMRhW0scsrfGQzOT/7+6yri86r0t/R0fCJH+4BwQ+TEBIb1y9uxZ+Pv7Iy4uTu5QiIjezsX7wNFr0rKTt4Azt1/5sdtj/4Ey223b8g9fIkVpgHSFEqVT0mAsBGCozBiCZahEglqJc2HsBSECmIAUBUxASK+cO3cOK1euzDEBGTZsGI4fPw4nJycZIiMiyqcjV3MuP3wl148k/hCCuA03dcrTDZS4bl8KtRNTYGygRIq5MaAyBEyMMpIQAB/t4WATIoAJSFFgKHcARAXF0NAQhob8kSYiPZGmybk8JQ14EQM8jQTWBgNBhyEiEpGEUkiGLRQoD4H/ps6mGBlgd5u6iDQzRZpCgSeW2Z6KrlAAArge+e4OhYgoP9gDosd27doFDw8PnDp1Cv7+/ujUqRMaNWqEvn37Yt++fTr1jxw5go8//hheXl5o2rQpBg0alGO9zHkaT548weeff47mzZvDy8sLn3/+OR4/fpxjDGfPns11P69z5coV+Pn5oUePHmjSpAm8vLwwdOhQHD58WGd/K1euBAB06dIFHh4e8PDwwK5duwDkPgckLCwMfn5+aNeuHRo2bIjOnTtjwYIFiI+Pz/FYzpw5g9WrV6Nr165o1KgRevTogd27d7/2OIiI8iW3lakW7ARKDwHenwgs2AUREQ9AA0OkwBQxsEYMUqFEopEBnpcywzMnS7jdeYg2F29ACM1/S/IqABgo/j9TyWhr600OwyLiJHT58XZxMfDzzz8jKSkJvXr1ApBxIT19+nQkJyejW7duAICtW7dizpw5cHFxga+vL4yMjLB3715Mnz4dz549w9ChQyX7TEpKwsiRI1G7dm2MHTsWjx49wubNm3H16lWsW7cODg4OBRZ/cHAwHj16hHbt2qF06dKIiYnB7t27MXnyZMyePRvt27cHAAwdOhTW1tY4fPgwPv/8c9jY2AAA6tatm+u+w8LCMHjwYMTExKBnz56oUKECLl26hPXr1+Ps2bMICAiAiYn0buGSJUuQmpqKHj16wMjICFu2bIGfnx+cnZ1Rr169AjtuIirhRC49INGJks3Mng4jxEMDBewRAzUM8TzNDsooBayiUhFjY4xnTg5oGPoCCSaGuOVgBRhluceoybjMWnVZoEf1d3AsRHqFw67kxgSkGIiOjsaGDRtgYWEBAOjVqxf69euHRYsWoV27dkhPT8fChQtRtmxZBAUFaev17t0bQ4YMgb+/Pzp27IgyZcpI9tm/f39MnDhRW/bBBx9g8uTJ8Pf3x/Tp0wss/mHDhmHs2LGSsn79+mHAgAFYtWqVNgFp2LAhLl68iMOHD8Pb2xtly5Z97b6XLl2Kly9fYv78+fD29gaQcdwVKlTAsmXLsH79ep3kKy0tDUFBQTAyMgIAtG7dGl27dsXGjRuZgBBRwVEa5Kt6EuyRDFsoATghCraIw1VUggYGsI5OQbpSBYXKCI3Do3DbyVp6Z1eZccH1lOt3EHHeRxHAIVjFQK9evbRJBQBYWFigZ8+eiI+Px9mzZ3Hq1CkkJSWhT58+knomJiYYOHAg1Go1QkJCdPY7ePBgyXaLFi3g6uqK4ODgAo3f1NRU+//JycmIjo5GcnIyPD09cf/+fZ2hUnml0Whw5MgRVKlSRZt8ZPrwww9hZmamM8wLyEhQMpMPAChdujRcXFx0hp/JLTIyEikp/z0zID4+XjI5PzU1FS9fvpR8JjQ09JXbYWFhEFmGhbANtsE23mEb+Xg4oIACybCRlBkjHaXwX3sW8ckAgFhjwxyfjA4ACel6eq7YRoloo7BwErr82ANSDFSoUEGnrGLFigCAJ0+eaP8AVK5cWadelSpVAABPnz6VlFtaWsLe3j7H/QYHByM+Pl6SzLyNyMhILFu2DCEhIYiM1J0l+aZtRUVFISEhAZUqVdJ5z8TEBM7OzjrHDQDlypXTKbO2tkZYWFi+Y3iXbG1tJdvZz5FKpYKdnZ2kLPsKYdm3s/aCsQ22wTbecRua/I4+171QMkDGMC6NQoEIBysIAC8MDKBUa6AxyHKPUQhAoYC1sZ6eK7ZRItooLJz3IT8mIMWAIpc7Xa97D4DkbkVePpe9/qv2r1a/frKjRqPBmDFj8ODBA/Tr1w+1atWChYUFlEoldu3ahX379kGjyWWc9Gvkdmyve1+pzLlj8HX7IyLKF4O8D0JQQECFOKTCSlumhgKRsESakQIXPqiANGMDHLe1wiUbKyA+HbAwypiELkRGsqNUoFvVd3EgRET5wyFYxcD9+/dzLStXrhycnZ0BAHfv3tWpd+/ePQDQ1skUGxuLiIgInfoPHjyAjY2N9k6GlZWVtn52eXki+Z07d3D79m34+vri008/RZs2bdCoUSM0aNAgxwTmdQlVVra2tjA3N9ceY1YpKSl4+vSpznETERWa3Cah92wEvOcKlLEG6lcBVAYQAMwQDiWSoYYSMTDHFZOKeFnaHA9rlobGUgX7uHi0eBIGx8RkIF0DRKcAUclAqiZjDogCmPAB/9kn4hAs+fEvUTGwefNmyTyJ+Ph4bNmyBZaWlvDw8ECDBg1gamqKTZs2SeqlpKRg3bp1MDAwgJeXl85+16xZI9k+fPgwHj58KJlP4eLiAgA4ffq0pO6+ffvw4sWL18ae2duQvXfhzp07Oc41MTMzA5BzwpPTvr28vHDnzh0cPXpU8t7vv/+OxMREtGjR4rX7ISJ6J3LrVK3rClxYCIQGAqfmAimbAPVmqL/9GOkGpniCMrimqoAIayskmpsgokwpiP+fZG6bmoZuD7MMLdVAO9eklAqwMOY/+0RMQOTHIVjFgI2NDQYPHowuXbpACIFdu3YhLCwM06dP107wnjBhAr777jsMGjQIXbp0gaGhIfbs2YNbt25h9OjROmM3bWxscOjQIbx48QLu7u7aZXjt7OzwySefaOtVqFAB9evXx9atWyGEQLVq1XDr1i0EBwejfPnySE9Pf2XsFStWRKVKlRAUFITk5GS4urri0aNH2Lp1KypXrowbN25I6ru5uQHIWN2qXbt2MDIygpubW47zNgBgzJgxOH36NL744gvtMryXL1/Gn3/+iWrVqqF///75Pt9ERAXCwSrn8tK65QqlEkZTO8Duy/YIbbwF6ssZE84TLUx06pZNSoaRWoM0A2VG8qEyAASwsQsvtIgAzgEpCpiAFAPjxo3DhQsXsHHjRkRGRqJ8+fKS52cAQM+ePWFvb4+goCD8+uuvEEKgcuXKOvUymZqaYtmyZViwYAGWLFkCIQQaNWqEzz77TOcZILNmzcK8efOwb98+7NmzB++//z6WL1+O7777TmeVjOwMDAywePFiLFq0CLt370ZSUhIqV64MPz8/3Lp1SycBqVevHkaPHo2tW7fim2++gVqtxowZM3JNQMqUKYPVq1dj+fLlOHjwIGJiYmBvb48BAwZgxIgROs8AISIqNO3ez5hXnvVqSAGgk0euH1EoFKjxZyc8KrcRAGCcnKpTJ1JlhDQAUKthYqREsloDezOgdQUjnbpEJRF7PeSnEJxZq7d27dqFmTNnYvny5fDwyP0frPwaMWIEQkNDtU8YJyKid+TbzcBX6zOSEAWAr/sAfv1e+7HLX5/DjWW3IAwUeOpaGnE25gAAtQL418EeNywtYAzgibERoi2McWeCCSrb5e+5I0TF1WXFT5LtOmK8TJGUXOwBISIiksu0XkCfxsDZu8AHlYDqOffmZldnljseno7Eo4dJMEpKRWwpK4SXskKciTE0BgaompqGJ0aGSDAyANIFkw8iKlKYgBAREcmpatmMVz512tcGyz88hadRhnhoXwpJKpX2PQUAC40Gao2AUpX7PohKIg79kR+XwyAiItJTTvVLQyEEjHJ4XpJQKCAUGSvwEtF/uAqW/JiA6LHOnTvj7NmzBTr/AwBWrFjB+R9ERHogPU0DJQDzHCajPzE2glAqYWfC+71EWelzAnLjxg30798fTk5OUKlUOH/+PABg5syZOHz4sMzR5R0TECIiIj1lpFICEIg1NUaMgQJRhgaIMVDisrkJHptkjL0a25CrXxFlJbK99MWFCxfg6emJkJAQeHt7Sx7YHB8fj+XLl8sYXf4wASEiItJTmetYphgawlQjcNrSDMdsLPDo/5MPCIGJXsbyBUhUBOlrD8iUKVNQt25d3LlzB2vXrpU8xLl+/fo4c+aMjNHlDyehExER6SkTcwMoAJimpSHV0ADvxyfiirkpkgyUMFFrYGCggamR/lxgEVHujh8/jnXr1sHMzEzS+wEAjo6OCAsLkymy/GMPCBERkZ6q09wOAoBLdCwgBOzT1WgeE48WUXGwTk5F2+q8z0ikS5HtpR+EEFCpcl7WLioqCsbG+tPbyQSEiIhIT5Wtag7Pjg4wUatRN+wFrBIS8UKhwL/GKqjsjbCwm7ncIRIVOfo6BKtu3brYtm1bju/t27cP7u7uhRzRm+OtESIiIj3WeVwFuHe0xaagfXAulYBBbfoBCgO0rmYElaH+XFwRFRZ9mnie1aeffooBAwbA3NwcH330EQDg0aNHOHToEAICArB582aZI8w7JiBERER6zsHFFKblogEAbaoZwsiIK18R5Uafej2y6tu3L+7evQs/Pz/89NNPAICePXvC0NAQM2fOROfOnWWOMO+YgBARERFRiaGvPSAAMHXqVAwaNAj79+9HeHg47O3t0a5dO7i6usodWr4wASEiIiKiEkOjpz0gmZydnTFs2DC5w3grTECIiIiIiIq4R48evbaOi4tLIUTy9piAEBEREVGJoa9zQCpUqACF4tWxZ38+SFHFBISIiIiISgx9nQMSEBCgk4BERERg586dePLkCaZPny5TZPnHBISIiIiISgx97QHx9fXNsXzixIno3bs3Hj9+XLgBvQU+iJCIiEjP3boSg5C97ji+rx5iY9LkDoeoSNPXBxG+iq+vL3799Ve5w8gzJiBERER67H8jLqN3oMBjx7K441gezfxiEbw3TO6wiIoske1VHKSnpyM6OlruMPKMCQgREZEeO6i0RaylCtftLXDT3gJpZirMWhcrd1hEVAjS0tJw7tw5zJgxA++9957c4eQZ54AQERHpsRfW5igXlQSVJuNebryRAR6WsZU5KqKiS1+HXSmVylxXwSpVqhT2799fyBG9OSYgREREeswyJR3PjQzxXGUIAwGUS0kFBzgQ5U5fE5Cvv/5aJwExMTFBhQoV0LFjR1haWsoUWf4xASEiItJjcVDgialKu33DwAQVUlJljIioaNPXeR9+fn5yh1BgmIAQERHpsReqbP+UKxSIU+rnHV6iwqCvPSDFCRMQIiIiPWagEbojrjQaWWIh0gf61AMya9asPNdVKBT46quv3mE0BUchhNCn74GIiIiyqDvqGTRKA1RISkG6QoHbZsYwhsC1nx3lDo2oSDqkCJRstxRDZIrk9ZTKvM/nUigUUKvV7zCagsMeECIiIj3mFp8EjdJAu+0Zm4gEzkEnypU+DcHSFNPeTCYgREREekyRw0AGo3T9uAtKJAd9SkCKK94jISIi0mMO8ZE6ZZWiQmWIhEg/aLK9qPAxASlCnj17Bg8PD/j7+7+yTG67du2Ch4cHzp49K3coREQlns+1ECjEf5dRJqnJaHr3jIwRERVtQqmQvPTJkSNH0KtXL9SuXRuVKlWSvCpXrix3eHnGBISIiEiPhRsb47aREqEqQzxRGeGJIg13re3lDouoyBIK6UtfHDt2DK1atUJMTAyuX7+OGjVqoFy5cnj06BEMDQ3h5eUld4h5xjkgRZyTkxOOHz8OAwOD11cuJB07dkTbtm1hZGQkdyhERCXekvc74rm5hXZUuzB1gmG6ASbKGhURFbQZM2ZgyJAhWLZsGYyMjDB79mx88MEHuHTpEtq3b48ePXrIHWKesQekiFMoFDA2NoahYdHJFQ0MDGBsbJyvpeGIiOjdeG5pKZlSqwDwzMpSrnCIijx9HYJ15coVdO/eHQpFRsyZS+7WrVsXX331Vb6eGSK3onNVK6Ndu3Zh5syZWLp0KS5duoQdO3YgKioKVapUwcSJE1G3bl2cO3cOv/zyC27evAlzc3P07NkTw4cP1/4QAMC1a9cQEBCAf//9F4mJiXBycoKPjw8GDx6sk0AcPXoUK1aswN27d2FpaYnWrVvnmLk+e/YMXbp0wfDhw/HJJ59oyzdt2oTg4GDcu3cPUVFRsLa2Rv369TFq1CiULVtWsg8PDw906tQJ3bp1w5IlS3D9+nWYmJjA29sbEydOhJmZ2Rudr+XLl8PDw0NStmzZMly9ehXbtm3D8+fP4eTkhKFDh6JTp046+zl79izWrl2LK1euICkpCQ4ODnB3d8f48eNhY2MDIOOXa/369di1axeePHkCY2NjvPfeexg+fDhq166d43H6+Pjgl19+wa1bt2BtbY0+ffrA19cXsbGxWLRoEY4ePYrExER4eHhg6tSpcHSUrpUfHx+PgIAAHDp0COHh4TA3N0f9+vUxevRoODs75+tcERG9azldPgneICLKldDTX4/ExERYWFhAqVTC2NgYERER2vdq1KiBa9euyRhd/jAByWLJkiUAgP79+yMtLQ2//fYbxo0bh5kzZ+Kbb75Bjx490KFDBxw8eBArVqxA2bJltRfWx44dw+TJk1G+fHkMHDgQVlZWuHz5Mvz9/XHr1i388MMP2nYOHz6M//3vf3BwcMDQoUNhYmKC/fv34+LFi3mOdd26dahbty4aNGgAS0tL3L17F9u3b8eZM2ewYcMG7QV8plu3bmHixIno0qULOnTogHPnzmHHjh1QKpWYNm3a25+8/7dkyRKkpqaiR48eMDIywpYtW+Dn5wdnZ2fUq1dPW2/Lli34/vvv4ejoiF69eqFMmTIICwvD0aNHER4ero1/xowZ2LdvHzw9PdGjRw/ExMRg06ZN+Pjjj/Hzzz9rE6BMN2/exNGjR9GjRw/4+Pjg77//xpIlS6BSqfDnn3+iXLlyGDFiBB4/fow//vgDM2bMwPLly7Wfj4+Px9ChQxEWFoYuXbqgUqVKiIiIwJYtW+Dr64u1a9fCycmpwM4XEdHbskzXICrbMF2rYvrsAKKCIAz0p9cjKxcXF4SHhwMAatWqhT///BMdOnQAAISEhMDOzk7O8PKFCUg2gYGB2t6KypUr47PPPsP//vc/rFmzBjVq1AAAdO3aFZ06dcLmzZvRqVMnpKSkYNasWXBzc8OyZcu0n+/ZsyeqVq2KhQsX4uzZs/Dw8IBarcb8+fNhZmaGNWvWwN4+Y6Jgnz59MGzYsDzHuWHDBpiamkrKvLy8MHr0aOzYsQODBw+WvHf79m0EBASgTp062tgSEhKwc+dOfPbZZ/nuBclNWloagoKCtPNDWrduja5du2Ljxo3aBCQ8PBzz589HxYoVERAQAAsLC+3nR40apX3ozqlTp7Bv3z60aNECP/zwg3bIl4+PD/r27YvvvvsOmzdvlvRC3b17F6tXr0atWrUAAN26dUOnTp2wcOFC9OvXDxMnSkdFr1+/Hg8ePECFChUAAMuWLcPTp08RGBiIatWqaet17twZ/fr1g7+/P/z8/ArkXBERFQSL9FS8MDaCIQDx/y/HmGgA5WWNi6io0ujRsKusvL29ERwcjF69emH48OEYPXo0rl+/DmNjYxw4cEDnGqco09NOqHejZ8+ekqFS7733HgCgTp062uQDAIyMjFC7dm08fvwYQMaFcmRkJHx8fBAfH4/o6Gjtq0mTJto6AHDjxg2Eh4ejc+fO2uQDAFQqFT788MM8x5qZfGg0Gm2b1apVg4WFBa5cuaJTv06dOtrkI5OnpyfUajWePXuW53Zfp3fv3pLJ6aVLl4aLi4v2XAHAX3/9hbS0NAwbNkySfGTKTDSCg4MBAMOGDZPMN3F2dka7du3w8OFD3L17V/LZOnXqaJMPADA0NEStWrUghEDfvn0ldd9//30A0MYmhMC+ffvw3nvvoXTp0pLv0dTUFG5ubjh58uSbnJZ3IjIyEikpKdrt+Ph4xMXFabdTU1Px8uVLyWdCQ0NfuR0WFgaR5aFmbINtsI2i30aUSMEzUxWeGRvhmYkRnpiqkIQEvTsOtsE2CotQSl/6YubMmRg/fjwAYOTIkZg/fz6io6Px/PlzTJ8+HbNnz5Y5wrxjD0gW2edOWFlZAUCOQ26srKwQExMDALh//z4AYPbs2bl++Zm/ZE+ePAEA7R33rCpWrJjnWM+cOYOVK1fi6tWrkl9wAJJf8EzlypXTKbO2tgYA7XEUhNzaCQsL025nXvBn7WHIydOnTwHkfF6qVKmirZP5/4Dudwjk/j1aWmZM0sw8/qioKMTExOD06dNo3bp1jjEVpYn3tra2ku3syZxKpdLpjs1+DrJvlylThm2wDbahZ23ctisNAEjPclf3fJkKenccbINt0KvZ29tLbl5//vnn+Pzzz2WM6M0xAckit4vL1y2Bm5nxjx07FjVr1syxjoODg2Q767Ch/Lpy5QrGjh0LZ2dnjB07FmXLloWxsTEUCgWmTp2qHcKU1auOIesdi7eV2znM2kZe2xNC5HqectvHq44zt/cy95X5Xw8PDwwZMiRPMRIRyU2lVCAtW1m6ibEssRDpA31a+SqrJUuW4MMPP0SpUqXkDuWtMQEpAK6urgAAExMTNGjQ4JV1M1dRyuw1ySqnspzs378farUaP/30k6THISkpKcfej6Im83zdvHnzlb0+zs7OEELg/v37kiFwAHDv3j1tnYJSqlQpWFpaIj4+/rXfIxFRUdE0IhrHbKyQYJhxk8UhNQ1u8QkA9P8ihehd0KeHD2Y1fvx4TJ48GV26dMHQoUPRtm3bt7qhLaeiM55EjzVq1Ai2trZYu3YtoqOjdd5PTk5GQkLGeNwaNWrA0dERu3fvliyflpqait9++y1P7WXeyc/eCxAQEJBj70dR06pVKxgZGSEgIADx8fE672cel7e3N4CMhQGyHuvTp0+xb98+uLq6olKlSgUWl1KpRPv27XHjxg3s378/xzqRkZEF1h4RUUFwTEpB+5cx6PwiBl1exMA7Kg4VYxJe/0GiEkpfnwNy/fp1jB8/HsePH0fHjh1Rvnx5TJs2Dbdv35Y7tHxjD0gBMDExwcyZMzFp0iT07NkTXbp0gYuLC+Li4vDgwQMcPnwY8+bNg4eHBwwMDDBp0iT873//w+DBg9G9e3eYmppi3759eR6a5O3tjfXr1+PTTz9F9+7dYWRkhFOnTuHOnTs6y+8WRY6Ojpg4cSJ++OEH9OvXDz4+PnBycsLz588REhKCr7/+GtWrV0eDBg3Qrl077N+/H2PGjIGXlxdiYmKwefNmaDQafPnllwWe+Y8ZMwYXL17E9OnTERwcjDp16sDIyAihoaE4fvw4atasyVWwiKhIUWoE1EoDZA4yTVMawDw55ZWfISrJNPqTc0hUr14dP/zwA7777jvs27cPq1evxoIFC/D999+jcePGGDp0qN4MIWcCUkAaNWqENWvWYM2aNdi3bx+ioqJgZWUFZ2dnfPjhh6hataq2bosWLfDjjz/C398fAQEBsLS0RKtWrdCzZ0+dlZpyUq9ePcydOxe//vorli9fDmNjY9SvXx8rVqzA8OHD3+VhFphevXrB2dkZQUFB2LBhA9LS0uDg4ABPT0/JgwFnzZqFGjVqYNeuXVi8eLHkQYRubm4FHpeFhQUCAgKwbt06HDx4EEeOHIGBgQFKly6NevXqoVu3bgXeJhHR20gyNNIpizfmHBCi3OhTr0dOlEolOnbsiI4dOyI6Ohrr16/H999/j+HDh+tNAqIQBTkDmYiIiApV34/uIdVImoSYpCTj99+q5vIJopJts+MGyXav8H4yRfJ2YmNjsWHDBgQGBuLUqVMwMzPLcWh7UcQ5IERERHrMMiUZyHIvUanRwECTLmNEREWbUEhf+ubvv//GwIED4eTkhJEjRwIA/P39dZ7NUpRxCBYByJgon5esOev600REJD8BgcovIxFlagqlELBJSkSU4auXjycqyYSerhw1Y8YMrFmzBo8fP4ajoyPGjh2LIUOG6KwUqg+YgBAA4ODBg5g5c+Zr6509e7YQoiEiorw6VLksar+IRvWIWKgVwLEKZaBMZw8IUW70dRL6999/j06dOmHJkiXo0KHDa59TV5QxASEAGZPoly5dKncYRESUT86xCagbHq3dbv4gHAcrlJYvIKIiTl8noT99+rTYjERhAkIAMoZWFZcfaiKikqTW8xjJthKAaxSfA0KUG32c9wEUr2HwnIRORESkx8pGReuU1Qh9XviBEBHlERMQIiIiPdbo7nXJtoFaDe+bV2SKhqjoEwqF5EWFj0OwiIiI9Fitp/dRKjkeV8tVhJFaDfcHN5GqUcsdFlGRpa+T0IsTJiBERER67JJTGTR99BDVw54AAASAQPeGqCtvWERFFns95McEhIiISI9daFwfcebmaHD/LtINlPjT7X00+uwDucMiKrL0dRJ6VklJSYiMjISjoyMMDfXvcp5zQIiIiPTY1N8bwH1pWyxr3B4BDVph0OaWaNC3gtxhERVZGoVC8tInhw8fRqNGjWBpaQlXV1dcunQJADBmzBhs3bpV5ujyjgkIERGRnnNt6ojKfa+jQt9bsHA0lzscoiJNKKQvfXHo0CG0bdsWycnJmDRpEjQajfY9e3t7rF69Wr7g8okJCBERERFREff111+jY8eO+PfffzF79mzJe++99x4uXLggT2BvQP8GjRERERERvSF9nYT+77//YtOmTQAARbZjcHBwwPPn+vP8HyYgRERERFRi6GsCYmhoiLS0tBzfe/78OSwtLQs5ojfHIVhEREREVGLo6xwQT09PrF27Nsf3Nm/ejEaNGhVyRG+OPSBEREREVGIIpR5lHVlMmTIF7dq1Q/fu3TFo0CAoFAqcOnUKAQEB2Lx5Mw4fPix3iHmmEEIIuYMgIiKiN7faMwjHrcvCRJ2G1hbx6Lqrt9whERVZ/jV3SLY/ud5Vpkjyb926dZgwYQIiIyO1ZTY2Nvj555/x4YcfyhhZ/jABISIi0mMzGm/D7Ibe0KgMASFglZiMObdPYMw+/bmoIipM+piAqNVq3L17F6VLl4axsTH++ecfhIeHw97eHk2aNIG5uX4tv80hWERERHpsjZsnYGMCGBoAABJMDbE5vCLGyBwXUVGlj0OwhBCoVasWdu3ahQ4dOqBVq1Zyh/RWmIAQERHpsfhSptD8f/IBAGqVIe45OsgYEVERp4erYBkaGqJMmTKShw/qM66CRUREpMeMFLoXJPbpCTJEQqQfhFIheemLfv36ISgoSO4wCgR7QIiIiPRYw8d3sb32B5Ky+k/uAagiT0BERZy+PgekXr16+OOPP9CyZUv06NEDTk5OOg8k7NGjh0zR5Q8TECIiIj02/eA+3LJ3xDXHcgCAjjcvwffUGQBt5Q2MqIgSCv0cADRo0CAAwNOnTxEcHKzzvkKhgFqtLuSo3gwTECIiIj1W+qUG//40GxfKlYN5agoqv4jGHdOKcodFRAVMn57z8TpMQIiIiPTYRUdn1As1RIWnSRAwRASccb6sM9zkDoyoiNKneR9ZNW/eXO4QCox+9kERERERAOCHRg0Rb6RCKsyQBhM8tLLCL57vyx0WUZElFArJiwofe0CIiIj02AszUzQbPBAd7t5DgpER9laphCbPnsgdFlHRpac5R8uWLV/5vkKhwN9//11I0bwd9oAQERHpsU/On0eEuRnW1nXD1prVIQB8ePmK3GERFVn62gOi0WgghJC8Xrx4gWPHjuHWrVsQQsgdYp6xB4Ty5OzZsxg5ciRmzJiBzp07F+i+PTw80KlTJ/j5+RXofotqu0REBanps1D8vm0bNteoAbP0dAy5eBFpKpXcYREVWfo6BySnla8A4NatW+jatStmzJhRuAG9BfaAUKHw9/fP9RcnJ+vXr8euXbveXUBERMVEnJkBXGPj4BEWBo+wUJhoAHNNrNxhEVEhqVatGiZPnowvvvhC7lDyjD0gVChWrlyJTp06wdvbW+e948ePw8DAQFL2+++/w8nJqcB7W4iIiptEhRq9Bg6AmUIBDRRQpKRgz+/+codFVGTp07CrvKpQoQKuXNGfoZfsASHZGRsbw9CQuTAR0Zv4tnk7lBWAtUaglEYDayMjzG3SWu6wiIosfZ0D8ipbtmxB2bJl5Q4jz3jVR29Eo9EgMDAQJ0+exKNHjxATEwM7Ozs0bdoUo0aNgo2NDYD/5o4AwO7du7F7924AgJOTk3aIVda5GM+ePUOXLl0AAKGhofDw8NC2efbsWe37w4cPxyeffCKJyd/fHytXrsTOnTslv4SXLl3Czz//jGvXrsHExARNmjTBZ599luuxHThwAH/88Qdu374NtVqNKlWq4KOPPkLr1vwHnYiKnpelbJHRh5x5ISVw3qWSfAERFXH6mnQMHTpUpywlJQWXLl3CtWvXMHfuXBmiejNMQOiNpKWlYd26dWjdujW8vb1hYmKCq1evYseOHbhw4QLWrVsHIyMjVKxYEbNmzcLXX3+N999/H927dwcAmJmZ5bjfUqVKYdasWViwYAFsbGxy/GXLjytXrmDUqFEwNjbGwIEDUapUKYSEhGDcuHE51v/ll18QEBCAxo0bY+TIkVAqlQgODsaUKVPwxRdfoE+fPm8VDxFRQVNCAem6ogqAvcpEudLXBOTQoUNQZIvdxMQEFSpUwJdffokBAwbIFFn+8S8UvRGVSoW9e/fCxMREW9azZ0/UrVsXs2fPRnBwMNq0aQM7Ozt07NgRX3/9NcqVK4eOHTu+cr+mpqbo2LEjli1bBltb29fWf50FCxYgPT0da9asQZUqVQAAffr0wcSJE3Hjxg1J3evXryMgIAC+vr4YO3astrxfv36YOHEili5dCh8fH5ibm79VTEREBUmjUMAg2+qb+rrKD1Fh0NcE5MGDB3KHUGA4B4TeiEKh0CYfarUacXFxiI6OhqenJwAUiYlQkZGRuHTpEpo2bapNPgBAqVTC19dXp/6+ffsAAD4+PoiOjpa8vLy8kJCQgMuXLxdW+K8VGRmJlJQU7XZ8fDzi4uK026mpqXj58qXkM6Ghoa/cDgsLk6wjzjbYBtso+m04JsQgu7JxkXp3HGyDbdCrBQUF5XrOIiMjERQUVMgRvTn2gNAbO3jwINatW4ebN28iPT1d8l5srPxLQD59+hQAULFiRZ33KlXSHR99//59AEDv3r1z3WdR+mNpa2sr2bawsJBsq1Qq2NnZScqcnJxeuV2mTBm2wTbYhp61UfPlSxjdf4mGNx8hxcgQh+pWRq2YRwBq6tVxsA22UVj0tQdkyJAhOHHiRI7n7f79+xgyZAgGDRokQ2T5xwSE3sjff/+NL7/8ErVr18akSZPg6OgIlUoFjUaDcePGvbOncWYf+5iVWq3O82detZ/FixfnuipX5cqVXxMhEVHhcnkah7bn7mi3az9+jiPu5WWMiKho09chiq+6tkpOTtZ5pEFRxgSE3sjevXthbGwMf39/yTyQghqfmFuCYGVlBSDnHpbMHo9Mzs7OAIB79+7p1L17965OmYuLC/755x84OjpKhmwRERVlja4/kmwbCIF6t0NzqU1E+tQD8ujRI8m11b///ovk5GRJnaSkJKxYsQIuLi6FHN2bYwJCb0SpzJg+pNFotGVCCKxatSrH+mZmZvkalmVqaioZK5rJ3NwcdnZ2OHPmDIQQ2kTlyZMnOk9aL1WqFOrWrYtjx47hzp072qRCo9Fg9erVOvvu0KEDNmzYgKVLl2LevHk6vSCRkZE6XcpERHKzTEpG9imdZilp8gRDpAf0KQEJDAzEzJkzoVAooFAoMHr0aJ06mT0jixcvLuzw3hgTEHojrVq1wqFDhzBy5Ej4+PggPT0dISEhOll5Jjc3N5w+fRpBQUFwdHSEqakpvLy8ct2/m5sbdu7cCX9/f7i6ukKhUKBdu3YAMlaxWrZsGcaPH4/mzZsjIiICW7ZsQeXKlXHt2jXJfj7//HN88sknGDFiBPr06QMbGxuEhITkmNzUrl0bn3zyCfz9/TFgwAC0adMGDg4OiIiIwPXr13H8+HGcPHnyLc4aEVHBUxkmIzUt69LmAqkW+nOBRVTY9CkB6dOnD9zc3CCEQJ8+fTBnzhxUrVpVUsfY2Bhubm6oUKGCPEG+ASYg9EbatWuHxMRErF+/HosXL4alpSW8vLwwduxYtGrVSqf+F198gR9++AG//vorEhMT4eTk9MoEZNSoUYiOjsbvv/+O+Ph4bZsAMHjwYMTHx2PPnj04d+4cKlasiK+++grXr1/XSUDc3NywbNky/Pzzz1i7dq32QYRz5sxBmzZtdNodPnw4atasiQ0bNuD3339HUlISbG1tUblyZUyaNOltThkR0TsRYWuKvc6VUDYqGSmGBkgyE/B4ESZ3WERUAGrWrImaNTMWlAgMDESnTp1km7xfkBTiXc0WJiIioneu3oc3AajR++YVJBoaIcjtfZSPTcA/G2vLHRpRkTSn1T+S7al/N5YpkpKLPSBERER6rHxsJIL+3AzD/7+f+MmFM+ja+yOZoyIquvRpCFZ2kZGRWL9+Pa5fv46kpCTJewqFIte5uEUNExAiIiI9Nv78CW3yAQClUpLx4fWLyHwOCBFJ6WsC8ujRI3h6eiIxMRGJiYmwt7dHZGQk1Go1SpUqBWtra7lDzDM+CZ2IiEiPlU5M0CmrGBWZQ00iAgChkL70xZQpU1C7dm2Eh4dDCIG9e/ciISEBP//8M0xMTPDnn3/KHWKeMQEhIiLSY0cqZCwxnq5QQv3/d3ZPl9ef5wEQFTahUEhe+uLEiRMYNWqU9vlrQgioVCqMGTMGw4YNw+TJk2WOMO84BIuIiEiPKTWmWNC8E05WrgojdTraX74E61T9eSIyUWHTp6Qjq/DwcDg5OUGpVMLAwEDyfLXmzZvjp59+kjG6/GEPCBERkR57bmOLY9VqIN3AAEkqY2xz94SBhgkIUXHj6OiIyMiM4ZUVKlTA2bNnte89ePBA5wHKRZn+REpEREQ6rpVz0im75eQoQyRE+kGjpz0gDRs2xL///osuXbqgR48emDVrFlJSUqBSqTBv3jy0bNlS7hDzjAkIERGRHksz0B3MkGKonxdYRIVBQD9/PyZNmoQHDx4AAL7++mtcv34dM2bMgBACXl5eWLx4sbwB5gMTECIiIj1W98ktnKhSF8i8qysEPO/eAFBX1riIiip9nQPi7u4Od3d3AIC5uTl27tyJ2NhYKBQKWFpayhxd/nAOCBERkR4bOLsuWl0/A9OUBFgnRqPHmWCMO91T7rCIiix9XQUrJ1ZWVnqXfABMQIiIiPRatSblMPGwD9pVCUGrOsfw8Zk+UBpyEjpRbvQ5Ablx4wb69+8PJycnqFQqnD9/HgAwc+ZMHD58WObo8o4JCBERUTFg5KiBQSm5oyCid+XChQvw9PRESEgIvL29oVarte/Fx8dj+fLlMkaXP0xAiIiIiKjE0OcnodetWxd37tzB2rVrIYTQvle/fn2cOXNGxujyh5PQiYiIiKjE0NdleI8fP45169bBzMxM0vsBZDwjJCwsTKbI8o8JCBERERGVGPo27yOTEAIqlSrH96KiomBsbFzIEb05DsEiIiIiohJDXyeh161bF9u2bcvxvX379mmX6NUH7AEhIiIqBkyik5Gu4n1FotfR1yFYn376KQYMGABzc3N89NFHAIBHjx7h0KFDCAgIwObNm2WOMO8UIusMFiIiItIrceee4EGLtRAJRjAQasTaq9AofMJ/DyYkIolJ3S9LtudvqyNTJPk3Z84c+Pn5Qa1WQwgBhUIBQ0NDzJw5E1OmTJE7vDxjAkJERKTHzpn/iMREKwAZCYcCGqTbJ8P7xXh5AyMqoib2kCYgP27VnwQEAB4/fowDBw4gPDwc9vb2aNeuHVxdXeUOK184BIuIiEiPpSaaITP5AAABJUyj5IuHqKgT0J/ewS+++ALjx4+Hs7OztqxcuXIYNmyYjFG9PQ4WJSIi0mNq6D71XKHmP+9EudEoFJJXUfbjjz/i2bNn2m21Wg0jIyPtE9D1Ff9CERER6TFTJOmUmSviZIiESD/o0ypYOc2UKA6zJ5iAEBER6bEtTSoj1kwFQAAQeOhgiQ2NassdFlGRpU8JSHHFOSBERER6LKhBQ3zX0Qp1H71AvIkh7pUuhfp3nuIbuQMjIsoFExAiIiI9Zp6Wjr43HqN0UioA4E58ChJT0mSOiqjo0uhZp8fNmzdhaJhxya5WqwEAN27cyLHuBx98UGhxvQ0mIERERHqszb0wKE2NtdtVYhJg/fQlgGryBUVUhOnbsCtfX1+dsswHEWbKfCZIZoJS1DEBISIi0mNCZaRTlmqhkiESIv2g0aNleAMDA+UO4Z1gAkJERKTHnliZwS00AqVexkBjoESEQykcrVxW7rCIiix96gEZPHiw3CG8E0xAiIiI9FjNB09R5VG4dtsuIhoPjI0AOOf+IaISTN/mgBRHBbIM765du+Dh4YGzZ88WxO7eKQ8PD/j5+ckdRpE1YsQIdO7c+bVlRERUNFQMeynZVgoB9wfPcqlNRCQ/9oAQERHpMSEAhUbAJCkdQqFAsqkBAI3cYREVWUX96eclQYlLQI4fPw4DAwO5w9ArS5cuLRZP3SQiKo4sExPg8CwNBpqMv9OpRkoYKONljoqo6NKnOSDFVYlLQIyNjV9fiSSMjHRXWCEioqKhTFgSoPnvxpoqTYPS4fqxFCeRHDgHRH4FmoAIIbB69Wps27YNz58/h5OTE4YOHYpOnTpJ6u3cuRObNm3CvXv3YGBggJo1a2LIkCFo2LChpJ6Hhwc6deqkM2dj165dmDlzJpYvXw4PDw8AQExMDFatWoWQkBC8ePECxsbGcHR0RJs2bTBs2LBX7jOzrFu3bliyZAmuX78OExMTeHt7Y+LEiTAzM5O0f+HCBUm9Jk2a4LPPPkObNm1yjPd1Mtv38fHBL7/8glu3bsHa2hp9+vSBr68vYmNjsWjRIhw9ehSJiYnw8PDA1KlT4ejoKNlPfHw8AgICcOjQIYSHh8Pc3Bz169fH6NGj4ewsnYz4/PlzLFq0CP/88w/UajVq166NCRMm5BjfiBEjEBoail27dmnLrly5gs2bN+PSpUsIDw+HgYEBqlSpgo8++ggtWrSQfN7Pzw+7d+/GoUOH8NNPPyEkJAQJCQmoUaMGPv/8c7i5ueXrfAHApk2bEBwcjHv37iEqKgrW1taoX78+Ro0ahbJlpau/aDQaBAUFSX4u+/TpA3Nzc52fo/yeRyIiuQmNUmdR0WQFl+Elyo3Qo2V4i6sCTUCWLFmC1NRU9OjRA0ZGRtiyZQv8/Pzg7OyMevXqAcgYzhMYGIiaNWti1KhRSElJwc6dOzFu3DjMmjULHTp0eKO2p0yZgvPnz6NHjx6oVq0aUlJS8PDhQ5w7d06SgOTm1q1bmDhxIrp06YIOHTrg3Llz2LFjB5RKJaZNm6atd/HiRYwePRqmpqb46KOPYGNjg6NHj2L8+PFvFHemmzdv4ujRo+jRowd8fHzw999/Y8mSJVCpVPjzzz9Rrlw5jBgxAo8fP8Yff/yBGTNmYPny5drPx8fHY+jQoQgLC0OXLl1QqVIlREREYMuWLfD19cXatWvh5OQEAIiLi8Pw4cMRGhqKrl27onr16rh69SpGjRoFa2vrPMUbHByMR48eoV27dihdujRiYmKwe/duTJ48GbNnz0b79u11PjNu3DjY2tpi+PDhiI6Oxm+//YZPP/0UO3fuhLm5eb7O17p161C3bl00aNAAlpaWuHv3LrZv344zZ85gw4YNsLGx0dadP38+Nm7ciHr16qFfv36Ij49HUFAQ7OzsdPabn/NIRFQUPHCwQsXwOEnZiWrO6CZPOERFHueAFAGiAOzcuVO4u7uL/v37i9TUVG15eHi4aNiwofjyyy+FEEI8ePBAeHh4iMGDB4uUlBRtvaioKNG2bVvRokULkZiYqC13d3cXM2bMyLW9M2fOCCGEiIuLE+7u7uL7779/baw57dPd3V14eHiIS5cuScrHjx8v6tevLxISErRlgwcPFg0aNBD379/Xlmk0GjFp0qRc481LTJ6enuLq1avasrS0NNGuXTvh4eEh5s+fL6n/448/Cnd3d0kMc+fOFY0bNxY3b96U1H327Jnw8vKSxLVkyRLh7u4uNm3aJKkbFBQk3N3dRadOnSTlw4cP1ynL+j1lSkpKEt27dxe9evWSlM+YMUO4u7uL7777TlJ+8OBB4e7uLjZv3qyzr9fJqf1Tp04Jd3d3sXr1am3ZvXv3hLu7u/jkk09Eenq6tjw8PFw0a9ZM8nMkRP7Oo9xevnwpkpOTtdtxcXEiNjZWu52SkiIiIiIkn3n27Nkrt0NDQ4VGo2EbbINt6FEbLT66J9babBB/IVAcRKBY4LJT+Ay8o3fHwTbYRmH5aOBdyYsKX4Esw5upd+/ekvkCpUuXhouLCx4/fgwACAkJgRACgwYNgkr1X/ewjY0NevfujdjY2DdaytfY2BjGxsa4fPkynj17s6UH69Spgzp16kjKPD09oVartft8+fIlrly5gmbNmqFChQraegqF4q0fFFOnTh3UqlVLu21oaIhatWpBCIG+fftK6r7//vsAoD2vQgjs27cP7733HkqXLo3o6Gjty9TUFG5ubjh58qT28yEhIbC2tka3bt0k++3bt2+eeyJMTU21/5+cnIzo6GgkJyfD09MT9+/fR3y87gTIAQMGSLYzhz1lHkd+ZLav0WgQHx+P6OhoVKtWDRYWFrhy5Yq2XkhIiLbtrIsPlC5dWqe3Lb/nUW62traSOU0WFhawtLTUbqtUKp1enuy9N9m3y5QpA0WWO0Nsg22wjaLfRrPHoXhZyhS/etfCGq8asBSp8HgSpnfHwTbYRmHRKBSSFxW+Ah2CVa5cOZ0ya2trhIVl/CF8+vQpAKBSpUo69apUqSKpkx9GRkaYOHEi5s+fjy5duqBixYrw8PBA8+bNdeaV5Dd2IGN+CQBtIpI1+ciUU1l+ZJ+3AABWVlYAdH/JM3+BM+OKiopCTEwMTp8+jdatW+e4f6Xyv1zzyZMnqF69OgwNpV+/SqVCuXLlEBcXl/3jOiIjI7Fs2TKEhIQgMjJS5/34+HhYWFhIyrKf48xhUpnHkR9nzpzBypUrcfXqVaSkpEjeyxp/5nfm6uqqs4/s31l+zyMRUVHQ7NxNpBgZAXFmMEpXo2JkDMomxgJoIndoREUSJ6HLr0ATkNwuzsT/L+EqXrGU66vey06t1l3do0ePHvDy8sKxY8fw77//Ijg4GJs2bYK3tzfmzp372gvHVy3Nm5f439ar2s/tvexxeXh4YMiQIXlqT/EWGb9Go8GYMWPw4MED9OvXD7Vq1YKFhQWUSiV27dqFffv2QaPRXYP+dceRV1euXMHYsWPh7OyMsWPHomzZsjA2NoZCocDUqVMlbefnZ+5NziMRkdxe2Fri9Ps1oDbM+Bt738URTU5ekjkqoqJLw0nosivUZXgzVxC6d++ezt3nu3fvSuoAGT0QOd0dz62XxN7eHt26dUO3bt2g0Wgwe/Zs7Ny5E+fPn5escvSmMu/gP3jwQOe9nMoKS6lSpWBpaYn4+Hg0aNDgtfWdnZ3x8OFDpKenS3pBUlNT8fTpU23PS27u3LmD27dvY/jw4fjkk08k723fvv2NjiE/9u/fD7VajZ9++knSq5KUlKTTe5P1O8veC/Lw4UPJdn7PIxFRUXC9qos2+QCAFGNjXK5ekZPQiXLB54DIr1DHk3h7e0OhUGDdunVIS0vTlsfExGDz5s2wsrKCu7u7ttzFxQWXL19GcnKytiw2NhY7d+6U7Dc5OVlSB8jojalWrZp2/wXBzs4OtWvXxtGjRyUJhxACQUFBBdLGm1AqlWjfvj1u3LiB/fv351gn6zCp5s2bIyYmRidZ+OOPP5CQkJCn9gDdHoQ7d+4gODg4f8G/gcyelOztBwQE6PS8eHl5AQB+//13Sc/Z8+fPsXfvXknd/J5HIqKiIFWl+6wmhZIP3CXKjUYhfVHhK9QeEBcXF/j6+iIwMBDDhg1D27ZtkZqaih07duDly5eYOXOmZHJznz598NVXX2HkyJHo2LEj4uLisH37djg5OeHly5faeg8fPsSIESPQokULVKpUCdbW1njw4AG2bNkCBweHAr2b/dlnn2HUqFEYNmwY+vTpAxsbGxw5ckR75/1thja9jTFjxuDixYuYPn06goODUadOHRgZGSE0NBTHjx9HzZo1tc8nGTRoEA4cOIC5c+fi1q1bqFatGq5evYrg4GA4OzvnOMQtq4oVK6JSpUoICgpCcnIyXF1d8ejRI2zduhWVK1fGjRs33umxent7Y/369fj000/RvXt3GBkZ4dSpU7hz545k+V0gY75R7969sWnTJnzyySdo1aoVEhISsHXrVlSoUAHXrl2TfGf5OY9EREWBw4sYPHQ10SkjIiqqCv1J6GPGjIGzszM2bdqEZcuWQalUombNmpgyZQoaNWokqduhQwe8ePECGzduxMKFC1GuXDl8/PHHUCqVkpWOHB0d0aVLF5w7dw4hISFITU2Fvb09fHx8MHjwYJ3J0G+jXr16WLp0KZYuXYqgoCCYmJjAy8sL06ZNQ5cuXWR70rqFhQUCAgKwbt06HDx4EEeOHIGBgQFKly6NevXqSVa8srS0xMqVK7Fo0SIcOHAAe/fuRe3atbFs2TIsWLAAoaGhr2zLwMAAixcvxqJFi7B7924kJSWhcuXK8PPzw61bt955AlKvXj3MnTsXv/76K5YvXw5jY2PUr18fK1aswPDhw3XqT548GQ4ODti2bRt++ukn7QMy09PTce3aNZ1VOvJ6HomIioL7NuZQqNWwSUyCUCjw3NIcN0tbvv6DRCUUV76Sn0K8y5nVJci1a9cwaNAgjB07Fr6+vnKHQ3nwww8/YNOmTdi3bx/s7e3lDoeI6I0M6HcT74WGa6fVqqHAmbIO2Pp7DVnjIiqqug+VLv+/LaC8TJGUXFxTNJ+EEDrLvgohsHr1agDI87K/VHiyzw8CgPDwcOzZswdVqlRh8kFEeq1G6HPJmj4GEKgWzvlqRLlRK6QvKnyFPgRL36WmpqJz587o0KEDXFxcEBcXhyNHjuDSpUto3749atTIuOMUFRX12rkUZmZmMDMzK4yw9UJERMRr61hYWMDExOS19bLavXs39uzZgyZNmsDW1hZPnjzB9u3bkZycjPHjx79puERERYJVcgpSTVSSMofY1y8oQlRScQiW/JiA5JOhoSGaNGmCkJAQREREQKPRaJ9HMXDgQG29QYMGvXYuRU7L2JZk7du3f22dGTNmoHPnzvnab40aNRASEoKNGzciJiYGJiYmcHNzw5AhQySrrhER6SPXF+G4Xb58trKwXGoTEVe+kh/ngLwjFy5c0BmqlV25cuUkzz0p6U6dOvXaOpUrV+aQKSKiLP52/AU7PBvALikFaqUC8YYGaPvvObQPGyV3aERFUvvh0ufJ7VtZLpea9K6wB+QdqVevntwh6B0+/I+IKP82NmyAm2XKSsqsk2Lx+j5lIiJ5MAEhIiLSY49tdXuF7zo4yRAJkX5Qcw6I7LgKFhERkR5zjInTLYvigwiJcsMnocuPCQgREZEe87x7A7YJiRkbQqBixEs4RD+XNyiiIkwNheRFhY9DsIiIiPRYuIkp+p78B/bxCTBSa3DFyRHPXG3lDouoyOKzP+THBISIiEiPzTzlg/+1/gvqNEMoBGBezgCzf28md1hERRafAyI/JiBERER6bvbe5ggMDAQADBkyROZoiIhejQkIEREREZUYXAVLfkxAiIiIiKjESJc7AGICQkREREQlB3tA5McEhIiIiIhKjHTmH7JjAkJEREREJUY6n/0hOyYgREREei78xktErrKBwkiD1F7JMLI1kjskIqJcMQEhIiLSYwsHB8N2/wvUSkoDAAS9fxCNlrmjXkdXmSMjKprS2AEiO6XcARAREdGbSz2ViFJJqdrtctFJ2Dr9uowRERVtaQqF5EWFjz0gREREeqx0TKJOmWmSkCESIv2QJncAxB4QIiIifXbLwUan7JGNeeEHQqQnEhUKyYsKHxMQIiIiPfb7B1Vwz8Fau32ikhOOVnKSMSKioi1JIX1R4eMQLCIiIj32pKwdPhvUGq4vYpBsZIBwGwuYxeoOyyIiKiqYgBAREekxtXHGP+XPbC2h+f+7uWpTLsNLlJtUPgdEdkxAiIiI9JgRNPC5/Qw2KelQQOChpRlCXEvLHRZR0cX8Q3ZMQIiIiPRYy0fPEW9ihlizjKsqVboaH4RFATCTNzCioooTz2XHSehERER6zDQd0Cj/u6BKNTRA1cg4GSMiIno19oAQERHpsTRlDndz+RgQotyxB0R27AHRA7t27YKHhwfOnj0rdygFysPDA35+fgW+3/yerxEjRqBz584FHgcRUWGINNGdcP4yhzIioqKCCQgREZEeO+3qgEQjBVyjY1AuNg5hFioE1ygnd1hERZci24sKHYdgERER6bF6z8LQ6l44DP5/2JVjfAL2oDQAZ1njIiq6mHXIjT0gREREeqztnWfa5AMAzNLV6H/hpnwBERV17AGRHXtA9IgQAqtXr8a2bdvw/PlzODk5YejQoejUqZOk3s6dO7Fp0ybcu3cPBgYGqFmzJoYMGYKGDRtK6nl4eKBTp0468zB27dqFmTNnYvny5fDw8AAAxMTEYNWqVQgJCcGLFy9gbGwMR0dHtGnTBsOGDZN8/sCBA/jjjz9w+/ZtqNVqVKlSBR999BFat26d43FduHABS5YswfXr12FiYgJvb29MnDgRZmbSJSTv3LkDf39/nD9/HomJiXByckKHDh0wePBgqFSq156/58+fY9GiRfjnn3+gVqtRu3ZtTJgwIce6Fy9exKpVq3Dz5k3ExsbCysoKlStXxvDhw/H++++/ti0iosJirAY02W4nqtS8v0iUKyYdsmMCokeWLFmC1NRU9OjRA0ZGRtiyZQv8/Pzg7OyMevXqAQCWLl2KwMBA1KxZE6NGjUJKSgp27tyJcePGYdasWejQocMbtT1lyhScP38ePXr0QLVq1ZCSkoKHDx/i3LlzkgTkl19+QUBAABo3boyRI0dCqVQiODgYU6ZMwRdffIE+ffpI9nvr1i1MnDgRXbp0QYcOHXDu3Dns2LEDSqUS06ZN09a7ceMGhg8fDqVSid69e6N06dI4ceIE/P39cfnyZSxatAhKZe7/4MbFxWH48OEIDQ1F165dUb16dVy9ehWjRo2CtbW1pO6DBw8wZswY2NnZoW/fvrCzs0NUVBQuXbqEmzdvMgEhoiLFOCUFSabSGzbKNLVM0RDpA2YgcmMCokfS0tIQFBQEI6OM1U1at26Nrl27YuPGjahXrx4ePnyI1atXw83NDStWrND2CvTs2RN9+/bFvHnz4O3tDVNT03y1Gx8fjzNnzqB379743//+l2u969evIyAgAL6+vhg7dqy2vF+/fpg4cSKWLl0KHx8fmJuba9+7ffs2AgICUKdOHW2sCQkJ2LlzJz777DNtL8i8efOQkpKCoKAg1KhRAwDQp08ffPvtt9i2bRsOHDiA9u3b5xpbUFAQnj59iilTpqBXr14AgF69eqFSpUpYvHgxnJyctHVPnjyJ5ORkzJkzB7Vr187XuSIiKmxRKhXqPr+NJzblYKROg1NMGI64uMkdFhFRrthHq0d69+6tTT4AoHTp0nBxccHjx48BACEhIRBCYNCgQZIhSTY2NujduzdiY2PfaClfY2NjGBsb4/Lly3j27Fmu9fbt2wcA8PHxQXR0tOTl5eWFhIQEXL58WfKZOnXqaJOPTJ6enlCr1dq2oqKicPHiRTRp0kSbfGTK7H05dOjQK48hJCQE1tbW6Natm6S8b9++koQIACwsLAAAwcHBSElJeeV+5RQZGSmJLz4+HnFx/z18LDU1FS9fvpR8JjQ09JXbYWFhEOK/weRsg22wjaLfRrt7x/Dh+c3436HF+DzkF/S/sBX1n13Ru+NgG2yj0HAOiOzYA6JHypXTXVbR2toaYWFhAICnT58CACpVqqRTr0qVKpI6+WFkZISJEydi/vz56NKlCypWrAgPDw80b95cMq/k/v37ADISpdxk/2OT2zEBGfNOssZcuXJlnbplypSBhYXFa4/ryZMnqF69OgwNpT/yKpUK5cqVk/xRbNeuHfbv34/AwECsX78ebm5uaNiwIdq2bZtjvHKxtbWVbGcmTplUKhXs7OwkZVl7enLaLlOmDNtgG2xDz9rweHgF2XndPA9gYIG1UVzOFdso2m0UHmYdcmMCokdym+OQecch652H3OrkhVqtO3a4R48e8PLywrFjx/Dvv/8iODgYmzZtgre3N+bOnSuJbfHixToX+pmyJxEGBgavjTk/sb+KIo9PPjUyMsLPP/+Ma9eu4cSJE/j333+xcuVKrFy5El9//fUrh3oRERW2JJjBCnHSMmGWS20iYv4hPyYgxYizc8aa7/fu3UOFChUk7929e1dSB8joacjsZcgqt94Ee3t7dOvWDd26dYNGo8Hs2bOxc+dOnD9/Hh4eHnBxccE///wDR0dHbY9LQciMOfMYsgoPD0d8fLzkuHLbx8OHD5Geni5JjlJTU/H06VNYWVnpfKZWrVqoVasWACAiIgIDBw7EkiVLmIAQUZFyweY9tHh5COfLV4RFSjIqPY/A6TL1wFkgRLlgAiI7zgEpRry9vaFQKLBu3TqkpaVpy2NiYrB582ZYWVnB3d1dW+7i4oLLly8jOTlZWxYbG4udO3dK9pucnCypA2T0xlSrVk27fwDaFbaWLl2K9PR0nfgiIyPf6LhKlSqF9957D//88w9u3pSubR8QEAAAaNGixSv30bx5c8TExGD79u2S8j/++AMJCQmSsujoaJ3P29vbw97eHrGxsfk/ACKid+i3xo1g//UqNBr3LepM+hHVJi1GiJvuUFwiysRJIHJjD0gx4uLiAl9fXwQGBmLYsGFo27YtUlNTsWPHDrx8+RIzZ86UrIDVp08ffPXVVxg5ciQ6duyIuLg4bN++HU5OTpK5Gg8fPsSIESPQokULVKpUCdbW1njw4AG2bNkCBwcHNGjQAABQu3ZtfPLJJ/D398eAAQPQpk0bODg4ICIiAtevX8fx48dx8uTJNzq2yZMnY/jw4RgxYgT69OkDBwcHnDx5EkeOHEGjRo3Qtm3bV35+0KBBOHDgAObOnYtbt26hWrVquHr1KoKDg+Hs7CwZdrZq1SqcPHkSTZs21c75OH78OG7cuPHK+S1ERHLY8kEVJJoba7eflrbBXwreXySioosJSDEzZswYODs7Y9OmTVi2bBmUSiVq1qyJKVOmoFGjRpK6HTp0wIsXL7Bx40YsXLgQ5cqVw8cffwylUokrV/6b1Ojo6IguXbrg3LlzCAkJQWpqKuzt7eHj44PBgwdLJpYNHz4cNWvWxIYNG/D7778jKSkJtra2qFy5MiZNmvTGx1WjRg0EBgbC398fW7duRUJCAsqWLYsRI0bA19f3lc8AAQBLS0usXLkSixYtwoEDB7B3717Url0by5Ytw4IFCySreTRv3hwRERH466+/EBkZCZVKhfLly2PKlCno3r37Gx8DEdG7kGRspFMWaW4iQyREeoKdHrJTiIKa4UtERESFznxGPBItpQlH6eexCJ9rm8sniEo2xTTp0GvxrXkuNeldYR8tERGRHhtw7AqQrtFuGyalYdAJ3aV5iYiKCg7BIiIi0mO1n0fhx6D9+NOtMsxS09D58j2EO9jIHRZR0cUhWLJjDwgREZEeO1DHFa2fXMa2LcuwZvdqVI97jAO1yssdFlERxlWw5MYEhIiISI81e3oNNeIewUSTBgt1Ehq9uIZq0WFyh0VUdDH/kB0TECIiIj3W4/K/OmXdLp+XIRIiorzhHBAiIiI9lqzUXYZXreZtXaJc8ddDduwBISIi0mNzPbyQrvjviipGZYKf328sY0RERR3HYMmNPSBERER6bGfNOrhmVxr9bl5EgqERVrt5IsncVO6wiIou5hyyYwJCRESkx94Pj8RRFxdcdiwLoVBAozJEvyu3AZSROzQiohwxASEiItJjH5ilo+zVezhc1RlG6Rp0vHwH7T7hMrxEuWIPiOyYgBAREemxRb/WxuGjL2G98DE0BgJTA2qhgrO53GEREeWKCQgREZGea9rQCrfbnwYAlHN0kzkaoiJOwS4QuXEVLCIiIiIiKjTsASEiIiKikoMdILJjAkJEREREJQgzELkxASEiIiKikoP5h+w4B4SIiIiIiAoNExAiIiIiIio0HIJFRERERCUHh2DJjj0gRERERERUaNgDQkREREQlBx9EKDsmIERERERUcjD/kB2HYBERERERUaFhAkJERERERIWGQ7CIiIiIqOTgECzZMQEhIiIiohKEGYjcmIAQERERUcnB/EN2nANCRERERESFhgkIEREREREVGg7BIiIiIqKSg0OwZMceECIiIiKibPz8/GBhYSF3GMUSe0CIiIiIqORgD4js2ANCRERERESFhgkIEREREZUcCoX09YauXLmC9u3bw8LCAlZWVujatSvu3LmjfX/YsGHw8vLSbkdFRUGpVOKDDz7QliUlJcHY2Bjr1q174zj0ERMQIiIiIqJ8ePz4MZo1a4bw8HCsWbMGv/76K27duoVmzZrhxYsXAAAvLy+cPn0aycnJAICjR4/C2NgYFy9eRHR0NADgxIkTSE1NlSQqJQHngBDpISEE4uLi5A6DiIqItLQ0JCUlAQBiY2NhZGQkc0RE+WdpaQnFW/RI5FkBNLFw4UKkpqbiwIEDcHBwAAA0aNAAVatWxdKlS+Hn5wcvLy+kpKTg5MmT8Pb2xpEjR9ClSxcEBwfj2LFj6NSpE44cOQJXV1e4uLi8fVB6hAkIkR6Ki4uDtbW13GEQURE0YcIEuUMgeiMxMTGwsrJ65+2ISW9/+Xv06FG0bNlSm3wAgKurKxo3boyjR48CACpWrIjy5csjJCREm4D4+vpCo9EgJCREm4CUtN4PgAkIkV6ytLRETEzMO20jPj4ePj4++PPPP4v9MoQ81uKrJB0vj7X4KinHa2lpKXcIeRYVFYV69erplJcpUwY3b97Ubnt5eeHIkSOIj4/Hv//+i4CAAKjVaqxbtw5paWk4efIkfv7550KMvGhgAkKkhxQKxTu/S6RUKmFgYAArK6ti/Q8ewGMtzkrS8fJYi6+Sdrz6wNbWFuHh4TrlYWFhsLW11W57eXlhwoQJCA4OhrW1NWrXrg21Wo3PP/8chw8fRlJSUonsAeEkdCIiIiKifGjatCn+/vtvvHz5Ulv2+PFj/PPPP2jWrJm2zMvLC0lJSZg/fz6aNWsGhUKBunXrwtLSEnPmzEGZMmVQtWpVOQ5BVuwBISIiIiLKgVqtxubNm3XKP/30UwQGBqJt27aYNm0a1Go1ZsyYAVtbW4wZM0Zbr0aNGihdujRCQkKwYMECABmjGJo2bYpdu3ahT58+hXYsRQkTECLKkUqlwvDhw6FSqeQO5Z3jsRZfJel4eazFV0k73qIkOTkZvXv31ikPDAzEkSNHMGnSJHz00UdQKpVo0aIFfvzxR8nEdCCjF2Tz5s2SoVbNmzfHrl27SuTwKwBQCCGE3EEQEREREVHJwDkgRERERERUaJiAEBERERFRoWECQlQMpaenY/Xq1ejZsyeaNGmCzp07Y/78+Tk+PX3t2rXo3LkzGjdujEGDBuHs2bM6dRISEvDtt9+iVatWaNasGT777DOEhobq1Hv48CHGjRuHpk2bok2bNpg/fz6Sk5N16h07dgwDBgxA48aN0a1bN2zatOmtjzk5ORlLly5Fp06d0KhRI3Tu3BkrVqwotscLANevX0f9+vUlK65kpc/HqlarsWbNGowYMQKtW7dGixYtMHz4cJw+fbrYHevbymu8cvjrr78wceJE+Pj4oGnTpujXrx82b94MjUYjqZfXcynH9/ymEhMT0bFjR3h4eODatWuS94rj8RLliyCiYmfZsmWifv36YtWqVeLMmTNi48aNonnz5mLChAmSekFBQaJBgwYiKChInD59Wnz55ZeicePG4vbt25J6n376qWjXrp3Yu3evOHr0qPjwww9Ft27dRFJSkrZObGys6NChgxgyZIg4fvy42LVrl2jZsqWYPn26ZF8XL14U9evXFzNnzhRnzpwRK1euFJ6enmLbtm1vfLzp6eli5MiRonv37mLXrl3i7NmzYvfu3eLXX38tlscrhBAajUb4+vqKtm3biqZNm+q8r+/HmpCQIJo3by7mzZsnjhw5Iv755x/x5ZdfCg8PD3HkyJFidaxvI6/xymXw4MFiypQpYt++feLMmTPav02LFi3S1snruZTje34bixcvFm3bthXu7u7i6tWrxf54ifKDCQhRMdS1a1fx9ddfS8pWr14tPD09RWJiohBCiJSUFNG8eXPJhUB6erro1auXmDJlirbs8uXLwt3dXRw9elRbFhoaKurXry82bdqkLQsMDBRNmjQRUVFR2rK9e/cKd3d3ce/ePW3ZuHHjxKBBgySxzZ49W7Rr106o1eo3Ot4tW7YIb29vERERkWud4nS8Qgixfft20a1bN7FkyRKdBKQ4HGt6erqIiYmRlGk0GvHhhx+KESNGFKtjfRt5jVcukZGROmU//vijaNy4sUhJSRFC5O1cyvU9v6n79++Lpk2bis2bN+skIMXxeInyi0OwiIqh9PR0naflWlpaQmTcdAAAXLp0CfHx8WjXrp22joGBAdq0aYN//vlHW+/48eOwtLREkyZNtPXKlCmDevXq4fjx49qyf/75B/Xr14eNjY22rGXLllCpVNp6qampOHPmDNq2bSuJrX379oiIiMDNmzff6Hh37NiB1q1bw87OLtc6xel44+LisGTJEnz++ecwNNRdTb04HGvmU5+zUigUqFatGl68eFGsjvVt5CVeOZUqVUqnrHr16khJSUFsbGyez6Uc3/PbmDdvHnr27AlXV1dJeXE9XqL8YgJCVAz16NEDe/bswalTp5CYmIhr165h3bp16NSpE8zMzAAA9+/fBwBUqFBB8tlKlSohISEBz58/19ZzdXWFQqHQqZe5j8x6FStWlNRRqVRwdnbW1nvy5AnS0tJ06lWqVEkSU36kpaXhxo0bcHR0xFdffYUmTZqgefPmmDZtGqKjoyXxFYfjBYBffvkFNWvWzHXuR3E61qw0Gg0uXbokaaO4Hmte5SXeoubChQuwtrZGqVKl8nwu5fie39Rff/2F27dv4+OPP9Z5rzgeL9GbYAJCVAwNHToU/fv3x9ixY+Hl5YVBgwahcuXKmDZtmrZObGwsVCoVTExMJJ+1tLTUvp/538yy7PUy6+S1XuZ/s9fL3mZ+xMTEQK1WIygoCPHx8fjxxx8xefJknD59GlOnTi12x3vz5k3s3LkTn3/+ea51isuxZvfHH3/g4cOH+PDDDyWxFcdjzau8HldRce3aNezcuRP9+/eHgYFBns+lHN/zm0hOTsbChQsxZswYnV7orHEWl+MlelN8EjqRHoiPj0dERMRr65UtWxYqlQp//PEH1q9fjwkTJqBmzZp4+PAhli9fjm+++QYzZ87U1s9+1wyAtms/63u51cupPLf9ZfW6z+XneDNX07G0tMTcuXNhZGQEADAzM8MXX3yBK1euwM3N7ZXHkf29wjze/ByrkZER5s6di169euncGc1Lm/p0rNmf+Hzu3Dn89NNPGDhwID744IPXtin3scotp3jlFhERgS+++AK1a9eGr6+v5L28nEu5vuf8WLVqFezs7NC5c+dX1isux0v0ppiAEOmBw4cPSxKH3Pz2229wdHTE4sWLMX78ePTr1w8A8MEHH6BUqVKYNGkS+vfvjxo1asDKygopKSlISUmBsbGxdh/x8fEA/rvTZmVlhbCwMJ224uPjJXfUrKysclzmNz4+Xtv1nzmmP/sdt8zPZb6fn+PNHGNdt25dbfIBAJ6engCAe/fuwc3Nrcgeb36O9cGDB7h//z5mz56t3Udqaqp2nyqVCsbGxsXiWKtXr67dvn37NiZOnAhvb2+MHz9eUreoHmthyUu8RUF8fDzGjx8PExMTLFiwQDt3Ka/nUo7vOb9CQ0Oxbt06zJs3DwkJCQCApKQkABlL8iYmJhar4yV6G0xAiPRA586dX3tHLdOVK1eQmpqKatWqScozL+iePHmCGjVqaP/RuX//PmrUqKGtd+/ePZibm6N06dIAgIoVK+LUqVM6d9Tu3bsn+YerYsWKOmOJU1NT8eTJE3Tp0gUA4OzsDCMjI9y/fx+NGzeW7CtzH/k9XgBwcnLK9T2lUinZd1E73po1a+b5WIODgxEbG5tj/RYtWmDw4MEYN25csTjWTE+ePMHYsWNRo0YNzJo1S+eublE91sKSl3jllpKSgs8//xyRkZEIDAyUTITO67mU43vOr6dPnyItLQ0TJkzQeW/kyJFwc3PDihUris3xEr0NzgEhKmYyL8avX78uKc98EFbm+3Xr1oWFhQUOHjyoraNWq/HXX3+hcePG2n/MmjRpgri4OJw4cUJbLywsDBcuXJCsvNK4cWOcOXNGMvH78OHDSE1N1dZTqVTw9PTEX3/9JYlt//79sLe3l9z1zo+mTZvi4sWL2t4AADh16hQAoGrVqsXmeDt37ozly5dLXp06dYKxsTGWL1+O7t27F5tjBTKG7IwZMwZ2dnaYP3++pIcrU3E51jeVl3jllJ6ejilTpuDWrVv4+eefdW4W5PVcyvE951f16tV1fj8z52p9+eWXmDJlSrE6XqK38s4X+iWiQjd58mTRrFkzsWbNGnHmzBmxadMm0bp1azFkyBDJMwoyH3S1du1acebMGTFt2rRcH3TVvn17sW/fPnH06FExcODAXB90NXToUPHPP/+I3bt3i1atWuX6ALdvvvlGnDlzRvz6669v/QC3Z8+eiebNm4tx48aJY8eOiW3btolWrVqJiRMnSuoVl+PNavny5a98EKG+HmtSUpLo37+/aNasmTh8+LC4dOmS5FWcjvVt5DVeucyePVu4u7uLNWvW6HyHcXFxQoi8n0s5vue3debMmVwfRFgcj5corxRCcAYSUXGTkJCAVatW4fDhw3j+/Dns7OzQqFEjjBw5UrIuvxACa9euxcaNGxEZGYkqVapg/Pjx8PDwkOwvPj4eixcvxt9//420tDR4eHjgiy++0Lmb+fDhQ8ybNw8XLlyAiYkJ2rVrh3Hjxums5HLs2DH88ssvuH//PkqXLo0PP/wQffr0eatjvn79OhYuXIirV6/CxMQELVu2xIQJE2Bubl4sjzeTv78/1q1bh6NHj0rK9f1Ynz179sqhIWfPni02x/q28hqvHDp37ozQ0NAc31u+fLn2O8rLuZTre34bZ8+exciRIxEUFIRatWppy4vr8RLlFRMQIiIiIiIqNJwDQkREREREhYYJCBERERERFRomIEREREREVGiYgBARERERUaFhAkJERERERIWGCQgRERERERUaJiBERERERFRomIAQEREREVGhYQJCRKQn/Pz8oFAo8ODBA7lDwfPnz2FtbY0VK1Zoyx48eACFQgE/Pz/5AqMio0KFCvD29n7jz3t7e6NChQoFFk9xMXbsWNSsWRPp6elyh0L0xpiAEJGsnj9/ji+++AJubm6wtLSEtbU1qlatin79+mHr1q2Sut7e3jAxMcl1X/Pnz4dCoUBwcHCO78fExMDMzAwKhQKrV6/OdT8VKlSAQqHQvlQqFSpUqICPP/4Yjx8/fpPDLHa++uor2NraYsiQIXKHUmj8/Pywfft2ucOgQnThwgX4+fkVetIfHBwMPz8/REdH67w3depUPHjwAMuXLy/UmIgKEhMQIpLN48ePUbduXSxduhSNGzfG999/jzlz5qBTp044f/48AgICCrS99evXIzk5GZUrV8aqVateWdfJyQlr167F2rVrsXjxYjRo0AABAQFo0KABIiIiCjQuffP06VMEBARgzJgxMDIy0pa7uroiKSkJ06dPlzG6d2fmzJlMQEqYCxcuYObMmbIkIDNnzswxASlbtiz69u2LOXPmsBeE9Jah3AEQUck1b948hIeHY+fOnejcubPkvYULF+LJkycF2t6qVavg5eWFvn37YvTo0bh58yaqV6+eY10rKysMHDhQuz1q1CiULl0aS5YsQUBAAL744osCjU2frFixAkIIfPjhh5JyhULxyh4qIioYH330EdasWYPt27ejV69ecodDlG/sASEi2dy6dQsA0KJFixzfd3Z2LrC2Ll26hHPnzsHX1xf9+/eHsbFxvntY2rVrBwC4e/durnX27t0LhUKBBQsW5Ph+s2bNYGdnh9TUVADA6dOn4evri2rVqsHMzAyWlpZo0qQJtm3blqeYfH19oVAocnxPoVDA19dXp/yPP/5A06ZNYWlpCTMzMzRo0ACbN2/OU3sAsHHjRtSrVw9OTk6S8pzmgGQty/ycqakpqlSpgsDAQADAo0eP0KtXL9ja2sLS0hIDBgxATExMjsf54sULDBo0CHZ2djAzM0PLli1x7tw5nRh/+eUXtG3bFuXKlYNKpYKTkxMGDhyY653sw4cPw8fHB3Z2djAxMUGlSpUwbNgwREREIDg4WHuO16xZox2al5f5CS9fvsT48ePh4uIClUqFsmXL4uOPP0ZoaKikXmYbq1evxq+//opatWrB2NgYrq6umDt37mvbAQruXAPAlStX0LNnT9jb28PY2BjVq1fHrFmzkJKSolP3+vXr8PHxgYWFBWxsbNC1a1fcu3cv1zj/+usvtG3bFjY2NjAxMUHdunULZDhRYGAgPDw8tL9HLVq0wIEDB3Tq5fZ7sXr1askQTl9fX+0QwxYtWmi/98yf78w5WVevXsX48eNRpkwZmJiYoH79+jh48KBk36+aH5V9bpe3tzdmzpwJAKhYsaK23azDRr29vWFubo4//vgjfyeJqIhgDwgRyaZSpUoAgJUrV2LChAm5Xkhnl9sQqMTExFw/8+uvv8Lc3By9evWChYUFunTpgqCgIHz77bcwNMzbn8Lbt28DAOzt7XOt07ZtWzg5OSEoKAiff/655L379+/j+PHjGDVqFFQqFQBg27ZtuHXrFvr37w9nZ2e8fPkSa9asQY8ePfDbb79hwIABeYotr6ZPn45vv/0W7du3xzfffAMDAwNs27YNvXv3xpIlSzBmzJhXfv758+e4ceMGRo8ena92d+/eDX9/f4waNQq2trYICAjA0KFDYWRkhOnTp6NVq1aYM2cOzpw5g4CAAJiYmOSYILZv3x62trbw8/NDWFgYlixZgubNm+Off/5B3bp1tfV+/PFHNG7cGG3atIGNjQ2uXLmCX3/9FYcOHcLly5dhZ2enrZsZV/ny5TF69Gi4uLjg0aNH2LVrF548eYKaNWti7dq1+Oijj9CsWTOMGDECAGBhYfHKY46NjUXTpk1x8+ZNDB48GPXr18eVK1fg7++PAwcO4MyZM3B0dJR8ZtmyZXj+/Dk+/vhjWFtbY926dfjf//4HZ2fnPP8svO25Pn/+PLy8vKBUKjFmzBg4Oztj//79mDFjBk6cOIE///wTSmXG/cv79++jadOmSExMxOjRo1GpUiX8/fffaNGiRY6/jytWrMDIkSPRsGFDTJs2DRYWFjh48CBGjRqFu3fvYt68eXk6xuymTp2K7777Du7u7vjmm2+QnJyMVatWoX379li7dq1Ob11efPLJJzA2NsaKFSswdepU1KxZEwAkP2cAMGjQIBgYGOB///sf4uLi4O/vjw4dOmDPnj1o27ZtvtudNm0abG1tsW3bNixcuFD796Zx48baOgYGBvD09ERISAiEEHn+20lUZAgiIpncvXtXWFlZCQCifPnyYsCAAWLhwoXi7NmzOdZv3ry5APDa1+HDhyWfS05OFra2tmLQoEHasj///FMAEDt27NBpx9XVVVSpUkW8ePFCvHjxQty7d08EBAQIa2trYWBgIC5evPjK45o0aZIAoFPPz89PABCnTp3SlsXHx+t8PiEhQVSrVk3UrFlTUj5jxgwBQNy/f19bNnjwYJHbn3IAYvDgwdrts2fPCgBiypQpOnW7du0qLC0tRWxs7CuP7dChQwKA+PHHH3Xeu3//vgAgZsyYoVNmbm4uHj16pC1/8eKFMDExEQqFQixatEiyn+7duwtDQ0MRFxenc5zdu3cXGo1GckwKhUK0bt1aso+czutff/0lAIgffvhBW/b48WOhUqlErVq1RExMjM5n1Gq19v+zn8/XmTZtmgCgc3zr1q0TAMTw4cO1ZYcPHxYAhJOTk4iKitKWJyQkCHt7e9GwYcPXtldQ57pJkyZCqVSKc+fOSeoOHz5cABC//fabtqx///4CgNi7d6+k7pgxYwQA0bx5c23Zs2fPhLGxsejXr59O7OPHjxdKpVLcuXNHW9a8eXPh6ur62uO+efOmUCgUokGDBiI5OVlbHhERIcqUKSNKlSol+XnI7XsMDAzU+fuRU1mmzN/H+vXri5SUFG3548ePhbm5uahatar2ZzWn343s+8n6e51TWXbDhg0TAERYWFiudYiKKg7BIiLZVKpUCRcvXsTo0aOh0Wiwfv16fPbZZ/Dw8EDdunVzHFpjZGSEgwcP5vjKvDOd3bZt2xAZGSkZdtGuXTs4OTnlOhn9zp07cHBwgIODAypVqoShQ4eiVKlS2LJli84d0OwGDx4MAAgKCpKUr1u3DjVq1ED9+vW1Zebm5tr/T0xMxMuXL5GYmIiWLVvi+vXriI2NfWVb+bF+/XoAGXdsIyIiJK8uXbogLi4OJ06ceOU+Xrx4AQCwtbXNV9vdunVD+fLltdv29vaoVq0alEolRo4cKanbrFkzpKen5zhc6osvvpDc7XV3d0ebNm1w6NAhybnKPK8ajQYxMTGIiIjAe++9B2tra5w6dUpbb9OmTUhNTcVXX30FKysrnfYy7/S/iW3btsHW1lant2jAgAGoUqVKjsPshgwZAhsbG+22mZkZGjZsqO19y4u3OdcvXrzA8ePH4ePjgw8++EBS96uvvgIA7ep0Go0Gu3btwnvvvYf27dtL6k6dOlUnrs2bNyMlJQVDhgzR+fnr3LkzNBoN/v777zwfZ6YdO3ZACIEvvvgCxsbG2nI7OzuMHj0aUVFROHz4cL73m1efffaZtkcTyBg6+uGHH+L27du4evXqO2s3sxfv+fPn76wNoneFQ7CISFYVKlTA0qVLsXTpUoSGhuLEiRNYs2YNdu7ciU6dOuHq1auSi12lUonWrVvnuK8LFy7kWL5q1So4ODjA2dkZd+7c0Za3adMG69evR1hYGMqUKSP5TPny5bXDUjLnEFSpUiVPQx3c3Nzw/vvvY/369fjhhx9gYGCA48eP486dO/juu+8kdZ8/f47p06djx44dOV5IREdH53hh/CauX78OAKhVq1audcLDw1+5j8zjF0Lkq+2KFSvqlJUqVQpOTk6Si8bMciBj/kR2mcNgsqpVqxYOHDiA+/fv47333gMAHDp0CLNmzcKpU6eQnJwsqR8VFaX9/8wL+8zPFaR79+6hXr16kpXCgIxzWLt2bezYsQOxsbGS7zdzWGJWdnZ2OZ6L3LzNuc6cu1G7dm2dfZQvXx7W1tbaOs+fP0d8fHyO30nZsmVhbW0tKcv8+cucS5WT1/385eRVMdepU0dS513I7WcSyJgv5ubm9k7azfwd5PAr0kdMQIioyHByckKPHj3Qo0cPDBgwAL///jv27NkjWY0qvx48eIC///4bQghUq1Ytxzpr1qzB//73P0mZmZlZrolOXgwePBgTJkzAwYMH0b59ewQFBUGpVEqORaPRoE2bNrhx4wbGjx8PT09PWFtbw8DAAIGBgVi/fj00Gs0r28nt4iOn5TkzL1j27Nmjc1GcKaeLuKwcHBwASC/i88LAwCBf5UDek5zsF2KnT59G27ZtUaVKFXz//feoWLEiTE1NoVAo0K9fP8k5zW8iVVBya/dV5yOv3uZcv8n5yOsFcOa+AwMDc11gIqcELK/7ze972b3pkrY5HX/2n8lXnaM3bTcyMhLAf7+TRPqECQgRFUmNGjXC77//jqdPn77VfgIDAyGEgL+/f47DhmbNmoWAgACdBORtDRgwAJMnT0ZQUBBatGiBjRs3omXLlpILr8uXL+PSpUv4+uuvtaveZPr111/z1E7mMUVGRkqOL6c7vtWqVcO+ffvg7OysvTOcX7Vr14ZCoZD0JBWm69evo2HDhjplSqVSuyrV77//DrVajb1790p6AxISEnQSp8xlmC9cuJDjney3UalSJdy6dQtpaWk6Cd+1a9dgb29fYL1bBaVy5coAkOPQoSdPniAmJkZbp3Tp0rCwsMC1a9d06j579kxnda3MGwB2dnZvldy/Kubsy2pnHkdmHSDjdybz4j2rnH5n8pJcXbt2TWdYZmZvT2ZClfX3tKDazRwmWrp06dfWJSpqOAeEiGRz+PBhJCUl6ZRnji0HXj1c6HU0Gg1Wr16NWrVqYcSIEejVq5fO68MPP8StW7dw7NixN24nJw4ODujQoQO2b9+O3377DdHR0dq5IZky70hnv0t75cqVPC/Dm3lR99dff0nKf/zxR526mb0vU6dOzfGua17Gkjs4OKBWrVo4ffp0nuIraHPnzpWcr/Pnz+Ovv/5Cy5YttRfzuZ3XOXPm6PQo9erVCyqVCrNnz85xvk3WfVhYWOSr56d79+6IjIyEv7+/pHzDhg24c+cOevToked9FRYHBwc0adIEe/bs0RnS+O233wKANm6lUokuXbrg4sWL2Ldvn6TunDlzdPbdu3dvGBsbw8/PL8cVsmJiYnJc5vd1unXrBoVCgfnz52uXtwYyLvZ/+eUXlCpVCt7e3tryatWq4cSJE5IYoqKitEsVZ5W50tmrvveFCxdK2n3y5AnWr1+PatWqaXsULS0tUaZMGRw6dEjyM3Xv3r0cH275unbVajXOnj0LLy8vDsEivcQeECKSzY8//ojjx4+jU6dOcHd3h7W1NcLCwrBlyxacO3cOLVq0gI+Pzxvv/+DBg3j06BG+/vrrXOv07NkTU6ZMwapVq9C0adM3bisngwcPxs6dO/HZZ5/BwsJC54KzZs2aqF27NubOnYvExERUr14dt27dgr+/P9zc3HD+/PnXttG/f39MnToVI0aMwI0bN2BnZ4e9e/fmuFSxp6cnZs6ciRkzZqBevXro06cPypYti9DQUJw7dw579uyRXEjlpnfv3vjmm28QGhqq8yyQd+3hw4do164dunTpgtDQUCxZsgSmpqaShKt79+5YuHAhOnbsiBEjRkClUuHgwYO4dOmSzhLKzs7OWLRoEcaMGYM6depg0KBBcHV1xdOnT7Fjxw4EBASgXr16AIAGDRrgr7/+wrx581C+fHmYm5vrPEAzqy+++AKbN2/G+PHj8e+//8LT01O7DK+zszNmzZr1Ts7R2/rpp5/g5eWF5s2bY8yYMShXrhwOHDiAnTt3ol27dujbt6+27uzZs7Fv3z50794dY8aM0S7De/bs2RzP9bJly/Dxxx+jZs2a2nP94sULXL58Gdu3b8e1a9fy9HyVrKpWrYopU6bgu+++Q5MmTdC/f3/tMrxhYWEICgqSLPYwduxYDBw4EC1btsRHH32E6OhorFy5Eq6urggLC5Ps28PDA0qlEt999x2ioqJgZmYGNzc3ybyO9PR0NGvWDP3790dcXByWL1+OpKQk/Pzzz5LkYOzYsZg+fTo6dOiAbt264dmzZ1i+fDnc3Nxw5swZSbsNGjQAAHz55Zfa5xY1aNBA26MXHByMhIQE9OnTJ1/niqjIKNQ1t4iIsjhx4oT4/PPPhYeHhyhdurQwNDQU1tbWomHDhuLHH3+ULKkpRMaynMbGxrnub968eZIlM3v37i0AiEuXLr0yjrp16wpzc3PtErSurq6ievXqb3dwQoiUlBRha2srAAhfX98c6zx48ED06tVL2NvbC1NTU+Hp6Sm2bt2ar6U5T548KRo3biyMjY2FnZ2dGD58uIiKisp1udHdu3eLtm3bilKlSgmVSiWcnZ1F+/btxS+//JKn43r69KkwNDQU8+fPl5S/ahnenJYfzW2Z1ZyWPs1chvf58+di4MCBwtbWVpiamooWLVrkuGzztm3bxAcffCDMzMyEnZ2d6Nu3r3j48KFwdXWVLA2baf/+/aJ169bCyspKGBsbi4oVK4qPP/5YREREaOvcuHFDtGzZUlhYWAgAeVoiNiIiQowdO1Y4OzsLIyMjUaZMGTFs2DDx9OlTSb3MZXgDAwN19vGqpZazKqhzLYQQly9fFt27dxe2trbCyMhIVK1aVfj5+en8TgohxLVr10THjh2Fubm5sLKyEl26dBF3797N9VwfO3ZMdOvWTTg4OAgjIyPh5OQkvL29xfz580VSUtJrY87NqlWrxAcffCBMTEyEubm5aN68udi3b1+OdefOnStcXFyESqUSNWrUEKtWrcr1XKxatUpUq1ZNGBoaSs5v5u/jlStXxNixY4Wjo6MwNjYWnp6e4sCBAzptpqWlicmTJ4syZcoIY2Nj8f7774udO3fm+nv97bffChcXF2FgYKDzszF48GBRpkwZkZqamufzQ1SUKISQaQYeERHprZEjR+LAgQO4efNmrhPaC5Kvry/WrFkj26Rxouz8/Pwwc+ZM3L9/P9+9Nm8jNDQUlStXxg8//IBx48YVWrtEBYlzQIiIKN9mzZqFly9f5jhunojenTlz5sDV1RWjRo2SOxSiN8Y5IERElG+lS5fWWeWIiN69n3/+We4QiN4ae0CIiIiIiKjQcA4IEREREREVGvaAEBERERFRoWECQkREREREhYYJCBERERERFRomIEREREREVGiYgBARERERUaFhAkJERERERIWGCQgRERERERUaJiBERERERFRomIAQEREREVGhYQJCRERERESFhgkIEf1f+3UsAAAAADDI33oWu8oiAICNgAAAABsBAQAANgICAABsAgbCLTnTTUTVAAAAAElFTkSuQmCC&quot; width=&quot;800px&quot; height=&quot;390px&quot; alt=&quot;&quot;&gt;&lt;/img&gt;\",\"width\":800},\"id\":\"14306\",\"type\":\"panel.models.markup.HTML\"},{\"attributes\":{\"callback\":null,\"renderers\":[{\"id\":\"14286\"}],\"tags\":[\"hv_created\"],\"tooltips\":[[\"index\",\"@{index}\"],[\"importance\",\"@{importance}\"]]},\"id\":\"14250\",\"type\":\"HoverTool\"},{\"attributes\":{\"overlay\":{\"id\":\"14272\"}},\"id\":\"14270\",\"type\":\"BoxZoomTool\"},{\"attributes\":{},\"id\":\"14269\",\"type\":\"WheelZoomTool\"},{\"attributes\":{\"factors\":[\"population\",\"households\",\"housing_median_age\",\"latitude\",\"median_income\",\"ocean_proximity\"],\"tags\":[[[\"index\",\"index\",null]]]},\"id\":\"14249\",\"type\":\"FactorRange\"},{\"attributes\":{},\"id\":\"14256\",\"type\":\"LinearScale\"},{\"attributes\":{},\"id\":\"14271\",\"type\":\"ResetTool\"},{\"attributes\":{},\"id\":\"14267\",\"type\":\"SaveTool\"},{\"attributes\":{\"below\":[{\"id\":\"14260\"}],\"center\":[{\"id\":\"14263\"},{\"id\":\"14266\"}],\"height\":300,\"left\":[{\"id\":\"14264\"}],\"margin\":[5,5,5,5],\"min_border_bottom\":10,\"min_border_left\":10,\"min_border_right\":10,\"min_border_top\":10,\"renderers\":[{\"id\":\"14286\"}],\"sizing_mode\":\"fixed\",\"title\":{\"id\":\"14252\"},\"toolbar\":{\"id\":\"14273\"},\"width\":700,\"x_range\":{\"id\":\"14248\"},\"x_scale\":{\"id\":\"14256\"},\"y_range\":{\"id\":\"14249\"},\"y_scale\":{\"id\":\"14258\"}},\"id\":\"14251\",\"subtype\":\"Figure\",\"type\":\"Plot\"},{\"attributes\":{\"client_comm_id\":\"7b5c5ed813094c8d908437a4c1709416\",\"comm_id\":\"5800312b90dc48078bf4c1faa0385bb9\",\"plot_id\":\"14247\"},\"id\":\"14338\",\"type\":\"panel.models.comm_manager.CommManager\"},{\"attributes\":{\"tools\":[{\"id\":\"14250\"},{\"id\":\"14267\"},{\"id\":\"14268\"},{\"id\":\"14269\"},{\"id\":\"14270\"},{\"id\":\"14271\"}]},\"id\":\"14273\",\"type\":\"Toolbar\"},{\"attributes\":{\"data\":{\"importance\":{\"__ndarray__\":\"r4W38ejyAMEAAAAAAAAAAAAAAAAAAACAAAAAAAAAAAAAAAAAAAAAAHhZZVdMemhB\",\"dtype\":\"float64\",\"order\":\"little\",\"shape\":[6]},\"index\":[\"population\",\"households\",\"housing_median_age\",\"latitude\",\"median_income\",\"ocean_proximity\"]},\"selected\":{\"id\":\"14281\"},\"selection_policy\":{\"id\":\"14302\"}},\"id\":\"14280\",\"type\":\"ColumnDataSource\"},{\"attributes\":{\"fill_alpha\":{\"value\":1.0},\"fill_color\":{\"value\":\"#30a2da\"},\"hatch_alpha\":{\"value\":1.0},\"hatch_color\":{\"value\":\"#30a2da\"},\"hatch_scale\":{\"value\":12.0},\"hatch_weight\":{\"value\":1.0},\"height\":{\"value\":0.8},\"left\":{\"value\":0},\"line_alpha\":{\"value\":1.0},\"line_cap\":{\"value\":\"butt\"},\"line_color\":{\"value\":\"black\"},\"line_dash\":{\"value\":[]},\"line_dash_offset\":{\"value\":0},\"line_join\":{\"value\":\"bevel\"},\"line_width\":{\"value\":1},\"right\":{\"field\":\"importance\"},\"y\":{\"field\":\"index\"}},\"id\":\"14288\",\"type\":\"HBar\"}],\"root_ids\":[\"14247\",\"14338\"]},\"title\":\"Bokeh Application\",\"version\":\"2.4.3\"}};\n",
       "    var render_items = [{\"docid\":\"2a84977f-e72f-4949-817c-31f4ca2d2719\",\"root_ids\":[\"14247\"],\"roots\":{\"14247\":\"0789a503-2c33-4f93-8614-02fefa28727f\"}}];\n",
       "    root.Bokeh.embed.embed_items_notebook(docs_json, render_items);\n",
       "  }\n",
       "  if (root.Bokeh !== undefined && root.Bokeh.Panel !== undefined) {\n",
       "    embed_document(root);\n",
       "  } else {\n",
       "    var attempts = 0;\n",
       "    var timer = setInterval(function(root) {\n",
       "      if (root.Bokeh !== undefined && root.Bokeh.Panel !== undefined) {\n",
       "        clearInterval(timer);\n",
       "        embed_document(root);\n",
       "      } else if (document.readyState == \"complete\") {\n",
       "        attempts++;\n",
       "        if (attempts > 200) {\n",
       "          clearInterval(timer);\n",
       "          console.log(\"Bokeh: ERROR: Unable to run BokehJS code because BokehJS library is missing\");\n",
       "        }\n",
       "      }\n",
       "    }, 25, root)\n",
       "  }\n",
       "})(window);</script>"
      ],
      "text/plain": [
       "Tabs\n",
       "    [0] HoloViews(Bars, name='from_model')\n",
       "    [1] Matplotlib(Figure, name='shap_values')"
      ]
     },
     "execution_count": 30,
     "metadata": {
      "application/vnd.holoviews_exec.v0+json": {
       "id": "14247"
      }
     },
     "output_type": "execute_result"
    }
   ],
   "source": [
    "out = eda.get_feature_importances(train_X, train_y, y_continuous=True)\n",
    "display_as_tabs([(k, v) for k,v in out.items()])"
   ]
  },
  {
   "attachments": {},
   "cell_type": "markdown",
   "metadata": {},
   "source": [
    "Key drivers report like feature importance, bivariate plots can be obtained as below"
   ]
  },
  {
   "cell_type": "code",
   "execution_count": 31,
   "metadata": {},
   "outputs": [],
   "source": [
    "reports.key_drivers(train_X,train_y, './key_drivers_report.html', y_continuous=True)"
   ]
  },
  {
   "attachments": {},
   "cell_type": "markdown",
   "metadata": {},
   "source": [
    "**Dev Notes**\n",
    "<details>\n",
    "    \n",
    "- The SHAP plots and bivariate plots in key drivers reports can be obtained by including quick=False as a parameter to key_drivers function call. \n",
    "- SHAP plots and bivariate plots often take long depending on data shape.\n",
    "- The plot with shap is present [here](https://drive.google.com/file/d/1JOTMBLiv3LEqZ-kxZz0RokW9v5UyiGva/view?usp=sharing)\n",
    "\n",
    "</details>"
   ]
  },
  {
   "attachments": {},
   "cell_type": "markdown",
   "metadata": {},
   "source": [
    "\n",
    "All the plots like feature analysis, interaction, key drivers can be obtained as a single plot using data exploration method as shown below. The output from this is available [here](https://drive.google.com/file/d/1209MzmSSEhiTYuPfHpaVXFXUVbkaJm0B/view?usp=sharing)"
   ]
  },
  {
   "cell_type": "code",
   "execution_count": 32,
   "metadata": {},
   "outputs": [
    {
     "name": "stderr",
     "output_type": "stream",
     "text": [
      "p-value may not be accurate for N > 5000.\n"
     ]
    }
   ],
   "source": [
    "reports.data_exploration(train_X,train_y,'./data_exploration_report.html', y_continuous=True)"
   ]
  },
  {
   "cell_type": "code",
   "execution_count": 33,
   "metadata": {},
   "outputs": [],
   "source": [
    "# saving the list of relevant columns\n",
    "save_pipeline(curated_columns, op.abspath(op.join(artifacts_folder, 'curated_columns.joblib')))\n",
    "\n",
    "# save the feature pipeline\n",
    "save_pipeline(features_transformer, op.abspath(op.join(artifacts_folder, 'features.joblib')))"
   ]
  },
  {
   "attachments": {},
   "cell_type": "markdown",
   "metadata": {},
   "source": [
    "# 4 Modelling"
   ]
  },
  {
   "attachments": {},
   "cell_type": "markdown",
   "metadata": {},
   "source": [
    "## 4.1 Modelling - Linear Regression"
   ]
  },
  {
   "attachments": {},
   "cell_type": "markdown",
   "metadata": {},
   "source": [
    "### 4.1.1 Feature Selection(Specific to Regression)\n",
    "\n",
    "- Selecting Features specific to regression\n",
    "- VIF : measure of the amount of multi-collinearity in a set of multiple regressor variables. \n",
    "- On a case to case basis VIF thresholds change. Generally 5 or 10 are acceptable levels.\n",
    "- Usually on a recursive basis when removing the most collinear variable, there can be shuffle in VIF. \n",
    "- Often this section will not be part of the production code."
   ]
  },
  {
   "cell_type": "code",
   "execution_count": 34,
   "metadata": {},
   "outputs": [],
   "source": [
    "cols = list(train_X.columns)\n",
    "vif = eda.calc_vif(train_X)\n",
    "while max(vif.VIF) > 15:\n",
    "    #removing the largest variable from VIF\n",
    "    cols.remove(vif[(vif.VIF==vif.VIF.max())].variables.tolist()[0])\n",
    "    vif = eda.calc_vif(train_X[cols])"
   ]
  },
  {
   "cell_type": "code",
   "execution_count": 35,
   "metadata": {},
   "outputs": [],
   "source": [
    "reg_vars = vif.query('VIF < 15').variables\n",
    "reg_vars = list(reg_vars)"
   ]
  },
  {
   "attachments": {},
   "cell_type": "markdown",
   "metadata": {},
   "source": [
    "### 4.1.2 Data transformations"
   ]
  },
  {
   "cell_type": "code",
   "execution_count": 36,
   "metadata": {},
   "outputs": [],
   "source": [
    "# Custom Transformations like these can be utilised\n",
    "def _custom_data_transform(df, cols2keep=None):\n",
    "    \"\"\"Transformation to drop some columns in the data\n",
    "    \n",
    "    Parameters\n",
    "    ----------\n",
    "        df - pd.DataFrame\n",
    "        cols2keep - columns to keep in the dataframe\n",
    "    \"\"\"\n",
    "    cols2keep = cols2keep or []\n",
    "    if len(cols2keep):\n",
    "        return (df\n",
    "                .select_columns(cols2keep))\n",
    "    else:\n",
    "        return df"
   ]
  },
  {
   "attachments": {},
   "cell_type": "markdown",
   "metadata": {},
   "source": [
    "### 4.1.3 Model training pipeline\n",
    "\n",
    "- Here we focus on creating a collection of pipelines that can be used for training respective models.\n",
    "- Each model pipeline will essentially be of the form\n",
    "```\n",
    "[\n",
    "('preprocessing', preprocessing_pipeline),\n",
    "('feature_selection', feature_selection_pipeline),\n",
    "('estimator', estimator),\n",
    "]\n",
    "```"
   ]
  },
  {
   "attachments": {},
   "cell_type": "markdown",
   "metadata": {},
   "source": [
    "### 4.1.4 Model Pipeline Build\n",
    "\n",
    "- This will be part of the production code (training only)."
   ]
  },
  {
   "cell_type": "code",
   "execution_count": 37,
   "metadata": {},
   "outputs": [
    {
     "data": {
      "text/html": [
       "<style>#sk-container-id-1 {color: black;background-color: white;}#sk-container-id-1 pre{padding: 0;}#sk-container-id-1 div.sk-toggleable {background-color: white;}#sk-container-id-1 label.sk-toggleable__label {cursor: pointer;display: block;width: 100%;margin-bottom: 0;padding: 0.3em;box-sizing: border-box;text-align: center;}#sk-container-id-1 label.sk-toggleable__label-arrow:before {content: \"▸\";float: left;margin-right: 0.25em;color: #696969;}#sk-container-id-1 label.sk-toggleable__label-arrow:hover:before {color: black;}#sk-container-id-1 div.sk-estimator:hover label.sk-toggleable__label-arrow:before {color: black;}#sk-container-id-1 div.sk-toggleable__content {max-height: 0;max-width: 0;overflow: hidden;text-align: left;background-color: #f0f8ff;}#sk-container-id-1 div.sk-toggleable__content pre {margin: 0.2em;color: black;border-radius: 0.25em;background-color: #f0f8ff;}#sk-container-id-1 input.sk-toggleable__control:checked~div.sk-toggleable__content {max-height: 200px;max-width: 100%;overflow: auto;}#sk-container-id-1 input.sk-toggleable__control:checked~label.sk-toggleable__label-arrow:before {content: \"▾\";}#sk-container-id-1 div.sk-estimator input.sk-toggleable__control:checked~label.sk-toggleable__label {background-color: #d4ebff;}#sk-container-id-1 div.sk-label input.sk-toggleable__control:checked~label.sk-toggleable__label {background-color: #d4ebff;}#sk-container-id-1 input.sk-hidden--visually {border: 0;clip: rect(1px 1px 1px 1px);clip: rect(1px, 1px, 1px, 1px);height: 1px;margin: -1px;overflow: hidden;padding: 0;position: absolute;width: 1px;}#sk-container-id-1 div.sk-estimator {font-family: monospace;background-color: #f0f8ff;border: 1px dotted black;border-radius: 0.25em;box-sizing: border-box;margin-bottom: 0.5em;}#sk-container-id-1 div.sk-estimator:hover {background-color: #d4ebff;}#sk-container-id-1 div.sk-parallel-item::after {content: \"\";width: 100%;border-bottom: 1px solid gray;flex-grow: 1;}#sk-container-id-1 div.sk-label:hover label.sk-toggleable__label {background-color: #d4ebff;}#sk-container-id-1 div.sk-serial::before {content: \"\";position: absolute;border-left: 1px solid gray;box-sizing: border-box;top: 0;bottom: 0;left: 50%;z-index: 0;}#sk-container-id-1 div.sk-serial {display: flex;flex-direction: column;align-items: center;background-color: white;padding-right: 0.2em;padding-left: 0.2em;position: relative;}#sk-container-id-1 div.sk-item {position: relative;z-index: 1;}#sk-container-id-1 div.sk-parallel {display: flex;align-items: stretch;justify-content: center;background-color: white;position: relative;}#sk-container-id-1 div.sk-item::before, #sk-container-id-1 div.sk-parallel-item::before {content: \"\";position: absolute;border-left: 1px solid gray;box-sizing: border-box;top: 0;bottom: 0;left: 50%;z-index: -1;}#sk-container-id-1 div.sk-parallel-item {display: flex;flex-direction: column;z-index: 1;position: relative;background-color: white;}#sk-container-id-1 div.sk-parallel-item:first-child::after {align-self: flex-end;width: 50%;}#sk-container-id-1 div.sk-parallel-item:last-child::after {align-self: flex-start;width: 50%;}#sk-container-id-1 div.sk-parallel-item:only-child::after {width: 0;}#sk-container-id-1 div.sk-dashed-wrapped {border: 1px dashed gray;margin: 0 0.4em 0.5em 0.4em;box-sizing: border-box;padding-bottom: 0.4em;background-color: white;}#sk-container-id-1 div.sk-label label {font-family: monospace;font-weight: bold;display: inline-block;line-height: 1.2em;}#sk-container-id-1 div.sk-label-container {text-align: center;}#sk-container-id-1 div.sk-container {/* jupyter's `normalize.less` sets `[hidden] { display: none; }` but bootstrap.min.css set `[hidden] { display: none !important; }` so we also need the `!important` here to be able to override the default hidden behavior on the sphinx rendered scikit-learn.org. See: https://github.com/scikit-learn/scikit-learn/issues/21755 */display: inline-block !important;position: relative;}#sk-container-id-1 div.sk-text-repr-fallback {display: none;}</style><div id=\"sk-container-id-1\" class=\"sk-top-container\"><div class=\"sk-text-repr-fallback\"><pre>Pipeline(steps=[(&#x27;&#x27;,\n",
       "                 FunctionTransformer(func=&lt;function _custom_data_transform at 0x7fe531ef1160&gt;,\n",
       "                                     kw_args={&#x27;cols2keep&#x27;: [&#x27;ocean_proximity&#x27;,\n",
       "                                                            &#x27;housing_median_age&#x27;,\n",
       "                                                            &#x27;population&#x27;,\n",
       "                                                            &#x27;median_income&#x27;]})),\n",
       "                (&#x27;estimator&#x27;, SKLStatsmodelOLS())])</pre><b>In a Jupyter environment, please rerun this cell to show the HTML representation or trust the notebook. <br />On GitHub, the HTML representation is unable to render, please try loading this page with nbviewer.org.</b></div><div class=\"sk-container\" hidden><div class=\"sk-item sk-dashed-wrapped\"><div class=\"sk-label-container\"><div class=\"sk-label sk-toggleable\"><input class=\"sk-toggleable__control sk-hidden--visually\" id=\"sk-estimator-id-1\" type=\"checkbox\" ><label for=\"sk-estimator-id-1\" class=\"sk-toggleable__label sk-toggleable__label-arrow\">Pipeline</label><div class=\"sk-toggleable__content\"><pre>Pipeline(steps=[(&#x27;&#x27;,\n",
       "                 FunctionTransformer(func=&lt;function _custom_data_transform at 0x7fe531ef1160&gt;,\n",
       "                                     kw_args={&#x27;cols2keep&#x27;: [&#x27;ocean_proximity&#x27;,\n",
       "                                                            &#x27;housing_median_age&#x27;,\n",
       "                                                            &#x27;population&#x27;,\n",
       "                                                            &#x27;median_income&#x27;]})),\n",
       "                (&#x27;estimator&#x27;, SKLStatsmodelOLS())])</pre></div></div></div><div class=\"sk-serial\"><div class=\"sk-item\"><div class=\"sk-estimator sk-toggleable\"><input class=\"sk-toggleable__control sk-hidden--visually\" id=\"sk-estimator-id-2\" type=\"checkbox\" ><label for=\"sk-estimator-id-2\" class=\"sk-toggleable__label sk-toggleable__label-arrow\">FunctionTransformer</label><div class=\"sk-toggleable__content\"><pre>FunctionTransformer(func=&lt;function _custom_data_transform at 0x7fe531ef1160&gt;,\n",
       "                    kw_args={&#x27;cols2keep&#x27;: [&#x27;ocean_proximity&#x27;,\n",
       "                                           &#x27;housing_median_age&#x27;, &#x27;population&#x27;,\n",
       "                                           &#x27;median_income&#x27;]})</pre></div></div></div><div class=\"sk-item\"><div class=\"sk-estimator sk-toggleable\"><input class=\"sk-toggleable__control sk-hidden--visually\" id=\"sk-estimator-id-3\" type=\"checkbox\" ><label for=\"sk-estimator-id-3\" class=\"sk-toggleable__label sk-toggleable__label-arrow\">SKLStatsmodelOLS</label><div class=\"sk-toggleable__content\"><pre>SKLStatsmodelOLS()</pre></div></div></div></div></div></div></div>"
      ],
      "text/plain": [
       "Pipeline(steps=[('',\n",
       "                 FunctionTransformer(func=<function _custom_data_transform at 0x7fe531ef1160>,\n",
       "                                     kw_args={'cols2keep': ['ocean_proximity',\n",
       "                                                            'housing_median_age',\n",
       "                                                            'population',\n",
       "                                                            'median_income']})),\n",
       "                ('estimator', SKLStatsmodelOLS())])"
      ]
     },
     "execution_count": 37,
     "metadata": {},
     "output_type": "execute_result"
    }
   ],
   "source": [
    "reg_ppln_ols = Pipeline([\n",
    "    ('',FunctionTransformer(_custom_data_transform, kw_args={'cols2keep':reg_vars})),\n",
    "    ('estimator', SKLStatsmodelOLS())\n",
    "])\n",
    "reg_ppln_ols.fit(train_X, train_y.values.ravel())\n"
   ]
  },
  {
   "cell_type": "code",
   "execution_count": 38,
   "metadata": {},
   "outputs": [
    {
     "data": {
      "text/html": [
       "<table class=\"simpletable\">\n",
       "<caption>OLS Regression Results</caption>\n",
       "<tr>\n",
       "  <th>Dep. Variable:</th>            <td>y</td>        <th>  R-squared:         </th>  <td>   0.606</td>  \n",
       "</tr>\n",
       "<tr>\n",
       "  <th>Model:</th>                   <td>OLS</td>       <th>  Adj. R-squared:    </th>  <td>   0.606</td>  \n",
       "</tr>\n",
       "<tr>\n",
       "  <th>Method:</th>             <td>Least Squares</td>  <th>  F-statistic:       </th>  <td>   6352.</td>  \n",
       "</tr>\n",
       "<tr>\n",
       "  <th>Date:</th>             <td>Thu, 08 Jun 2023</td> <th>  Prob (F-statistic):</th>   <td>  0.00</td>   \n",
       "</tr>\n",
       "<tr>\n",
       "  <th>Time:</th>                 <td>10:48:39</td>     <th>  Log-Likelihood:    </th> <td>-2.0820e+05</td>\n",
       "</tr>\n",
       "<tr>\n",
       "  <th>No. Observations:</th>      <td> 16512</td>      <th>  AIC:               </th>  <td>4.164e+05</td> \n",
       "</tr>\n",
       "<tr>\n",
       "  <th>Df Residuals:</th>          <td> 16507</td>      <th>  BIC:               </th>  <td>4.165e+05</td> \n",
       "</tr>\n",
       "<tr>\n",
       "  <th>Df Model:</th>              <td>     4</td>      <th>                     </th>      <td> </td>     \n",
       "</tr>\n",
       "<tr>\n",
       "  <th>Covariance Type:</th>      <td>nonrobust</td>    <th>                     </th>      <td> </td>     \n",
       "</tr>\n",
       "</table>\n",
       "<table class=\"simpletable\">\n",
       "<tr>\n",
       "           <td></td>             <th>coef</th>     <th>std err</th>      <th>t</th>      <th>P>|t|</th>  <th>[0.025</th>    <th>0.975]</th>  \n",
       "</tr>\n",
       "<tr>\n",
       "  <th>intercept</th>          <td>-1.099e+05</td> <td> 2742.352</td> <td>  -40.060</td> <td> 0.000</td> <td>-1.15e+05</td> <td>-1.04e+05</td>\n",
       "</tr>\n",
       "<tr>\n",
       "  <th>ocean_proximity</th>    <td>    0.6258</td> <td>    0.011</td> <td>   57.353</td> <td> 0.000</td> <td>    0.604</td> <td>    0.647</td>\n",
       "</tr>\n",
       "<tr>\n",
       "  <th>housing_median_age</th> <td>  975.6285</td> <td>   50.329</td> <td>   19.385</td> <td> 0.000</td> <td>  876.979</td> <td> 1074.278</td>\n",
       "</tr>\n",
       "<tr>\n",
       "  <th>population</th>         <td>   -0.8074</td> <td>    0.649</td> <td>   -1.243</td> <td> 0.214</td> <td>   -2.080</td> <td>    0.466</td>\n",
       "</tr>\n",
       "<tr>\n",
       "  <th>median_income</th>      <td>  4.18e+04</td> <td>  338.109</td> <td>  123.638</td> <td> 0.000</td> <td> 4.11e+04</td> <td> 4.25e+04</td>\n",
       "</tr>\n",
       "</table>\n",
       "<table class=\"simpletable\">\n",
       "<tr>\n",
       "  <th>Omnibus:</th>       <td>3748.790</td> <th>  Durbin-Watson:     </th> <td>   2.002</td>\n",
       "</tr>\n",
       "<tr>\n",
       "  <th>Prob(Omnibus):</th>  <td> 0.000</td>  <th>  Jarque-Bera (JB):  </th> <td>9669.605</td>\n",
       "</tr>\n",
       "<tr>\n",
       "  <th>Skew:</th>           <td> 1.234</td>  <th>  Prob(JB):          </th> <td>    0.00</td>\n",
       "</tr>\n",
       "<tr>\n",
       "  <th>Kurtosis:</th>       <td> 5.823</td>  <th>  Cond. No.          </th> <td>1.04e+06</td>\n",
       "</tr>\n",
       "</table><br/><br/>Notes:<br/>[1] Standard Errors assume that the covariance matrix of the errors is correctly specified.<br/>[2] The condition number is large, 1.04e+06. This might indicate that there are<br/>strong multicollinearity or other numerical problems."
      ],
      "text/plain": [
       "<class 'statsmodels.iolib.summary.Summary'>\n",
       "\"\"\"\n",
       "                            OLS Regression Results                            \n",
       "==============================================================================\n",
       "Dep. Variable:                      y   R-squared:                       0.606\n",
       "Model:                            OLS   Adj. R-squared:                  0.606\n",
       "Method:                 Least Squares   F-statistic:                     6352.\n",
       "Date:                Thu, 08 Jun 2023   Prob (F-statistic):               0.00\n",
       "Time:                        10:48:39   Log-Likelihood:            -2.0820e+05\n",
       "No. Observations:               16512   AIC:                         4.164e+05\n",
       "Df Residuals:                   16507   BIC:                         4.165e+05\n",
       "Df Model:                           4                                         \n",
       "Covariance Type:            nonrobust                                         \n",
       "======================================================================================\n",
       "                         coef    std err          t      P>|t|      [0.025      0.975]\n",
       "--------------------------------------------------------------------------------------\n",
       "intercept          -1.099e+05   2742.352    -40.060      0.000   -1.15e+05   -1.04e+05\n",
       "ocean_proximity        0.6258      0.011     57.353      0.000       0.604       0.647\n",
       "housing_median_age   975.6285     50.329     19.385      0.000     876.979    1074.278\n",
       "population            -0.8074      0.649     -1.243      0.214      -2.080       0.466\n",
       "median_income        4.18e+04    338.109    123.638      0.000    4.11e+04    4.25e+04\n",
       "==============================================================================\n",
       "Omnibus:                     3748.790   Durbin-Watson:                   2.002\n",
       "Prob(Omnibus):                  0.000   Jarque-Bera (JB):             9669.605\n",
       "Skew:                           1.234   Prob(JB):                         0.00\n",
       "Kurtosis:                       5.823   Cond. No.                     1.04e+06\n",
       "==============================================================================\n",
       "\n",
       "Notes:\n",
       "[1] Standard Errors assume that the covariance matrix of the errors is correctly specified.\n",
       "[2] The condition number is large, 1.04e+06. This might indicate that there are\n",
       "strong multicollinearity or other numerical problems.\n",
       "\"\"\""
      ]
     },
     "execution_count": 38,
     "metadata": {},
     "output_type": "execute_result"
    }
   ],
   "source": [
    "reg_ppln_ols['estimator'].summary()"
   ]
  },
  {
   "attachments": {},
   "cell_type": "markdown",
   "metadata": {},
   "source": [
    "### 4.1.5 Model Evaluation(Linear Model)\n",
    "\n",
    "This will be part of the production code."
   ]
  },
  {
   "cell_type": "code",
   "execution_count": 39,
   "metadata": {},
   "outputs": [],
   "source": [
    "reg_ppln = Pipeline([\n",
    "    ('', FunctionTransformer(_custom_data_transform, kw_args={'cols2keep':reg_vars})),\n",
    "    ('Linear Regression', SKLStatsmodelOLS())\n",
    "])\n",
    "\n",
    "test_X = get_dataframe(\n",
    "    features_transformer.transform(test_X), \n",
    "    get_feature_names_from_column_transformer(features_transformer)\n",
    ")\n",
    "test_X = test_X[curated_columns]"
   ]
  },
  {
   "cell_type": "code",
   "execution_count": 40,
   "metadata": {},
   "outputs": [],
   "source": [
    "reg_linear_report = RegressionReport(model=reg_ppln, x_train=train_X, y_train=train_y, x_test= test_X, y_test= test_y, refit=True)\n",
    "reg_linear_report.get_report(include_shap=False, file_path='regression_linear_model_report')"
   ]
  },
  {
   "attachments": {},
   "cell_type": "markdown",
   "metadata": {},
   "source": [
    "**Dev Notes**\n",
    "Use SHAP for variable interpretability.\n",
    "<details>\n",
    "\n",
    "    1. Use SHAP=True to generate variable interpretability plots in the report\n",
    "    2. SHAP is recommended for non parameteric models such as RF, xgboost.\n",
    "    3. However, SHAP reports are time consuming depending on no.of records and model complexity.\n",
    "    \n",
    "A sample of regerssion report with SHAP can be found [here](https://drive.google.com/file/d/18RlQTsT1ze09Cgz-qpb4ha_cvyWbN5F5/view?usp=sharing).\n",
    "</details>"
   ]
  },
  {
   "attachments": {},
   "cell_type": "markdown",
   "metadata": {},
   "source": [
    "### 4.1.6 Residual Analysis\n",
    "- After scoring the model, it is recommended to do a residual analysis to know the distribution of errors\n",
    "- we took a threshold of 30% above which it is marked as over prediction or underprediction\n",
    "- This will not be part of the production code."
   ]
  },
  {
   "cell_type": "code",
   "execution_count": 41,
   "metadata": {},
   "outputs": [],
   "source": [
    "threshold=0.3\n",
    "residual_analysis = test_X.copy()\n",
    "residual_analysis['prediction'] = reg_ppln_ols.predict(test_X)\n",
    "residual_analysis['actuals'] = test_y.reset_index(drop = True).iloc[:,0].values\n",
    "residual_analysis['forecast_flag'] = 'good'\n",
    "residual_analysis.loc[((residual_analysis['prediction'] > (1+threshold) * residual_analysis['actuals'])\\\n",
    "                       & (residual_analysis['actuals']>100)),'forecast_flag'] = 'over predict'\n",
    "residual_analysis.loc[((residual_analysis['prediction'] < (1-threshold) * residual_analysis['actuals'])\\\n",
    "                       & (residual_analysis['actuals']>100)),'forecast_flag'] = 'under predict'"
   ]
  },
  {
   "cell_type": "code",
   "execution_count": 45,
   "metadata": {},
   "outputs": [],
   "source": [
    "# residual_analysis.hvplot.kde(y=\"median_house_value\",by=\"forecast_flag\", ## Grouping by Predictions\n",
    "#                                 width=800, height=400,\n",
    "#                                 alpha=0.7,\n",
    "#                                 ylabel=\"density\",\n",
    "#                                 xlabel=\"median_house_value\",\n",
    "#                                 title=f'median_house_value(density)',legend='top_right')"
   ]
  },
  {
   "attachments": {},
   "cell_type": "markdown",
   "metadata": {},
   "source": [
    "- From the above plot we can infer that the higher \"over predictions\" are happening for unit_cost > 200.\n",
    "- similarly, the higher \"under predictions\" are happening for unit_cost is zero.\n",
    "\n",
    "This can help us tune the model by a separate model for unit_cost > 200\n"
   ]
  },
  {
   "attachments": {},
   "cell_type": "markdown",
   "metadata": {},
   "source": [
    "# 4.2 Modelling - XGBoost"
   ]
  },
  {
   "attachments": {},
   "cell_type": "markdown",
   "metadata": {},
   "source": [
    "## 4.2.1 Model training pipeline\n",
    "\n",
    "Here we focus on creating a collection of pipelines that can be used for tranining respective models.\n",
    "\n",
    "Each model pipeline will essentially be of the form\n",
    "```\n",
    "[\n",
    "('preprocessing', preprocessing_pipeline),\n",
    "('feature_selection', feature_selection_pipeline),\n",
    "('estimator', estimator),\n",
    "]\n",
    "```"
   ]
  },
  {
   "attachments": {},
   "cell_type": "markdown",
   "metadata": {},
   "source": [
    "### 4.2.2 Model Pipeline Build"
   ]
  },
  {
   "cell_type": "code",
   "execution_count": 46,
   "metadata": {},
   "outputs": [
    {
     "data": {
      "text/html": [
       "<style>#sk-container-id-2 {color: black;background-color: white;}#sk-container-id-2 pre{padding: 0;}#sk-container-id-2 div.sk-toggleable {background-color: white;}#sk-container-id-2 label.sk-toggleable__label {cursor: pointer;display: block;width: 100%;margin-bottom: 0;padding: 0.3em;box-sizing: border-box;text-align: center;}#sk-container-id-2 label.sk-toggleable__label-arrow:before {content: \"▸\";float: left;margin-right: 0.25em;color: #696969;}#sk-container-id-2 label.sk-toggleable__label-arrow:hover:before {color: black;}#sk-container-id-2 div.sk-estimator:hover label.sk-toggleable__label-arrow:before {color: black;}#sk-container-id-2 div.sk-toggleable__content {max-height: 0;max-width: 0;overflow: hidden;text-align: left;background-color: #f0f8ff;}#sk-container-id-2 div.sk-toggleable__content pre {margin: 0.2em;color: black;border-radius: 0.25em;background-color: #f0f8ff;}#sk-container-id-2 input.sk-toggleable__control:checked~div.sk-toggleable__content {max-height: 200px;max-width: 100%;overflow: auto;}#sk-container-id-2 input.sk-toggleable__control:checked~label.sk-toggleable__label-arrow:before {content: \"▾\";}#sk-container-id-2 div.sk-estimator input.sk-toggleable__control:checked~label.sk-toggleable__label {background-color: #d4ebff;}#sk-container-id-2 div.sk-label input.sk-toggleable__control:checked~label.sk-toggleable__label {background-color: #d4ebff;}#sk-container-id-2 input.sk-hidden--visually {border: 0;clip: rect(1px 1px 1px 1px);clip: rect(1px, 1px, 1px, 1px);height: 1px;margin: -1px;overflow: hidden;padding: 0;position: absolute;width: 1px;}#sk-container-id-2 div.sk-estimator {font-family: monospace;background-color: #f0f8ff;border: 1px dotted black;border-radius: 0.25em;box-sizing: border-box;margin-bottom: 0.5em;}#sk-container-id-2 div.sk-estimator:hover {background-color: #d4ebff;}#sk-container-id-2 div.sk-parallel-item::after {content: \"\";width: 100%;border-bottom: 1px solid gray;flex-grow: 1;}#sk-container-id-2 div.sk-label:hover label.sk-toggleable__label {background-color: #d4ebff;}#sk-container-id-2 div.sk-serial::before {content: \"\";position: absolute;border-left: 1px solid gray;box-sizing: border-box;top: 0;bottom: 0;left: 50%;z-index: 0;}#sk-container-id-2 div.sk-serial {display: flex;flex-direction: column;align-items: center;background-color: white;padding-right: 0.2em;padding-left: 0.2em;position: relative;}#sk-container-id-2 div.sk-item {position: relative;z-index: 1;}#sk-container-id-2 div.sk-parallel {display: flex;align-items: stretch;justify-content: center;background-color: white;position: relative;}#sk-container-id-2 div.sk-item::before, #sk-container-id-2 div.sk-parallel-item::before {content: \"\";position: absolute;border-left: 1px solid gray;box-sizing: border-box;top: 0;bottom: 0;left: 50%;z-index: -1;}#sk-container-id-2 div.sk-parallel-item {display: flex;flex-direction: column;z-index: 1;position: relative;background-color: white;}#sk-container-id-2 div.sk-parallel-item:first-child::after {align-self: flex-end;width: 50%;}#sk-container-id-2 div.sk-parallel-item:last-child::after {align-self: flex-start;width: 50%;}#sk-container-id-2 div.sk-parallel-item:only-child::after {width: 0;}#sk-container-id-2 div.sk-dashed-wrapped {border: 1px dashed gray;margin: 0 0.4em 0.5em 0.4em;box-sizing: border-box;padding-bottom: 0.4em;background-color: white;}#sk-container-id-2 div.sk-label label {font-family: monospace;font-weight: bold;display: inline-block;line-height: 1.2em;}#sk-container-id-2 div.sk-label-container {text-align: center;}#sk-container-id-2 div.sk-container {/* jupyter's `normalize.less` sets `[hidden] { display: none; }` but bootstrap.min.css set `[hidden] { display: none !important; }` so we also need the `!important` here to be able to override the default hidden behavior on the sphinx rendered scikit-learn.org. See: https://github.com/scikit-learn/scikit-learn/issues/21755 */display: inline-block !important;position: relative;}#sk-container-id-2 div.sk-text-repr-fallback {display: none;}</style><div id=\"sk-container-id-2\" class=\"sk-top-container\"><div class=\"sk-text-repr-fallback\"><pre>Pipeline(steps=[(&#x27;XGBoost&#x27;,\n",
       "                 XGBRegressor(base_score=0.5, booster=&#x27;gbtree&#x27;,\n",
       "                              colsample_bylevel=1, colsample_bynode=1,\n",
       "                              colsample_bytree=1, enable_categorical=False,\n",
       "                              gamma=0, gpu_id=-1, importance_type=None,\n",
       "                              interaction_constraints=&#x27;&#x27;,\n",
       "                              learning_rate=0.300000012, max_delta_step=0,\n",
       "                              max_depth=6, min_child_weight=1, missing=nan,\n",
       "                              monotone_constraints=&#x27;()&#x27;, n_estimators=100,\n",
       "                              n_jobs=8, num_parallel_tree=1, predictor=&#x27;auto&#x27;,\n",
       "                              random_state=0, reg_alpha=0, reg_lambda=1,\n",
       "                              scale_pos_weight=1, subsample=1,\n",
       "                              tree_method=&#x27;exact&#x27;, validate_parameters=1,\n",
       "                              verbosity=None))])</pre><b>In a Jupyter environment, please rerun this cell to show the HTML representation or trust the notebook. <br />On GitHub, the HTML representation is unable to render, please try loading this page with nbviewer.org.</b></div><div class=\"sk-container\" hidden><div class=\"sk-item sk-dashed-wrapped\"><div class=\"sk-label-container\"><div class=\"sk-label sk-toggleable\"><input class=\"sk-toggleable__control sk-hidden--visually\" id=\"sk-estimator-id-4\" type=\"checkbox\" ><label for=\"sk-estimator-id-4\" class=\"sk-toggleable__label sk-toggleable__label-arrow\">Pipeline</label><div class=\"sk-toggleable__content\"><pre>Pipeline(steps=[(&#x27;XGBoost&#x27;,\n",
       "                 XGBRegressor(base_score=0.5, booster=&#x27;gbtree&#x27;,\n",
       "                              colsample_bylevel=1, colsample_bynode=1,\n",
       "                              colsample_bytree=1, enable_categorical=False,\n",
       "                              gamma=0, gpu_id=-1, importance_type=None,\n",
       "                              interaction_constraints=&#x27;&#x27;,\n",
       "                              learning_rate=0.300000012, max_delta_step=0,\n",
       "                              max_depth=6, min_child_weight=1, missing=nan,\n",
       "                              monotone_constraints=&#x27;()&#x27;, n_estimators=100,\n",
       "                              n_jobs=8, num_parallel_tree=1, predictor=&#x27;auto&#x27;,\n",
       "                              random_state=0, reg_alpha=0, reg_lambda=1,\n",
       "                              scale_pos_weight=1, subsample=1,\n",
       "                              tree_method=&#x27;exact&#x27;, validate_parameters=1,\n",
       "                              verbosity=None))])</pre></div></div></div><div class=\"sk-serial\"><div class=\"sk-item\"><div class=\"sk-estimator sk-toggleable\"><input class=\"sk-toggleable__control sk-hidden--visually\" id=\"sk-estimator-id-5\" type=\"checkbox\" ><label for=\"sk-estimator-id-5\" class=\"sk-toggleable__label sk-toggleable__label-arrow\">XGBRegressor</label><div class=\"sk-toggleable__content\"><pre>XGBRegressor(base_score=0.5, booster=&#x27;gbtree&#x27;, colsample_bylevel=1,\n",
       "             colsample_bynode=1, colsample_bytree=1, enable_categorical=False,\n",
       "             gamma=0, gpu_id=-1, importance_type=None,\n",
       "             interaction_constraints=&#x27;&#x27;, learning_rate=0.300000012,\n",
       "             max_delta_step=0, max_depth=6, min_child_weight=1, missing=nan,\n",
       "             monotone_constraints=&#x27;()&#x27;, n_estimators=100, n_jobs=8,\n",
       "             num_parallel_tree=1, predictor=&#x27;auto&#x27;, random_state=0, reg_alpha=0,\n",
       "             reg_lambda=1, scale_pos_weight=1, subsample=1, tree_method=&#x27;exact&#x27;,\n",
       "             validate_parameters=1, verbosity=None)</pre></div></div></div></div></div></div></div>"
      ],
      "text/plain": [
       "Pipeline(steps=[('XGBoost',\n",
       "                 XGBRegressor(base_score=0.5, booster='gbtree',\n",
       "                              colsample_bylevel=1, colsample_bynode=1,\n",
       "                              colsample_bytree=1, enable_categorical=False,\n",
       "                              gamma=0, gpu_id=-1, importance_type=None,\n",
       "                              interaction_constraints='',\n",
       "                              learning_rate=0.300000012, max_delta_step=0,\n",
       "                              max_depth=6, min_child_weight=1, missing=nan,\n",
       "                              monotone_constraints='()', n_estimators=100,\n",
       "                              n_jobs=8, num_parallel_tree=1, predictor='auto',\n",
       "                              random_state=0, reg_alpha=0, reg_lambda=1,\n",
       "                              scale_pos_weight=1, subsample=1,\n",
       "                              tree_method='exact', validate_parameters=1,\n",
       "                              verbosity=None))])"
      ]
     },
     "execution_count": 46,
     "metadata": {},
     "output_type": "execute_result"
    }
   ],
   "source": [
    "# let's find features for some decent defaults\n",
    "estimator = XGBRegressor()\n",
    "xgb_training_pipe_init = Pipeline([\n",
    "    ('XGBoost', XGBRegressor())\n",
    "])\n",
    "xgb_training_pipe_init.fit(train_X, train_y)"
   ]
  },
  {
   "attachments": {},
   "cell_type": "markdown",
   "metadata": {},
   "source": [
    "### 4.2.3 Model Tuning"
   ]
  },
  {
   "cell_type": "code",
   "execution_count": 47,
   "metadata": {},
   "outputs": [
    {
     "data": {
      "text/plain": [
       "<AxesSubplot:>"
      ]
     },
     "execution_count": 47,
     "metadata": {},
     "output_type": "execute_result"
    },
    {
     "data": {
      "image/png": "[encoded data removed]",
      "text/plain": [
       "<Figure size 640x480 with 1 Axes>"
      ]
     },
     "metadata": {},
     "output_type": "display_data"
    }
   ],
   "source": [
    "# Understanding the Feature Importance\n",
    "%matplotlib inline\n",
    "imp = pd.DataFrame({'importance': xgb_training_pipe_init['XGBoost'].feature_importances_})\n",
    "imp.index = train_X.columns\n",
    "imp.sort_values('importance',inplace=True)\n",
    "imp.plot(kind='barh')"
   ]
  },
  {
   "attachments": {},
   "cell_type": "markdown",
   "metadata": {},
   "source": [
    "'condition','model_family','days_since_last_purchase','first_time_customer','sales_person', are considered to be important and in grid search"
   ]
  },
  {
   "attachments": {},
   "cell_type": "markdown",
   "metadata": {},
   "source": [
    "##### Pipeline build based on new importance features"
   ]
  },
  {
   "cell_type": "code",
   "execution_count": 52,
   "metadata": {},
   "outputs": [],
   "source": [
    "# let's find features for some decent defaults\n",
    "imp_features = ['median_income','ocean_proximity','latitude']\n",
    "\n",
    "estimator = XGBRegressor()\n",
    "xgb_training_pipe2 = Pipeline([\n",
    "    ('', FunctionTransformer(_custom_data_transform, kw_args={'cols2keep':imp_features})),\n",
    "    ('XGBoost', XGBRegressor())\n",
    "])"
   ]
  },
  {
   "attachments": {},
   "cell_type": "markdown",
   "metadata": {},
   "source": [
    "#### Grid Search of the Estimator"
   ]
  },
  {
   "cell_type": "code",
   "execution_count": 53,
   "metadata": {},
   "outputs": [
    {
     "name": "stdout",
     "output_type": "stream",
     "text": [
      "Fitting 2 folds for each of 1 candidates, totalling 2 fits\n"
     ]
    },
    {
     "name": "stderr",
     "output_type": "stream",
     "text": [
      "/home/tiger01697/miniconda3/envs/env-myproject-dev/lib/python3.9/site-packages/xgboost/compat.py:36: FutureWarning: pandas.Int64Index is deprecated and will be removed from pandas in a future version. Use pandas.Index with the appropriate dtype instead.\n",
      "  from pandas import MultiIndex, Int64Index\n",
      "/home/tiger01697/miniconda3/envs/env-myproject-dev/lib/python3.9/site-packages/xgboost/compat.py:36: FutureWarning: pandas.Int64Index is deprecated and will be removed from pandas in a future version. Use pandas.Index with the appropriate dtype instead.\n",
      "  from pandas import MultiIndex, Int64Index\n",
      "/home/tiger01697/miniconda3/envs/env-myproject-dev/lib/python3.9/site-packages/xgboost/data.py:262: FutureWarning: pandas.Int64Index is deprecated and will be removed from pandas in a future version. Use pandas.Index with the appropriate dtype instead.\n",
      "  elif isinstance(data.columns, (pd.Int64Index, pd.RangeIndex)):\n",
      "/home/tiger01697/miniconda3/envs/env-myproject-dev/lib/python3.9/site-packages/xgboost/data.py:262: FutureWarning: pandas.Int64Index is deprecated and will be removed from pandas in a future version. Use pandas.Index with the appropriate dtype instead.\n",
      "  elif isinstance(data.columns, (pd.Int64Index, pd.RangeIndex)):\n"
     ]
    },
    {
     "name": "stdout",
     "output_type": "stream",
     "text": [
      "0.7515194159854726\n",
      "{'gamma': 0.03, 'learning_rate': 0.1, 'max_depth': 3, 'min_child_weight': 6, 'n_estimators': 500}\n",
      "CPU times: user 9.29 s, sys: 60.9 ms, total: 9.35 s\n",
      "Wall time: 4min 41s\n"
     ]
    }
   ],
   "source": [
    "%%time\n",
    "parameters = {\n",
    "   'gamma':[0.03],\n",
    "   'min_child_weight':[6],\n",
    "   'learning_rate':[0.1],\n",
    "   'max_depth':[3],\n",
    "   'n_estimators':[500], \n",
    "}\n",
    "est = XGBRegressor()\n",
    "xgb_grid = GridSearchCV(est,\n",
    "                        parameters,\n",
    "                        cv = 2,\n",
    "                        n_jobs = 4,\n",
    "                        verbose=True)\n",
    "\n",
    "xgb_grid.fit(train_X, train_y)\n",
    "\n",
    "print(xgb_grid.best_score_)\n",
    "print(xgb_grid.best_params_)"
   ]
  },
  {
   "attachments": {},
   "cell_type": "markdown",
   "metadata": {},
   "source": [
    "#### Pipeline Build using the best estimator"
   ]
  },
  {
   "cell_type": "code",
   "execution_count": 55,
   "metadata": {},
   "outputs": [
    {
     "data": {
      "text/html": [
       "<style>#sk-container-id-4 {color: black;background-color: white;}#sk-container-id-4 pre{padding: 0;}#sk-container-id-4 div.sk-toggleable {background-color: white;}#sk-container-id-4 label.sk-toggleable__label {cursor: pointer;display: block;width: 100%;margin-bottom: 0;padding: 0.3em;box-sizing: border-box;text-align: center;}#sk-container-id-4 label.sk-toggleable__label-arrow:before {content: \"▸\";float: left;margin-right: 0.25em;color: #696969;}#sk-container-id-4 label.sk-toggleable__label-arrow:hover:before {color: black;}#sk-container-id-4 div.sk-estimator:hover label.sk-toggleable__label-arrow:before {color: black;}#sk-container-id-4 div.sk-toggleable__content {max-height: 0;max-width: 0;overflow: hidden;text-align: left;background-color: #f0f8ff;}#sk-container-id-4 div.sk-toggleable__content pre {margin: 0.2em;color: black;border-radius: 0.25em;background-color: #f0f8ff;}#sk-container-id-4 input.sk-toggleable__control:checked~div.sk-toggleable__content {max-height: 200px;max-width: 100%;overflow: auto;}#sk-container-id-4 input.sk-toggleable__control:checked~label.sk-toggleable__label-arrow:before {content: \"▾\";}#sk-container-id-4 div.sk-estimator input.sk-toggleable__control:checked~label.sk-toggleable__label {background-color: #d4ebff;}#sk-container-id-4 div.sk-label input.sk-toggleable__control:checked~label.sk-toggleable__label {background-color: #d4ebff;}#sk-container-id-4 input.sk-hidden--visually {border: 0;clip: rect(1px 1px 1px 1px);clip: rect(1px, 1px, 1px, 1px);height: 1px;margin: -1px;overflow: hidden;padding: 0;position: absolute;width: 1px;}#sk-container-id-4 div.sk-estimator {font-family: monospace;background-color: #f0f8ff;border: 1px dotted black;border-radius: 0.25em;box-sizing: border-box;margin-bottom: 0.5em;}#sk-container-id-4 div.sk-estimator:hover {background-color: #d4ebff;}#sk-container-id-4 div.sk-parallel-item::after {content: \"\";width: 100%;border-bottom: 1px solid gray;flex-grow: 1;}#sk-container-id-4 div.sk-label:hover label.sk-toggleable__label {background-color: #d4ebff;}#sk-container-id-4 div.sk-serial::before {content: \"\";position: absolute;border-left: 1px solid gray;box-sizing: border-box;top: 0;bottom: 0;left: 50%;z-index: 0;}#sk-container-id-4 div.sk-serial {display: flex;flex-direction: column;align-items: center;background-color: white;padding-right: 0.2em;padding-left: 0.2em;position: relative;}#sk-container-id-4 div.sk-item {position: relative;z-index: 1;}#sk-container-id-4 div.sk-parallel {display: flex;align-items: stretch;justify-content: center;background-color: white;position: relative;}#sk-container-id-4 div.sk-item::before, #sk-container-id-4 div.sk-parallel-item::before {content: \"\";position: absolute;border-left: 1px solid gray;box-sizing: border-box;top: 0;bottom: 0;left: 50%;z-index: -1;}#sk-container-id-4 div.sk-parallel-item {display: flex;flex-direction: column;z-index: 1;position: relative;background-color: white;}#sk-container-id-4 div.sk-parallel-item:first-child::after {align-self: flex-end;width: 50%;}#sk-container-id-4 div.sk-parallel-item:last-child::after {align-self: flex-start;width: 50%;}#sk-container-id-4 div.sk-parallel-item:only-child::after {width: 0;}#sk-container-id-4 div.sk-dashed-wrapped {border: 1px dashed gray;margin: 0 0.4em 0.5em 0.4em;box-sizing: border-box;padding-bottom: 0.4em;background-color: white;}#sk-container-id-4 div.sk-label label {font-family: monospace;font-weight: bold;display: inline-block;line-height: 1.2em;}#sk-container-id-4 div.sk-label-container {text-align: center;}#sk-container-id-4 div.sk-container {/* jupyter's `normalize.less` sets `[hidden] { display: none; }` but bootstrap.min.css set `[hidden] { display: none !important; }` so we also need the `!important` here to be able to override the default hidden behavior on the sphinx rendered scikit-learn.org. See: https://github.com/scikit-learn/scikit-learn/issues/21755 */display: inline-block !important;position: relative;}#sk-container-id-4 div.sk-text-repr-fallback {display: none;}</style><div id=\"sk-container-id-4\" class=\"sk-top-container\"><div class=\"sk-text-repr-fallback\"><pre>Pipeline(steps=[(&#x27;&#x27;,\n",
       "                 FunctionTransformer(func=&lt;function _custom_data_transform at 0x7fe531ef1160&gt;,\n",
       "                                     kw_args={&#x27;cols2keep&#x27;: [&#x27;median_income&#x27;,\n",
       "                                                            &#x27;ocean_proximity&#x27;,\n",
       "                                                            &#x27;latitude&#x27;]})),\n",
       "                (&#x27;XGBoost&#x27;,\n",
       "                 XGBRegressor(base_score=0.5, booster=&#x27;gbtree&#x27;,\n",
       "                              colsample_bylevel=1, colsample_bynode=1,\n",
       "                              colsample_bytree=1, enable_categorical=False,\n",
       "                              gamma=0.03, gpu_id=-1, importance_type=None,\n",
       "                              interaction_constraints=&#x27;&#x27;, learning_rate=0.1,\n",
       "                              max_delta_step=0, max_depth=3, min_child_weight=6,\n",
       "                              missing=nan, monotone_constraints=&#x27;()&#x27;,\n",
       "                              n_estimators=500, n_jobs=8, num_parallel_tree=1,\n",
       "                              predictor=&#x27;auto&#x27;, random_state=0, reg_alpha=0,\n",
       "                              reg_lambda=1, scale_pos_weight=1, subsample=1,\n",
       "                              tree_method=&#x27;exact&#x27;, validate_parameters=1,\n",
       "                              verbosity=None))])</pre><b>In a Jupyter environment, please rerun this cell to show the HTML representation or trust the notebook. <br />On GitHub, the HTML representation is unable to render, please try loading this page with nbviewer.org.</b></div><div class=\"sk-container\" hidden><div class=\"sk-item sk-dashed-wrapped\"><div class=\"sk-label-container\"><div class=\"sk-label sk-toggleable\"><input class=\"sk-toggleable__control sk-hidden--visually\" id=\"sk-estimator-id-9\" type=\"checkbox\" ><label for=\"sk-estimator-id-9\" class=\"sk-toggleable__label sk-toggleable__label-arrow\">Pipeline</label><div class=\"sk-toggleable__content\"><pre>Pipeline(steps=[(&#x27;&#x27;,\n",
       "                 FunctionTransformer(func=&lt;function _custom_data_transform at 0x7fe531ef1160&gt;,\n",
       "                                     kw_args={&#x27;cols2keep&#x27;: [&#x27;median_income&#x27;,\n",
       "                                                            &#x27;ocean_proximity&#x27;,\n",
       "                                                            &#x27;latitude&#x27;]})),\n",
       "                (&#x27;XGBoost&#x27;,\n",
       "                 XGBRegressor(base_score=0.5, booster=&#x27;gbtree&#x27;,\n",
       "                              colsample_bylevel=1, colsample_bynode=1,\n",
       "                              colsample_bytree=1, enable_categorical=False,\n",
       "                              gamma=0.03, gpu_id=-1, importance_type=None,\n",
       "                              interaction_constraints=&#x27;&#x27;, learning_rate=0.1,\n",
       "                              max_delta_step=0, max_depth=3, min_child_weight=6,\n",
       "                              missing=nan, monotone_constraints=&#x27;()&#x27;,\n",
       "                              n_estimators=500, n_jobs=8, num_parallel_tree=1,\n",
       "                              predictor=&#x27;auto&#x27;, random_state=0, reg_alpha=0,\n",
       "                              reg_lambda=1, scale_pos_weight=1, subsample=1,\n",
       "                              tree_method=&#x27;exact&#x27;, validate_parameters=1,\n",
       "                              verbosity=None))])</pre></div></div></div><div class=\"sk-serial\"><div class=\"sk-item\"><div class=\"sk-estimator sk-toggleable\"><input class=\"sk-toggleable__control sk-hidden--visually\" id=\"sk-estimator-id-10\" type=\"checkbox\" ><label for=\"sk-estimator-id-10\" class=\"sk-toggleable__label sk-toggleable__label-arrow\">FunctionTransformer</label><div class=\"sk-toggleable__content\"><pre>FunctionTransformer(func=&lt;function _custom_data_transform at 0x7fe531ef1160&gt;,\n",
       "                    kw_args={&#x27;cols2keep&#x27;: [&#x27;median_income&#x27;, &#x27;ocean_proximity&#x27;,\n",
       "                                           &#x27;latitude&#x27;]})</pre></div></div></div><div class=\"sk-item\"><div class=\"sk-estimator sk-toggleable\"><input class=\"sk-toggleable__control sk-hidden--visually\" id=\"sk-estimator-id-11\" type=\"checkbox\" ><label for=\"sk-estimator-id-11\" class=\"sk-toggleable__label sk-toggleable__label-arrow\">XGBRegressor</label><div class=\"sk-toggleable__content\"><pre>XGBRegressor(base_score=0.5, booster=&#x27;gbtree&#x27;, colsample_bylevel=1,\n",
       "             colsample_bynode=1, colsample_bytree=1, enable_categorical=False,\n",
       "             gamma=0.03, gpu_id=-1, importance_type=None,\n",
       "             interaction_constraints=&#x27;&#x27;, learning_rate=0.1, max_delta_step=0,\n",
       "             max_depth=3, min_child_weight=6, missing=nan,\n",
       "             monotone_constraints=&#x27;()&#x27;, n_estimators=500, n_jobs=8,\n",
       "             num_parallel_tree=1, predictor=&#x27;auto&#x27;, random_state=0, reg_alpha=0,\n",
       "             reg_lambda=1, scale_pos_weight=1, subsample=1, tree_method=&#x27;exact&#x27;,\n",
       "             validate_parameters=1, verbosity=None)</pre></div></div></div></div></div></div></div>"
      ],
      "text/plain": [
       "Pipeline(steps=[('',\n",
       "                 FunctionTransformer(func=<function _custom_data_transform at 0x7fe531ef1160>,\n",
       "                                     kw_args={'cols2keep': ['median_income',\n",
       "                                                            'ocean_proximity',\n",
       "                                                            'latitude']})),\n",
       "                ('XGBoost',\n",
       "                 XGBRegressor(base_score=0.5, booster='gbtree',\n",
       "                              colsample_bylevel=1, colsample_bynode=1,\n",
       "                              colsample_bytree=1, enable_categorical=False,\n",
       "                              gamma=0.03, gpu_id=-1, importance_type=None,\n",
       "                              interaction_constraints='', learning_rate=0.1,\n",
       "                              max_delta_step=0, max_depth=3, min_child_weight=6,\n",
       "                              missing=nan, monotone_constraints='()',\n",
       "                              n_estimators=500, n_jobs=8, num_parallel_tree=1,\n",
       "                              predictor='auto', random_state=0, reg_alpha=0,\n",
       "                              reg_lambda=1, scale_pos_weight=1, subsample=1,\n",
       "                              tree_method='exact', validate_parameters=1,\n",
       "                              verbosity=None))])"
      ]
     },
     "execution_count": 55,
     "metadata": {},
     "output_type": "execute_result"
    }
   ],
   "source": [
    "xgb_pipeline_final = Pipeline([\n",
    "    ('', FunctionTransformer(_custom_data_transform, kw_args={'cols2keep':imp_features})),\n",
    "    ('XGBoost', xgb_grid.best_estimator_)\n",
    "])\n",
    "xgb_pipeline_final.fit(train_X, train_y)"
   ]
  },
  {
   "cell_type": "code",
   "execution_count": 56,
   "metadata": {},
   "outputs": [],
   "source": [
    "reg_tree_report = RegressionReport(model=xgb_pipeline_final, x_train=train_X, y_train=train_y, x_test= test_X, y_test= test_y)\n",
    "reg_tree_report.get_report(include_shap=False, file_path='regression_tree_model_report')"
   ]
  },
  {
   "attachments": {},
   "cell_type": "markdown",
   "metadata": {},
   "source": [
    "The Regression report containing the feature importances are available [here](https://drive.google.com/file/d/1JBfL3uxPcxBfl0amweXBFmLr7CSHFBUO/view?usp=sharing)"
   ]
  },
  {
   "attachments": {},
   "cell_type": "markdown",
   "metadata": {},
   "source": [
    "# 5 Model Comparison"
   ]
  },
  {
   "attachments": {},
   "cell_type": "markdown",
   "metadata": {},
   "source": [
    "Now, a comparison report of the  linear (vs) tree -based model  approach can be generated as follows.\n",
    "\n",
    "This code will not be part of the production code."
   ]
  },
  {
   "cell_type": "code",
   "execution_count": 62,
   "metadata": {},
   "outputs": [],
   "source": [
    "model_pipelines = [reg_ppln, xgb_pipeline_final]\n",
    "model_comparison_report = RegressionComparison(models=model_pipelines,x=train_X, y=train_y)\n",
    "# metrics = model_comparison_report.get_report(file_path='regression_comparison')"
   ]
  },
  {
   "cell_type": "code",
   "execution_count": 61,
   "metadata": {},
   "outputs": [
    {
     "data": {
      "text/html": [
       "<div>\n",
       "<style scoped>\n",
       "    .dataframe tbody tr th:only-of-type {\n",
       "        vertical-align: middle;\n",
       "    }\n",
       "\n",
       "    .dataframe tbody tr th {\n",
       "        vertical-align: top;\n",
       "    }\n",
       "\n",
       "    .dataframe thead th {\n",
       "        text-align: right;\n",
       "    }\n",
       "</style>\n",
       "<table border=\"1\" class=\"dataframe\">\n",
       "  <thead>\n",
       "    <tr style=\"text-align: right;\">\n",
       "      <th>metric</th>\n",
       "      <th>MAPE</th>\n",
       "      <th>WMAPE</th>\n",
       "      <th>MAE</th>\n",
       "      <th>RMSE</th>\n",
       "      <th>R^2</th>\n",
       "    </tr>\n",
       "  </thead>\n",
       "  <tbody>\n",
       "    <tr>\n",
       "      <th>, Linear Regression</th>\n",
       "      <td>0.2991</td>\n",
       "      <td>0.2562</td>\n",
       "      <td>53025.6391</td>\n",
       "      <td>72421.6940</td>\n",
       "      <td>0.6062</td>\n",
       "    </tr>\n",
       "    <tr>\n",
       "      <th>, XGBoost</th>\n",
       "      <td>0.2320</td>\n",
       "      <td>0.2054</td>\n",
       "      <td>42504.2408</td>\n",
       "      <td>60792.4685</td>\n",
       "      <td>0.7225</td>\n",
       "    </tr>\n",
       "  </tbody>\n",
       "</table>\n",
       "</div>"
      ],
      "text/plain": [
       "metric                 MAPE   WMAPE         MAE        RMSE     R^2\n",
       ", Linear Regression  0.2991  0.2562  53025.6391  72421.6940  0.6062\n",
       ", XGBoost            0.2320  0.2054  42504.2408  60792.4685  0.7225"
      ]
     },
     "execution_count": 61,
     "metadata": {},
     "output_type": "execute_result"
    }
   ],
   "source": [
    "model_comparison_report.performance_metrics"
   ]
  },
  {
   "attachments": {},
   "cell_type": "markdown",
   "metadata": {},
   "source": [
    "A report comparing the performance, metrics between Linear model and Tree model are available [here](https://drive.google.com/file/d/1LDibiFap9K4DKME-Y0S0mtI_05lTdaJF/view?usp=sharing)"
   ]
  },
  {
   "attachments": {},
   "cell_type": "markdown",
   "metadata": {},
   "source": [
    "**Dev NOTES**\n",
    "<details>\n",
    "\n",
    "the above metrics are absolute nos and not %ges"
   ]
  },
  {
   "attachments": {},
   "cell_type": "markdown",
   "metadata": {},
   "source": [
    "In this example we are choosing LM model for pipelining. General criteria for choosing production models is:\n",
    "\n",
    "- Parametric models (aka whitebox models) such as Linear Regression are easier to explain to non-technical audience.\n",
    "- Generally these are accepted fast and adoption is quicker.\n",
    "- If the downstream calls for optimization using these models parametric models are easier to implement.\n",
    "- When accuracy is primary goal without explainability, the above two takes a backseat"
   ]
  },
  {
   "cell_type": "code",
   "execution_count": null,
   "metadata": {},
   "outputs": [],
   "source": []
  }
 ],
 "metadata": {
  "kernelspec": {
   "display_name": "Python 3 (ipykernel)",
   "language": "python",
   "name": "python3"
  },
  "language_info": {
   "codemirror_mode": {
    "name": "ipython",
    "version": 3
   },
   "file_extension": ".py",
   "mimetype": "text/x-python",
   "name": "python",
   "nbconvert_exporter": "python",
   "pygments_lexer": "ipython3",
   "version": "3.9.16"
  }
 },
 "nbformat": 4,
 "nbformat_minor": 4
}
